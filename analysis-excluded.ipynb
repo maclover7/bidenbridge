{
 "cells": [
  {
   "cell_type": "markdown",
   "id": "da331f8a-b46d-4db4-8928-0e8bc6621a3e",
   "metadata": {},
   "source": [
    "# Analyze poor municipal bridges not in TYP"
   ]
  },
  {
   "cell_type": "markdown",
   "id": "0b2ed593-d107-4f13-af52-5558244d2268",
   "metadata": {},
   "source": [
    "### Import latest PennDOT bridge data"
   ]
  },
  {
   "cell_type": "markdown",
   "id": "343b5ea6-c465-4f9c-9cab-fb7ddb2fa6d5",
   "metadata": {},
   "source": [
    "### Import construction projects"
   ]
  },
  {
   "cell_type": "markdown",
   "id": "a7d45e58-036e-466c-bbd0-eaaf1944fec1",
   "metadata": {},
   "source": [
    "### Filter for bridges with no scheduled construction"
   ]
  },
  {
   "cell_type": "markdown",
   "id": "6a111b89-f4d5-42f5-92b5-9da8826c615e",
   "metadata": {},
   "source": [
    "### Group by municipality"
   ]
  }
 ],
 "metadata": {
  "kernelspec": {
   "display_name": "Python 3 (ipykernel)",
   "language": "python",
   "name": "python3"
  },
  "language_info": {
   "codemirror_mode": {
    "name": "ipython",
    "version": 3
   },
   "file_extension": ".py",
   "mimetype": "text/x-python",
   "name": "python",
   "nbconvert_exporter": "python",
   "pygments_lexer": "ipython3",
   "version": "3.10.9"
  }
 },
 "nbformat": 4,
 "nbformat_minor": 5
}
