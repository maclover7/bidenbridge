{
 "cells": [
  {
   "cell_type": "markdown",
   "id": "da331f8a-b46d-4db4-8928-0e8bc6621a3e",
   "metadata": {},
   "source": [
    "# Analyze poor municipal bridges not in TYP"
   ]
  },
  {
   "cell_type": "code",
   "execution_count": 1,
   "id": "d23eafac-6bd8-4077-adba-fb8799bec480",
   "metadata": {
    "tags": []
   },
   "outputs": [],
   "source": [
    "import pandas as pd"
   ]
  },
  {
   "cell_type": "markdown",
   "id": "0b2ed593-d107-4f13-af52-5558244d2268",
   "metadata": {},
   "source": [
    "### Import latest PennDOT bridge data"
   ]
  },
  {
   "cell_type": "code",
   "execution_count": 54,
   "id": "7f60cbfc-ac0f-4abd-ae7c-1fdacaacaff2",
   "metadata": {
    "tags": []
   },
   "outputs": [],
   "source": [
    "bridges = pd.read_csv('input/onemap.csv', usecols=['BRKEY', 'REPORTGROUP', 'OWNER', 'CONDITION', 'PLACECODE', 'ADTTOTAL'])\n",
    "bridges = bridges[(bridges.REPORTGROUP == 'L1') & (bridges.CONDITION == 'P')]\n",
    "\n",
    "bridges['OWNER'] = bridges.OWNER.replace({\n",
    "    2: 'COUNTY HIGHWAY AGENCY',\n",
    "    3: 'BOROUGH-CITY-TOWNSHIP',\n",
    "    4: 'BOROUGH-CITY-TOWNSHIP',\n",
    "    25: 'OTHER LOCAL AGENCIES',\n",
    "    27: 'RAILROAD'\n",
    "})"
   ]
  },
  {
   "cell_type": "code",
   "execution_count": 55,
   "id": "8dd87e7f-964b-4ca5-9bbe-eb5727538dbc",
   "metadata": {
    "tags": []
   },
   "outputs": [
    {
     "name": "stdout",
     "output_type": "stream",
     "text": [
      "<class 'pandas.core.frame.DataFrame'>\n",
      "Int64Index: 348 entries, 41 to 12659\n",
      "Data columns (total 6 columns):\n",
      " #   Column       Non-Null Count  Dtype  \n",
      "---  ------       --------------  -----  \n",
      " 0   ADTTOTAL     348 non-null    float64\n",
      " 1   OWNER        348 non-null    object \n",
      " 2   PLACECODE    348 non-null    int64  \n",
      " 3   REPORTGROUP  348 non-null    object \n",
      " 4   CONDITION    348 non-null    object \n",
      " 5   BRKEY        348 non-null    int64  \n",
      "dtypes: float64(1), int64(2), object(3)\n",
      "memory usage: 19.0+ KB\n"
     ]
    }
   ],
   "source": [
    "bridges.info()"
   ]
  },
  {
   "cell_type": "markdown",
   "id": "343b5ea6-c465-4f9c-9cab-fb7ddb2fa6d5",
   "metadata": {},
   "source": [
    "### Import construction projects"
   ]
  },
  {
   "cell_type": "code",
   "execution_count": 37,
   "id": "ec20509a-6d06-4c38-8eb4-6e9bb14cc462",
   "metadata": {},
   "outputs": [],
   "source": [
    "projects = pd.read_csv('input/projects.csv', usecols=['BRIDGE KEY'])\n",
    "projects = pd.DataFrame(projects['BRIDGE KEY'].unique(), columns=['BRKEY'])"
   ]
  },
  {
   "cell_type": "markdown",
   "id": "5fa124fa-b9db-4daa-b592-a9df84896552",
   "metadata": {},
   "source": [
    "### Filter for bridges which have been \"poor\" since at least 2020"
   ]
  },
  {
   "cell_type": "code",
   "execution_count": 56,
   "id": "8bccc1e9-c2ba-405c-925d-e2150f26e6a7",
   "metadata": {
    "tags": []
   },
   "outputs": [
    {
     "name": "stderr",
     "output_type": "stream",
     "text": [
      "/var/folders/m6/nmg96kbd65n3tz43pzrdnnw00000gn/T/ipykernel_80080/63071385.py:1: DtypeWarning: Columns (1) have mixed types. Specify dtype option on import or set low_memory=False.\n",
      "  nbi2021 = pd.read_csv('input/nbi2021.csv', usecols=['STRUCTURE_NUMBER_008', 'BRIDGE_CONDITION'])\n"
     ]
    }
   ],
   "source": [
    "nbi2021 = pd.read_csv('input/nbi2021.csv', usecols=['STRUCTURE_NUMBER_008', 'BRIDGE_CONDITION'])\n",
    "\n",
    "nbi2021 = nbi2021[\n",
    "    (nbi2021.STRUCTURE_NUMBER_008.notna()) &\n",
    "    (nbi2021.STRUCTURE_NUMBER_008.str.isdigit()) &\n",
    "    (nbi2021.BRIDGE_CONDITION == 'P')\n",
    "]\n",
    "\n",
    "nbi2021['STRUCTURE_NUMBER_008'] = nbi2021['STRUCTURE_NUMBER_008'].astype(int)"
   ]
  },
  {
   "cell_type": "code",
   "execution_count": 57,
   "id": "119a82b5-86d4-4e1d-ace5-c80c9d2cec77",
   "metadata": {
    "tags": []
   },
   "outputs": [],
   "source": [
    "lala = pd.merge(bridges, nbi2021, left_on='BRKEY', right_on='STRUCTURE_NUMBER_008', how='left', indicator='nbimerge')"
   ]
  },
  {
   "cell_type": "code",
   "execution_count": 58,
   "id": "0f75e035-3577-4f82-9339-493bed0a555f",
   "metadata": {
    "tags": []
   },
   "outputs": [
    {
     "data": {
      "text/plain": [
       "both          195\n",
       "left_only     153\n",
       "right_only      0\n",
       "Name: nbimerge, dtype: int64"
      ]
     },
     "execution_count": 58,
     "metadata": {},
     "output_type": "execute_result"
    }
   ],
   "source": [
    "lala.nbimerge.value_counts()"
   ]
  },
  {
   "cell_type": "code",
   "execution_count": 59,
   "id": "85b55a30-4c46-4b93-a7d4-d59ec862c585",
   "metadata": {
    "tags": []
   },
   "outputs": [],
   "source": [
    "bridges = lala"
   ]
  },
  {
   "cell_type": "markdown",
   "id": "a7d45e58-036e-466c-bbd0-eaaf1944fec1",
   "metadata": {},
   "source": [
    "### Filter for bridges with no scheduled construction"
   ]
  },
  {
   "cell_type": "code",
   "execution_count": 60,
   "id": "5747580c-460c-4bdd-a38d-79688a90a704",
   "metadata": {},
   "outputs": [],
   "source": [
    "bridges = pd.merge(\n",
    "    bridges, projects,\n",
    "    on='BRKEY',\n",
    "    how='left',\n",
    "    indicator=True\n",
    ")"
   ]
  },
  {
   "cell_type": "code",
   "execution_count": 61,
   "id": "5385b4b1-b736-46a1-bf71-86c68e826d55",
   "metadata": {
    "tags": []
   },
   "outputs": [
    {
     "data": {
      "text/html": [
       "<div>\n",
       "<style scoped>\n",
       "    .dataframe tbody tr th:only-of-type {\n",
       "        vertical-align: middle;\n",
       "    }\n",
       "\n",
       "    .dataframe tbody tr th {\n",
       "        vertical-align: top;\n",
       "    }\n",
       "\n",
       "    .dataframe thead th {\n",
       "        text-align: right;\n",
       "    }\n",
       "</style>\n",
       "<table border=\"1\" class=\"dataframe\">\n",
       "  <thead>\n",
       "    <tr style=\"text-align: right;\">\n",
       "      <th></th>\n",
       "      <th>_merge</th>\n",
       "      <th>pct</th>\n",
       "    </tr>\n",
       "  </thead>\n",
       "  <tbody>\n",
       "    <tr>\n",
       "      <th>left_only</th>\n",
       "      <td>285</td>\n",
       "      <td>0.818966</td>\n",
       "    </tr>\n",
       "    <tr>\n",
       "      <th>both</th>\n",
       "      <td>63</td>\n",
       "      <td>0.181034</td>\n",
       "    </tr>\n",
       "    <tr>\n",
       "      <th>right_only</th>\n",
       "      <td>0</td>\n",
       "      <td>0.000000</td>\n",
       "    </tr>\n",
       "  </tbody>\n",
       "</table>\n",
       "</div>"
      ],
      "text/plain": [
       "            _merge       pct\n",
       "left_only      285  0.818966\n",
       "both            63  0.181034\n",
       "right_only       0  0.000000"
      ]
     },
     "execution_count": 61,
     "metadata": {},
     "output_type": "execute_result"
    }
   ],
   "source": [
    "bridgesummary = bridges._merge.value_counts().to_frame()\n",
    "bridgesummary['pct'] = bridgesummary._merge / bridgesummary._merge.sum()\n",
    "bridgesummary"
   ]
  },
  {
   "cell_type": "markdown",
   "id": "6a111b89-f4d5-42f5-92b5-9da8826c615e",
   "metadata": {},
   "source": [
    "### Group by municipality"
   ]
  },
  {
   "cell_type": "code",
   "execution_count": 62,
   "id": "7e8e2a91-8836-4818-899e-44e9f8a5d2bd",
   "metadata": {
    "tags": []
   },
   "outputs": [],
   "source": [
    "placecodes = pd.read_csv('input/placecode.csv')"
   ]
  },
  {
   "cell_type": "code",
   "execution_count": 72,
   "id": "95c500de-a329-484e-af57-578baaf4fef9",
   "metadata": {
    "tags": []
   },
   "outputs": [
    {
     "data": {
      "text/html": [
       "<div>\n",
       "<style scoped>\n",
       "    .dataframe tbody tr th:only-of-type {\n",
       "        vertical-align: middle;\n",
       "    }\n",
       "\n",
       "    .dataframe tbody tr th {\n",
       "        vertical-align: top;\n",
       "    }\n",
       "\n",
       "    .dataframe thead th {\n",
       "        text-align: right;\n",
       "    }\n",
       "</style>\n",
       "<table border=\"1\" class=\"dataframe\">\n",
       "  <thead>\n",
       "    <tr style=\"text-align: right;\">\n",
       "      <th></th>\n",
       "      <th>PLACECODE</th>\n",
       "      <th>projCount</th>\n",
       "      <th>poorCount</th>\n",
       "      <th>projADT</th>\n",
       "      <th>poorADT</th>\n",
       "      <th>MUNICIPALITY</th>\n",
       "      <th>projPct</th>\n",
       "      <th>ADTPct</th>\n",
       "    </tr>\n",
       "  </thead>\n",
       "  <tbody>\n",
       "    <tr>\n",
       "      <th>43</th>\n",
       "      <td>61000</td>\n",
       "      <td>12.0</td>\n",
       "      <td>19.0</td>\n",
       "      <td>76886.0</td>\n",
       "      <td>107223.0</td>\n",
       "      <td>02/301 - PITTSBURGH</td>\n",
       "      <td>0.631579</td>\n",
       "      <td>0.717066</td>\n",
       "    </tr>\n",
       "    <tr>\n",
       "      <th>56</th>\n",
       "      <td>78528</td>\n",
       "      <td>2.0</td>\n",
       "      <td>3.0</td>\n",
       "      <td>16580.0</td>\n",
       "      <td>16780.0</td>\n",
       "      <td>26/302 - UNIONTOWN</td>\n",
       "      <td>0.666667</td>\n",
       "      <td>0.988081</td>\n",
       "    </tr>\n",
       "    <tr>\n",
       "      <th>29</th>\n",
       "      <td>49920</td>\n",
       "      <td>3.0</td>\n",
       "      <td>5.0</td>\n",
       "      <td>5050.0</td>\n",
       "      <td>14050.0</td>\n",
       "      <td>02/445 - MILLVALE</td>\n",
       "      <td>0.600000</td>\n",
       "      <td>0.359431</td>\n",
       "    </tr>\n",
       "    <tr>\n",
       "      <th>42</th>\n",
       "      <td>60712</td>\n",
       "      <td>1.0</td>\n",
       "      <td>2.0</td>\n",
       "      <td>100.0</td>\n",
       "      <td>5100.0</td>\n",
       "      <td>02/453 - PITCAIRN</td>\n",
       "      <td>0.500000</td>\n",
       "      <td>0.019608</td>\n",
       "    </tr>\n",
       "    <tr>\n",
       "      <th>27</th>\n",
       "      <td>46256</td>\n",
       "      <td>1.0</td>\n",
       "      <td>2.0</td>\n",
       "      <td>0.0</td>\n",
       "      <td>3300.0</td>\n",
       "      <td>02/304 - MCKEESPORT</td>\n",
       "      <td>0.500000</td>\n",
       "      <td>0.000000</td>\n",
       "    </tr>\n",
       "    <tr>\n",
       "      <th>3</th>\n",
       "      <td>9432</td>\n",
       "      <td>0.0</td>\n",
       "      <td>2.0</td>\n",
       "      <td>0.0</td>\n",
       "      <td>1500.0</td>\n",
       "      <td>26/402 - BROWNSVILLE</td>\n",
       "      <td>0.000000</td>\n",
       "      <td>0.000000</td>\n",
       "    </tr>\n",
       "    <tr>\n",
       "      <th>14</th>\n",
       "      <td>15776</td>\n",
       "      <td>0.0</td>\n",
       "      <td>3.0</td>\n",
       "      <td>0.0</td>\n",
       "      <td>1476.0</td>\n",
       "      <td>26/301 - CONNELLSVILLE</td>\n",
       "      <td>0.000000</td>\n",
       "      <td>0.000000</td>\n",
       "    </tr>\n",
       "    <tr>\n",
       "      <th>38</th>\n",
       "      <td>58880</td>\n",
       "      <td>0.0</td>\n",
       "      <td>2.0</td>\n",
       "      <td>0.0</td>\n",
       "      <td>1050.0</td>\n",
       "      <td>64/102 - PENN</td>\n",
       "      <td>0.000000</td>\n",
       "      <td>0.000000</td>\n",
       "    </tr>\n",
       "    <tr>\n",
       "      <th>16</th>\n",
       "      <td>18968</td>\n",
       "      <td>0.0</td>\n",
       "      <td>2.0</td>\n",
       "      <td>0.0</td>\n",
       "      <td>850.0</td>\n",
       "      <td>64/204 - DERRY</td>\n",
       "      <td>0.000000</td>\n",
       "      <td>0.000000</td>\n",
       "    </tr>\n",
       "    <tr>\n",
       "      <th>8</th>\n",
       "      <td>11176</td>\n",
       "      <td>0.0</td>\n",
       "      <td>3.0</td>\n",
       "      <td>0.0</td>\n",
       "      <td>700.0</td>\n",
       "      <td>62/204 - CANTON</td>\n",
       "      <td>0.000000</td>\n",
       "      <td>0.000000</td>\n",
       "    </tr>\n",
       "    <tr>\n",
       "      <th>19</th>\n",
       "      <td>23000</td>\n",
       "      <td>0.0</td>\n",
       "      <td>2.0</td>\n",
       "      <td>0.0</td>\n",
       "      <td>700.0</td>\n",
       "      <td>02/105 - ELIZABETH</td>\n",
       "      <td>0.000000</td>\n",
       "      <td>0.000000</td>\n",
       "    </tr>\n",
       "    <tr>\n",
       "      <th>35</th>\n",
       "      <td>55016</td>\n",
       "      <td>1.0</td>\n",
       "      <td>3.0</td>\n",
       "      <td>300.0</td>\n",
       "      <td>600.0</td>\n",
       "      <td>02/214 - NORTH FAYETTE</td>\n",
       "      <td>0.333333</td>\n",
       "      <td>0.500000</td>\n",
       "    </tr>\n",
       "    <tr>\n",
       "      <th>28</th>\n",
       "      <td>48616</td>\n",
       "      <td>0.0</td>\n",
       "      <td>2.0</td>\n",
       "      <td>0.0</td>\n",
       "      <td>600.0</td>\n",
       "      <td>26/212 - MENALLEN</td>\n",
       "      <td>0.000000</td>\n",
       "      <td>0.000000</td>\n",
       "    </tr>\n",
       "    <tr>\n",
       "      <th>61</th>\n",
       "      <td>81776</td>\n",
       "      <td>0.0</td>\n",
       "      <td>2.0</td>\n",
       "      <td>0.0</td>\n",
       "      <td>582.0</td>\n",
       "      <td>37/216 - WAYNE</td>\n",
       "      <td>0.000000</td>\n",
       "      <td>0.000000</td>\n",
       "    </tr>\n",
       "    <tr>\n",
       "      <th>11</th>\n",
       "      <td>14048</td>\n",
       "      <td>0.0</td>\n",
       "      <td>2.0</td>\n",
       "      <td>0.0</td>\n",
       "      <td>500.0</td>\n",
       "      <td>10/208 - CLEARFIELD</td>\n",
       "      <td>0.000000</td>\n",
       "      <td>0.000000</td>\n",
       "    </tr>\n",
       "    <tr>\n",
       "      <th>22</th>\n",
       "      <td>28792</td>\n",
       "      <td>0.0</td>\n",
       "      <td>2.0</td>\n",
       "      <td>0.0</td>\n",
       "      <td>475.0</td>\n",
       "      <td>26/206 - GEORGES</td>\n",
       "      <td>0.000000</td>\n",
       "      <td>0.000000</td>\n",
       "    </tr>\n",
       "    <tr>\n",
       "      <th>45</th>\n",
       "      <td>67640</td>\n",
       "      <td>0.0</td>\n",
       "      <td>2.0</td>\n",
       "      <td>0.0</td>\n",
       "      <td>430.0</td>\n",
       "      <td>26/217 - SALTLICK</td>\n",
       "      <td>0.000000</td>\n",
       "      <td>0.000000</td>\n",
       "    </tr>\n",
       "    <tr>\n",
       "      <th>52</th>\n",
       "      <td>73240</td>\n",
       "      <td>0.0</td>\n",
       "      <td>2.0</td>\n",
       "      <td>0.0</td>\n",
       "      <td>350.0</td>\n",
       "      <td>26/220 - SPRINGHILL</td>\n",
       "      <td>0.000000</td>\n",
       "      <td>0.000000</td>\n",
       "    </tr>\n",
       "    <tr>\n",
       "      <th>51</th>\n",
       "      <td>73064</td>\n",
       "      <td>0.0</td>\n",
       "      <td>2.0</td>\n",
       "      <td>0.0</td>\n",
       "      <td>70.0</td>\n",
       "      <td>26/219 - SPRINGFIELD</td>\n",
       "      <td>0.000000</td>\n",
       "      <td>0.000000</td>\n",
       "    </tr>\n",
       "  </tbody>\n",
       "</table>\n",
       "</div>"
      ],
      "text/plain": [
       "    PLACECODE  projCount  poorCount  projADT   poorADT  \\\n",
       "43      61000       12.0       19.0  76886.0  107223.0   \n",
       "56      78528        2.0        3.0  16580.0   16780.0   \n",
       "29      49920        3.0        5.0   5050.0   14050.0   \n",
       "42      60712        1.0        2.0    100.0    5100.0   \n",
       "27      46256        1.0        2.0      0.0    3300.0   \n",
       "3        9432        0.0        2.0      0.0    1500.0   \n",
       "14      15776        0.0        3.0      0.0    1476.0   \n",
       "38      58880        0.0        2.0      0.0    1050.0   \n",
       "16      18968        0.0        2.0      0.0     850.0   \n",
       "8       11176        0.0        3.0      0.0     700.0   \n",
       "19      23000        0.0        2.0      0.0     700.0   \n",
       "35      55016        1.0        3.0    300.0     600.0   \n",
       "28      48616        0.0        2.0      0.0     600.0   \n",
       "61      81776        0.0        2.0      0.0     582.0   \n",
       "11      14048        0.0        2.0      0.0     500.0   \n",
       "22      28792        0.0        2.0      0.0     475.0   \n",
       "45      67640        0.0        2.0      0.0     430.0   \n",
       "52      73240        0.0        2.0      0.0     350.0   \n",
       "51      73064        0.0        2.0      0.0      70.0   \n",
       "\n",
       "              MUNICIPALITY   projPct    ADTPct  \n",
       "43     02/301 - PITTSBURGH  0.631579  0.717066  \n",
       "56      26/302 - UNIONTOWN  0.666667  0.988081  \n",
       "29       02/445 - MILLVALE  0.600000  0.359431  \n",
       "42       02/453 - PITCAIRN  0.500000  0.019608  \n",
       "27     02/304 - MCKEESPORT  0.500000  0.000000  \n",
       "3     26/402 - BROWNSVILLE  0.000000  0.000000  \n",
       "14  26/301 - CONNELLSVILLE  0.000000  0.000000  \n",
       "38           64/102 - PENN  0.000000  0.000000  \n",
       "16          64/204 - DERRY  0.000000  0.000000  \n",
       "8          62/204 - CANTON  0.000000  0.000000  \n",
       "19      02/105 - ELIZABETH  0.000000  0.000000  \n",
       "35  02/214 - NORTH FAYETTE  0.333333  0.500000  \n",
       "28       26/212 - MENALLEN  0.000000  0.000000  \n",
       "61          37/216 - WAYNE  0.000000  0.000000  \n",
       "11     10/208 - CLEARFIELD  0.000000  0.000000  \n",
       "22        26/206 - GEORGES  0.000000  0.000000  \n",
       "45       26/217 - SALTLICK  0.000000  0.000000  \n",
       "52     26/220 - SPRINGHILL  0.000000  0.000000  \n",
       "51    26/219 - SPRINGFIELD  0.000000  0.000000  "
      ]
     },
     "execution_count": 72,
     "metadata": {},
     "output_type": "execute_result"
    }
   ],
   "source": [
    "bridgesbymuni = bridges[\n",
    "    (bridges.OWNER == 'BOROUGH-CITY-TOWNSHIP') &\n",
    "    (bridges.nbimerge == 'both')\n",
    "].groupby('PLACECODE').apply(lambda x: pd.Series(dict(\n",
    "    projCount=len(x[x._merge == 'both']),\n",
    "    poorCount=len(x.BRKEY),\n",
    "    projADT=x[x._merge == 'both'].ADTTOTAL.sum(),\n",
    "    poorADT=x.ADTTOTAL.sum(),\n",
    ")))\n",
    "\n",
    "bridgesbymuni = pd.merge(bridgesbymuni, placecodes, on='PLACECODE')\n",
    "\n",
    "bridgesbymuni['projPct'] = bridgesbymuni.projCount / bridgesbymuni.poorCount\n",
    "bridgesbymuni['ADTPct'] = bridgesbymuni.projADT / bridgesbymuni.poorADT\n",
    "\n",
    "bridgesbymuni[bridgesbymuni.poorCount > 1].sort_values(by=['poorADT', 'ADTPct'], ascending=False)"
   ]
  },
  {
   "cell_type": "code",
   "execution_count": 64,
   "id": "f452b7bb-11d4-446a-99d5-a5cd9f488fb7",
   "metadata": {
    "tags": []
   },
   "outputs": [
    {
     "data": {
      "text/plain": [
       "85     37018\n",
       "89     37016\n",
       "104    37024\n",
       "111    37013\n",
       "165    37017\n",
       "250    37023\n",
       "Name: BRKEY, dtype: int64"
      ]
     },
     "execution_count": 64,
     "metadata": {},
     "output_type": "execute_result"
    }
   ],
   "source": [
    "bridges[bridges.PLACECODE == 52432].BRKEY"
   ]
  },
  {
   "cell_type": "code",
   "execution_count": 71,
   "id": "d34ba0bd-de55-4dc7-9254-65db40b82d19",
   "metadata": {
    "tags": []
   },
   "outputs": [
    {
     "data": {
      "text/html": [
       "<div>\n",
       "<style scoped>\n",
       "    .dataframe tbody tr th:only-of-type {\n",
       "        vertical-align: middle;\n",
       "    }\n",
       "\n",
       "    .dataframe tbody tr th {\n",
       "        vertical-align: top;\n",
       "    }\n",
       "\n",
       "    .dataframe thead th {\n",
       "        text-align: right;\n",
       "    }\n",
       "</style>\n",
       "<table border=\"1\" class=\"dataframe\">\n",
       "  <thead>\n",
       "    <tr style=\"text-align: right;\">\n",
       "      <th></th>\n",
       "      <th>STRUCTURE_NUMBER_008</th>\n",
       "      <th>BRIDGE_CONDITION</th>\n",
       "    </tr>\n",
       "  </thead>\n",
       "  <tbody>\n",
       "  </tbody>\n",
       "</table>\n",
       "</div>"
      ],
      "text/plain": [
       "Empty DataFrame\n",
       "Columns: [STRUCTURE_NUMBER_008, BRIDGE_CONDITION]\n",
       "Index: []"
      ]
     },
     "execution_count": 71,
     "metadata": {},
     "output_type": "execute_result"
    }
   ],
   "source": [
    "nbi2021[nbi2021.STRUCTURE_NUMBER_008 == 37023]"
   ]
  },
  {
   "cell_type": "code",
   "execution_count": null,
   "id": "3cb1045e-0539-481d-9c93-e1bb597dd8b2",
   "metadata": {},
   "outputs": [],
   "source": []
  },
  {
   "cell_type": "code",
   "execution_count": null,
   "id": "d8b2e64a-66ba-478e-b820-9fd7a77fa164",
   "metadata": {},
   "outputs": [],
   "source": []
  },
  {
   "cell_type": "code",
   "execution_count": null,
   "id": "1c15d29f-c849-4e95-9b96-f36f467bd5f4",
   "metadata": {},
   "outputs": [],
   "source": []
  },
  {
   "cell_type": "code",
   "execution_count": 73,
   "id": "021a939e-d07c-413a-86ae-490d6eea6a4c",
   "metadata": {
    "tags": []
   },
   "outputs": [
    {
     "name": "stderr",
     "output_type": "stream",
     "text": [
      "/var/folders/m6/nmg96kbd65n3tz43pzrdnnw00000gn/T/ipykernel_80080/298172630.py:1: DtypeWarning: Columns (9,46,57,83,85,87,102,104) have mixed types. Specify dtype option on import or set low_memory=False.\n",
      "  br = pd.read_csv('input/onemap.csv')\n"
     ]
    }
   ],
   "source": [
    "br = pd.read_csv('input/onemap.csv')"
   ]
  },
  {
   "cell_type": "code",
   "execution_count": 87,
   "id": "8f892859-20ad-4090-9ab0-5eb1a0ca0247",
   "metadata": {
    "tags": []
   },
   "outputs": [],
   "source": [
    "# array(['P', 'A', 'C', 'B', 'D', nan, 'R'], dtype=object)\n",
    "# br[br.TEMPSTRUC == 'T'].sort_values(by='ADTTOTAL', ascending=False)\n",
    "br[br.LOCATION == '110 SWINBURNE BRIDGE'].to_csv('swin.csv', index=False)"
   ]
  },
  {
   "cell_type": "code",
   "execution_count": null,
   "id": "9f410b4e-95fe-429a-af2b-421dbcab55c1",
   "metadata": {},
   "outputs": [],
   "source": []
  }
 ],
 "metadata": {
  "kernelspec": {
   "display_name": "Python 3 (ipykernel)",
   "language": "python",
   "name": "python3"
  },
  "language_info": {
   "codemirror_mode": {
    "name": "ipython",
    "version": 3
   },
   "file_extension": ".py",
   "mimetype": "text/x-python",
   "name": "python",
   "nbconvert_exporter": "python",
   "pygments_lexer": "ipython3",
   "version": "3.10.9"
  }
 },
 "nbformat": 4,
 "nbformat_minor": 5
}
