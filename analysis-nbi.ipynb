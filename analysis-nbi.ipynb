{
 "cells": [
  {
   "cell_type": "markdown",
   "id": "86713b82-dc95-429c-9345-63c03921d10f",
   "metadata": {},
   "source": [
    "# Analyze NBI bridges for SPC planning region"
   ]
  },
  {
   "cell_type": "code",
   "execution_count": 1,
   "id": "bedf2968-ebd9-43ca-808a-739b588a4cbf",
   "metadata": {
    "tags": []
   },
   "outputs": [],
   "source": [
    "import pandas as pd"
   ]
  },
  {
   "cell_type": "markdown",
   "id": "4e40074a-6e08-4937-a6de-42a15fcb5a54",
   "metadata": {
    "tags": []
   },
   "source": [
    "### Import 2022 NBI data for Pennsylvania"
   ]
  },
  {
   "cell_type": "code",
   "execution_count": 2,
   "id": "870b6dad-273c-4f7a-b76e-1f7be2d61bba",
   "metadata": {
    "tags": []
   },
   "outputs": [
    {
     "name": "stderr",
     "output_type": "stream",
     "text": [
      "/var/folders/m6/nmg96kbd65n3tz43pzrdnnw00000gn/T/ipykernel_81450/1129763336.py:1: DtypeWarning: Columns (1,17,75) have mixed types. Specify dtype option on import or set low_memory=False.\n",
      "  nbi = pd.read_csv('input/nbi22.csv')\n"
     ]
    }
   ],
   "source": [
    "nbi = pd.read_csv('input/nbi22.csv')\n",
    "nbi['STRUCTURE_NUMBER_008'] = nbi.STRUCTURE_NUMBER_008.astype(str).str.zfill(15)"
   ]
  },
  {
   "cell_type": "code",
   "execution_count": 3,
   "id": "d74962e8-4dd5-473f-911e-6ac8e2c0006a",
   "metadata": {
    "tags": []
   },
   "outputs": [
    {
     "data": {
      "text/plain": [
       "23202"
      ]
     },
     "execution_count": 3,
     "metadata": {},
     "output_type": "execute_result"
    }
   ],
   "source": [
    "len(nbi)"
   ]
  },
  {
   "cell_type": "code",
   "execution_count": 4,
   "id": "72698360-fa57-4742-923e-e2341b19e77e",
   "metadata": {
    "tags": []
   },
   "outputs": [
    {
     "data": {
      "text/html": [
       "<div>\n",
       "<style scoped>\n",
       "    .dataframe tbody tr th:only-of-type {\n",
       "        vertical-align: middle;\n",
       "    }\n",
       "\n",
       "    .dataframe tbody tr th {\n",
       "        vertical-align: top;\n",
       "    }\n",
       "\n",
       "    .dataframe thead th {\n",
       "        text-align: right;\n",
       "    }\n",
       "</style>\n",
       "<table border=\"1\" class=\"dataframe\">\n",
       "  <thead>\n",
       "    <tr style=\"text-align: right;\">\n",
       "      <th></th>\n",
       "      <th>STATE_CODE_001</th>\n",
       "      <th>STRUCTURE_NUMBER_008</th>\n",
       "      <th>RECORD_TYPE_005A</th>\n",
       "      <th>ROUTE_PREFIX_005B</th>\n",
       "      <th>SERVICE_LEVEL_005C</th>\n",
       "      <th>ROUTE_NUMBER_005D</th>\n",
       "      <th>DIRECTION_005E</th>\n",
       "      <th>HIGHWAY_DISTRICT_002</th>\n",
       "      <th>COUNTY_CODE_003</th>\n",
       "      <th>PLACE_CODE_004</th>\n",
       "      <th>...</th>\n",
       "      <th>BRIDGE_LEN_IND_112</th>\n",
       "      <th>SCOUR_CRITICAL_113</th>\n",
       "      <th>FUTURE_ADT_114</th>\n",
       "      <th>YEAR_OF_FUTURE_ADT_115</th>\n",
       "      <th>MIN_NAV_CLR_MT_116</th>\n",
       "      <th>FED_AGENCY</th>\n",
       "      <th>SUBMITTED_BY</th>\n",
       "      <th>BRIDGE_CONDITION</th>\n",
       "      <th>LOWEST_RATING</th>\n",
       "      <th>DECK_AREA</th>\n",
       "    </tr>\n",
       "  </thead>\n",
       "  <tbody>\n",
       "    <tr>\n",
       "      <th>0</th>\n",
       "      <td>42</td>\n",
       "      <td>1PA0099</td>\n",
       "      <td>1</td>\n",
       "      <td>8</td>\n",
       "      <td>0</td>\n",
       "      <td>00000</td>\n",
       "      <td>0</td>\n",
       "      <td>0</td>\n",
       "      <td>41</td>\n",
       "      <td>42635</td>\n",
       "      <td>...</td>\n",
       "      <td>Y</td>\n",
       "      <td>5</td>\n",
       "      <td>1800</td>\n",
       "      <td>2035</td>\n",
       "      <td>NaN</td>\n",
       "      <td>Y</td>\n",
       "      <td>73</td>\n",
       "      <td>F</td>\n",
       "      <td>6</td>\n",
       "      <td>88.75</td>\n",
       "    </tr>\n",
       "  </tbody>\n",
       "</table>\n",
       "<p>1 rows × 123 columns</p>\n",
       "</div>"
      ],
      "text/plain": [
       "   STATE_CODE_001 STRUCTURE_NUMBER_008  RECORD_TYPE_005A  ROUTE_PREFIX_005B  \\\n",
       "0              42              1PA0099                 1                  8   \n",
       "\n",
       "   SERVICE_LEVEL_005C ROUTE_NUMBER_005D  DIRECTION_005E  HIGHWAY_DISTRICT_002  \\\n",
       "0                   0             00000               0                     0   \n",
       "\n",
       "   COUNTY_CODE_003  PLACE_CODE_004  ... BRIDGE_LEN_IND_112  \\\n",
       "0               41           42635  ...                  Y   \n",
       "\n",
       "   SCOUR_CRITICAL_113 FUTURE_ADT_114 YEAR_OF_FUTURE_ADT_115  \\\n",
       "0                   5           1800                   2035   \n",
       "\n",
       "   MIN_NAV_CLR_MT_116  FED_AGENCY  SUBMITTED_BY BRIDGE_CONDITION  \\\n",
       "0                 NaN           Y            73                F   \n",
       "\n",
       "   LOWEST_RATING  DECK_AREA  \n",
       "0              6      88.75  \n",
       "\n",
       "[1 rows x 123 columns]"
      ]
     },
     "execution_count": 4,
     "metadata": {},
     "output_type": "execute_result"
    }
   ],
   "source": [
    "nbi.head(1)"
   ]
  },
  {
   "cell_type": "markdown",
   "id": "d88eb1de-38b0-403c-bf6e-a63569bf2fcb",
   "metadata": {},
   "source": [
    "### Limit to SPC planning region"
   ]
  },
  {
   "cell_type": "code",
   "execution_count": 5,
   "id": "556f18da-328a-45a3-9b89-3a06e32df60e",
   "metadata": {
    "tags": []
   },
   "outputs": [],
   "source": [
    "nbi = nbi[nbi.COUNTY_CODE_003.isin([3, 5, 7, 19, 51, 59, 63, 73, 125, 129])]"
   ]
  },
  {
   "cell_type": "code",
   "execution_count": 6,
   "id": "b87ad238-6fd9-4a50-8e6b-91d7962a0375",
   "metadata": {
    "tags": []
   },
   "outputs": [
    {
     "data": {
      "text/plain": [
       "4788"
      ]
     },
     "execution_count": 6,
     "metadata": {},
     "output_type": "execute_result"
    }
   ],
   "source": [
    "len(nbi)"
   ]
  },
  {
   "cell_type": "markdown",
   "id": "5095d721-696b-427a-9d9c-80109b68d895",
   "metadata": {
    "tags": []
   },
   "source": [
    "### Introduce custom condition field"
   ]
  },
  {
   "cell_type": "code",
   "execution_count": 7,
   "id": "d4366975-7da5-4614-b1b7-b8dafa8e2e5d",
   "metadata": {
    "tags": []
   },
   "outputs": [],
   "source": [
    "nbi['BridgeConditionNum'] = nbi[[\n",
    "    'DECK_COND_058',\n",
    "    'SUPERSTRUCTURE_COND_059',\n",
    "    'SUBSTRUCTURE_COND_060',\n",
    "    'CULVERT_COND_062'\n",
    "]].min(axis=1)\n",
    "\n",
    "nbi.loc[nbi.BridgeConditionNum >= 7, 'BridgeCondition'] = 'G'\n",
    "nbi.loc[nbi.BridgeConditionNum.isin([5, 6]), 'BridgeCondition'] = 'F'\n",
    "nbi.loc[nbi.BridgeConditionNum <= 4, 'BridgeCondition'] = 'P'"
   ]
  },
  {
   "cell_type": "markdown",
   "id": "97dc31ed-0a1e-4043-897a-df6579a9e3bc",
   "metadata": {},
   "source": [
    "### Introduce custom owner field"
   ]
  },
  {
   "cell_type": "code",
   "execution_count": 8,
   "id": "b3459c32-cea6-4b01-b646-41eec6ae1b2d",
   "metadata": {
    "tags": []
   },
   "outputs": [],
   "source": [
    "nbi['SimpleOwner'] = nbi.OWNER_022"
   ]
  },
  {
   "cell_type": "code",
   "execution_count": 9,
   "id": "3e116184-cd2a-42f2-9ff1-8e5f7ba3e20c",
   "metadata": {
    "tags": []
   },
   "outputs": [],
   "source": [
    "nbi['SimpleOwner'] = nbi.SimpleOwner.replace({\n",
    "    1: 'State',\n",
    "    2: 'County',\n",
    "    3: 'Municipal',\n",
    "    4: 'Municipal',\n",
    "    11: 'State',\n",
    "    21: 'Other',\n",
    "    25: 'Other',\n",
    "    26: 'Other',\n",
    "    27: 'Other',\n",
    "    31: 'State',\n",
    "    32: 'Other',\n",
    "    66: 'Federal',\n",
    "    70: 'Federal'\n",
    "    \n",
    "})"
   ]
  },
  {
   "cell_type": "markdown",
   "id": "6a9cebde-000c-49af-9a90-3a5371c31746",
   "metadata": {},
   "source": [
    "### Look at all bridges by owner, condition"
   ]
  },
  {
   "cell_type": "code",
   "execution_count": 10,
   "id": "f630f223-f6f2-4d56-ae5d-07b95f60f709",
   "metadata": {
    "tags": []
   },
   "outputs": [],
   "source": [
    "piv = pd.pivot_table(nbi[['SimpleOwner', 'BridgeCondition']], index=['SimpleOwner'], columns='BridgeCondition', values='BridgeCondition', aggfunc='size')\n",
    "piv['Total'] = piv.sum(axis=1)"
   ]
  },
  {
   "cell_type": "code",
   "execution_count": 11,
   "id": "6549b3a7-896a-4a10-bacc-bf7329cc46b8",
   "metadata": {
    "tags": []
   },
   "outputs": [],
   "source": [
    "piv['P%'] = 100 * (piv.P / piv.Total)\n",
    "piv['P%_total'] = 100 * (piv.P / piv.P.sum())"
   ]
  },
  {
   "cell_type": "code",
   "execution_count": 12,
   "id": "b17f34e9-67bd-4c55-a586-ec95f69f56c5",
   "metadata": {
    "tags": []
   },
   "outputs": [
    {
     "data": {
      "text/html": [
       "<div>\n",
       "<style scoped>\n",
       "    .dataframe tbody tr th:only-of-type {\n",
       "        vertical-align: middle;\n",
       "    }\n",
       "\n",
       "    .dataframe tbody tr th {\n",
       "        vertical-align: top;\n",
       "    }\n",
       "\n",
       "    .dataframe thead th {\n",
       "        text-align: right;\n",
       "    }\n",
       "</style>\n",
       "<table border=\"1\" class=\"dataframe\">\n",
       "  <thead>\n",
       "    <tr style=\"text-align: right;\">\n",
       "      <th>BridgeCondition</th>\n",
       "      <th>F</th>\n",
       "      <th>G</th>\n",
       "      <th>P</th>\n",
       "      <th>Total</th>\n",
       "      <th>P%</th>\n",
       "      <th>P%_total</th>\n",
       "    </tr>\n",
       "    <tr>\n",
       "      <th>SimpleOwner</th>\n",
       "      <th></th>\n",
       "      <th></th>\n",
       "      <th></th>\n",
       "      <th></th>\n",
       "      <th></th>\n",
       "      <th></th>\n",
       "    </tr>\n",
       "  </thead>\n",
       "  <tbody>\n",
       "    <tr>\n",
       "      <th>County</th>\n",
       "      <td>341</td>\n",
       "      <td>199</td>\n",
       "      <td>133</td>\n",
       "      <td>673</td>\n",
       "      <td>19.762259</td>\n",
       "      <td>21.077655</td>\n",
       "    </tr>\n",
       "    <tr>\n",
       "      <th>Federal</th>\n",
       "      <td>1</td>\n",
       "      <td>1</td>\n",
       "      <td>1</td>\n",
       "      <td>3</td>\n",
       "      <td>33.333333</td>\n",
       "      <td>0.158479</td>\n",
       "    </tr>\n",
       "    <tr>\n",
       "      <th>Municipal</th>\n",
       "      <td>328</td>\n",
       "      <td>139</td>\n",
       "      <td>201</td>\n",
       "      <td>668</td>\n",
       "      <td>30.089820</td>\n",
       "      <td>31.854200</td>\n",
       "    </tr>\n",
       "    <tr>\n",
       "      <th>Other</th>\n",
       "      <td>33</td>\n",
       "      <td>6</td>\n",
       "      <td>21</td>\n",
       "      <td>60</td>\n",
       "      <td>35.000000</td>\n",
       "      <td>3.328051</td>\n",
       "    </tr>\n",
       "    <tr>\n",
       "      <th>State</th>\n",
       "      <td>1793</td>\n",
       "      <td>1316</td>\n",
       "      <td>275</td>\n",
       "      <td>3384</td>\n",
       "      <td>8.126478</td>\n",
       "      <td>43.581616</td>\n",
       "    </tr>\n",
       "  </tbody>\n",
       "</table>\n",
       "</div>"
      ],
      "text/plain": [
       "BridgeCondition     F     G    P  Total         P%   P%_total\n",
       "SimpleOwner                                                  \n",
       "County            341   199  133    673  19.762259  21.077655\n",
       "Federal             1     1    1      3  33.333333   0.158479\n",
       "Municipal         328   139  201    668  30.089820  31.854200\n",
       "Other              33     6   21     60  35.000000   3.328051\n",
       "State            1793  1316  275   3384   8.126478  43.581616"
      ]
     },
     "execution_count": 12,
     "metadata": {},
     "output_type": "execute_result"
    }
   ],
   "source": [
    "piv"
   ]
  },
  {
   "cell_type": "markdown",
   "id": "4723d48b-1a52-416f-963d-1bdfbfb3584e",
   "metadata": {},
   "source": [
    "### Look at off-system bridges by owner, condition"
   ]
  },
  {
   "cell_type": "code",
   "execution_count": 13,
   "id": "8dcd5c5f-228d-4dc7-b474-a06ea374f17b",
   "metadata": {
    "tags": []
   },
   "outputs": [],
   "source": [
    "piv = pd.pivot_table(nbi[nbi.FUNCTIONAL_CLASS_026.isin([8, 9, 19])][['SimpleOwner', 'BridgeCondition']], index=['SimpleOwner'], columns='BridgeCondition', values='BridgeCondition', aggfunc='size')\n",
    "piv['Total'] = piv.sum(axis=1)"
   ]
  },
  {
   "cell_type": "code",
   "execution_count": 14,
   "id": "42bcd173-5268-4a0b-8248-6acca0b90b55",
   "metadata": {
    "tags": []
   },
   "outputs": [],
   "source": [
    "piv['P%'] = 100 * (piv.P / piv.Total)\n",
    "piv['P%_total'] = 100 * (piv.P / piv.P.sum())"
   ]
  },
  {
   "cell_type": "code",
   "execution_count": 15,
   "id": "63e73d5a-58a2-4a4e-bf5f-218fc1eda90f",
   "metadata": {
    "tags": []
   },
   "outputs": [
    {
     "data": {
      "text/html": [
       "<div>\n",
       "<style scoped>\n",
       "    .dataframe tbody tr th:only-of-type {\n",
       "        vertical-align: middle;\n",
       "    }\n",
       "\n",
       "    .dataframe tbody tr th {\n",
       "        vertical-align: top;\n",
       "    }\n",
       "\n",
       "    .dataframe thead th {\n",
       "        text-align: right;\n",
       "    }\n",
       "</style>\n",
       "<table border=\"1\" class=\"dataframe\">\n",
       "  <thead>\n",
       "    <tr style=\"text-align: right;\">\n",
       "      <th>BridgeCondition</th>\n",
       "      <th>F</th>\n",
       "      <th>G</th>\n",
       "      <th>P</th>\n",
       "      <th>Total</th>\n",
       "      <th>P%</th>\n",
       "      <th>P%_total</th>\n",
       "    </tr>\n",
       "    <tr>\n",
       "      <th>SimpleOwner</th>\n",
       "      <th></th>\n",
       "      <th></th>\n",
       "      <th></th>\n",
       "      <th></th>\n",
       "      <th></th>\n",
       "      <th></th>\n",
       "    </tr>\n",
       "  </thead>\n",
       "  <tbody>\n",
       "    <tr>\n",
       "      <th>County</th>\n",
       "      <td>247</td>\n",
       "      <td>148</td>\n",
       "      <td>94</td>\n",
       "      <td>489</td>\n",
       "      <td>19.222904</td>\n",
       "      <td>22.705314</td>\n",
       "    </tr>\n",
       "    <tr>\n",
       "      <th>Federal</th>\n",
       "      <td>1</td>\n",
       "      <td>1</td>\n",
       "      <td>1</td>\n",
       "      <td>3</td>\n",
       "      <td>33.333333</td>\n",
       "      <td>0.241546</td>\n",
       "    </tr>\n",
       "    <tr>\n",
       "      <th>Municipal</th>\n",
       "      <td>303</td>\n",
       "      <td>127</td>\n",
       "      <td>180</td>\n",
       "      <td>610</td>\n",
       "      <td>29.508197</td>\n",
       "      <td>43.478261</td>\n",
       "    </tr>\n",
       "    <tr>\n",
       "      <th>Other</th>\n",
       "      <td>12</td>\n",
       "      <td>4</td>\n",
       "      <td>12</td>\n",
       "      <td>28</td>\n",
       "      <td>42.857143</td>\n",
       "      <td>2.898551</td>\n",
       "    </tr>\n",
       "    <tr>\n",
       "      <th>State</th>\n",
       "      <td>373</td>\n",
       "      <td>317</td>\n",
       "      <td>127</td>\n",
       "      <td>817</td>\n",
       "      <td>15.544676</td>\n",
       "      <td>30.676329</td>\n",
       "    </tr>\n",
       "  </tbody>\n",
       "</table>\n",
       "</div>"
      ],
      "text/plain": [
       "BridgeCondition    F    G    P  Total         P%   P%_total\n",
       "SimpleOwner                                                \n",
       "County           247  148   94    489  19.222904  22.705314\n",
       "Federal            1    1    1      3  33.333333   0.241546\n",
       "Municipal        303  127  180    610  29.508197  43.478261\n",
       "Other             12    4   12     28  42.857143   2.898551\n",
       "State            373  317  127    817  15.544676  30.676329"
      ]
     },
     "execution_count": 15,
     "metadata": {},
     "output_type": "execute_result"
    }
   ],
   "source": [
    "piv"
   ]
  },
  {
   "cell_type": "markdown",
   "id": "8b2b9c63-c720-4b8e-a35e-314652e74a31",
   "metadata": {},
   "source": [
    "# Analyze formerly poor NBI bridges for SPC planning region"
   ]
  },
  {
   "cell_type": "code",
   "execution_count": 16,
   "id": "6d9f3d8b-fe6f-4e7c-8a5d-5fee36c274e6",
   "metadata": {
    "tags": []
   },
   "outputs": [],
   "source": [
    "formerlypoor = pd.concat([\n",
    "    pd.read_csv('input/PA_Poor12_to_Fair22.csv', quotechar=\"'\"),\n",
    "    pd.read_csv('input/PA_Poor12_to_Good22.csv', quotechar=\"'\"),\n",
    "])"
   ]
  },
  {
   "cell_type": "code",
   "execution_count": 17,
   "id": "7a1a719d-18a7-4871-9c00-cf9af761ed7d",
   "metadata": {
    "tags": []
   },
   "outputs": [],
   "source": [
    "formerlypoor['8 - Structure Number'] = formerlypoor['8 - Structure Number'].astype(str).str.zfill(15)"
   ]
  },
  {
   "cell_type": "code",
   "execution_count": 18,
   "id": "e7b26ffd-71f1-431b-b63f-0b0bffc8fc13",
   "metadata": {
    "tags": []
   },
   "outputs": [],
   "source": [
    "formerlypoor = pd.merge(\n",
    "    formerlypoor[['8 - Structure Number']],\n",
    "    nbi,\n",
    "    left_on='8 - Structure Number',\n",
    "    right_on='STRUCTURE_NUMBER_008'\n",
    ")\n",
    "\n",
    "formerlypoor['SimpleOwner'] = formerlypoor.OWNER_022\n",
    "formerlypoor['SimpleOwner'] = formerlypoor.SimpleOwner.replace({\n",
    "    1: 'State',\n",
    "    2: 'County',\n",
    "    3: 'Municipal',\n",
    "    4: 'Municipal',\n",
    "    11: 'State',\n",
    "    21: 'Other',\n",
    "    25: 'Other',\n",
    "    26: 'Other',\n",
    "    27: 'Other',\n",
    "    31: 'State',\n",
    "    32: 'Other',\n",
    "    66: 'Federal',\n",
    "    70: 'Federal'\n",
    "})"
   ]
  },
  {
   "cell_type": "code",
   "execution_count": 19,
   "id": "e3818128-d0b3-4ac2-b9d9-77cdd1e2342d",
   "metadata": {
    "tags": []
   },
   "outputs": [
    {
     "data": {
      "text/plain": [
       "State        235\n",
       "County        79\n",
       "Municipal     35\n",
       "Other          5\n",
       "Name: SimpleOwner, dtype: int64"
      ]
     },
     "execution_count": 19,
     "metadata": {},
     "output_type": "execute_result"
    }
   ],
   "source": [
    "formerlypoor.SimpleOwner.value_counts()"
   ]
  }
 ],
 "metadata": {
  "kernelspec": {
   "display_name": "Python 3 (ipykernel)",
   "language": "python",
   "name": "python3"
  },
  "language_info": {
   "codemirror_mode": {
    "name": "ipython",
    "version": 3
   },
   "file_extension": ".py",
   "mimetype": "text/x-python",
   "name": "python",
   "nbconvert_exporter": "python",
   "pygments_lexer": "ipython3",
   "version": "3.10.9"
  }
 },
 "nbformat": 4,
 "nbformat_minor": 5
}
