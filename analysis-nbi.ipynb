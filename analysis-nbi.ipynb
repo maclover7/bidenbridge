{
 "cells": [
  {
   "cell_type": "markdown",
   "id": "86713b82-dc95-429c-9345-63c03921d10f",
   "metadata": {},
   "source": [
    "# Analyze NBI bridges for SPC planning region"
   ]
  },
  {
   "cell_type": "markdown",
   "id": "4e40074a-6e08-4937-a6de-42a15fcb5a54",
   "metadata": {
    "tags": []
   },
   "source": [
    "### Import 2022 NBI data for Pennsylvania"
   ]
  },
  {
   "cell_type": "markdown",
   "id": "d88eb1de-38b0-403c-bf6e-a63569bf2fcb",
   "metadata": {},
   "source": [
    "### Limit to SPC planning region"
   ]
  },
  {
   "cell_type": "markdown",
   "id": "97dc31ed-0a1e-4043-897a-df6579a9e3bc",
   "metadata": {},
   "source": [
    "### Introduce custom owner field"
   ]
  },
  {
   "cell_type": "markdown",
   "id": "6a9cebde-000c-49af-9a90-3a5371c31746",
   "metadata": {},
   "source": [
    "### Look at bridges by owner, condition"
   ]
  }
 ],
 "metadata": {
  "kernelspec": {
   "display_name": "Python 3 (ipykernel)",
   "language": "python",
   "name": "python3"
  },
  "language_info": {
   "codemirror_mode": {
    "name": "ipython",
    "version": 3
   },
   "file_extension": ".py",
   "mimetype": "text/x-python",
   "name": "python",
   "nbconvert_exporter": "python",
   "pygments_lexer": "ipython3",
   "version": "3.10.9"
  }
 },
 "nbformat": 4,
 "nbformat_minor": 5
}
