{
 "cells": [
  {
   "cell_type": "markdown",
   "id": "86713b82-dc95-429c-9345-63c03921d10f",
   "metadata": {},
   "source": [
    "# Analyze NBI bridges for SPC planning region"
   ]
  },
  {
   "cell_type": "code",
   "execution_count": 1,
   "id": "bedf2968-ebd9-43ca-808a-739b588a4cbf",
   "metadata": {
    "tags": []
   },
   "outputs": [],
   "source": [
    "import pandas as pd"
   ]
  },
  {
   "cell_type": "markdown",
   "id": "4e40074a-6e08-4937-a6de-42a15fcb5a54",
   "metadata": {
    "tags": []
   },
   "source": [
    "### Import 2022 NBI data for Pennsylvania"
   ]
  },
  {
   "cell_type": "code",
   "execution_count": 2,
   "id": "870b6dad-273c-4f7a-b76e-1f7be2d61bba",
   "metadata": {
    "tags": []
   },
   "outputs": [
    {
     "name": "stderr",
     "output_type": "stream",
     "text": [
      "/var/folders/m6/nmg96kbd65n3tz43pzrdnnw00000gn/T/ipykernel_79950/2507376999.py:1: DtypeWarning: Columns (1,17,75) have mixed types. Specify dtype option on import or set low_memory=False.\n",
      "  nbi = pd.read_csv('input/nbi22.csv')\n"
     ]
    }
   ],
   "source": [
    "nbi = pd.read_csv('input/nbi22.csv')"
   ]
  },
  {
   "cell_type": "code",
   "execution_count": 3,
   "id": "d74962e8-4dd5-473f-911e-6ac8e2c0006a",
   "metadata": {
    "tags": []
   },
   "outputs": [
    {
     "data": {
      "text/plain": [
       "23202"
      ]
     },
     "execution_count": 3,
     "metadata": {},
     "output_type": "execute_result"
    }
   ],
   "source": [
    "len(nbi)"
   ]
  },
  {
   "cell_type": "code",
   "execution_count": 4,
   "id": "72698360-fa57-4742-923e-e2341b19e77e",
   "metadata": {
    "tags": []
   },
   "outputs": [
    {
     "data": {
      "text/html": [
       "<div>\n",
       "<style scoped>\n",
       "    .dataframe tbody tr th:only-of-type {\n",
       "        vertical-align: middle;\n",
       "    }\n",
       "\n",
       "    .dataframe tbody tr th {\n",
       "        vertical-align: top;\n",
       "    }\n",
       "\n",
       "    .dataframe thead th {\n",
       "        text-align: right;\n",
       "    }\n",
       "</style>\n",
       "<table border=\"1\" class=\"dataframe\">\n",
       "  <thead>\n",
       "    <tr style=\"text-align: right;\">\n",
       "      <th></th>\n",
       "      <th>STATE_CODE_001</th>\n",
       "      <th>STRUCTURE_NUMBER_008</th>\n",
       "      <th>RECORD_TYPE_005A</th>\n",
       "      <th>ROUTE_PREFIX_005B</th>\n",
       "      <th>SERVICE_LEVEL_005C</th>\n",
       "      <th>ROUTE_NUMBER_005D</th>\n",
       "      <th>DIRECTION_005E</th>\n",
       "      <th>HIGHWAY_DISTRICT_002</th>\n",
       "      <th>COUNTY_CODE_003</th>\n",
       "      <th>PLACE_CODE_004</th>\n",
       "      <th>...</th>\n",
       "      <th>BRIDGE_LEN_IND_112</th>\n",
       "      <th>SCOUR_CRITICAL_113</th>\n",
       "      <th>FUTURE_ADT_114</th>\n",
       "      <th>YEAR_OF_FUTURE_ADT_115</th>\n",
       "      <th>MIN_NAV_CLR_MT_116</th>\n",
       "      <th>FED_AGENCY</th>\n",
       "      <th>SUBMITTED_BY</th>\n",
       "      <th>BRIDGE_CONDITION</th>\n",
       "      <th>LOWEST_RATING</th>\n",
       "      <th>DECK_AREA</th>\n",
       "    </tr>\n",
       "  </thead>\n",
       "  <tbody>\n",
       "    <tr>\n",
       "      <th>0</th>\n",
       "      <td>42</td>\n",
       "      <td>1PA0099</td>\n",
       "      <td>1</td>\n",
       "      <td>8</td>\n",
       "      <td>0</td>\n",
       "      <td>00000</td>\n",
       "      <td>0</td>\n",
       "      <td>0</td>\n",
       "      <td>41</td>\n",
       "      <td>42635</td>\n",
       "      <td>...</td>\n",
       "      <td>Y</td>\n",
       "      <td>5</td>\n",
       "      <td>1800</td>\n",
       "      <td>2035</td>\n",
       "      <td>NaN</td>\n",
       "      <td>Y</td>\n",
       "      <td>73</td>\n",
       "      <td>F</td>\n",
       "      <td>6</td>\n",
       "      <td>88.75</td>\n",
       "    </tr>\n",
       "  </tbody>\n",
       "</table>\n",
       "<p>1 rows × 123 columns</p>\n",
       "</div>"
      ],
      "text/plain": [
       "   STATE_CODE_001 STRUCTURE_NUMBER_008  RECORD_TYPE_005A  ROUTE_PREFIX_005B  \\\n",
       "0              42              1PA0099                 1                  8   \n",
       "\n",
       "   SERVICE_LEVEL_005C ROUTE_NUMBER_005D  DIRECTION_005E  HIGHWAY_DISTRICT_002  \\\n",
       "0                   0             00000               0                     0   \n",
       "\n",
       "   COUNTY_CODE_003  PLACE_CODE_004  ... BRIDGE_LEN_IND_112  \\\n",
       "0               41           42635  ...                  Y   \n",
       "\n",
       "   SCOUR_CRITICAL_113 FUTURE_ADT_114 YEAR_OF_FUTURE_ADT_115  \\\n",
       "0                   5           1800                   2035   \n",
       "\n",
       "   MIN_NAV_CLR_MT_116  FED_AGENCY  SUBMITTED_BY BRIDGE_CONDITION  \\\n",
       "0                 NaN           Y            73                F   \n",
       "\n",
       "   LOWEST_RATING  DECK_AREA  \n",
       "0              6      88.75  \n",
       "\n",
       "[1 rows x 123 columns]"
      ]
     },
     "execution_count": 4,
     "metadata": {},
     "output_type": "execute_result"
    }
   ],
   "source": [
    "nbi.head(1)"
   ]
  },
  {
   "cell_type": "markdown",
   "id": "d88eb1de-38b0-403c-bf6e-a63569bf2fcb",
   "metadata": {},
   "source": [
    "### Limit to SPC planning region"
   ]
  },
  {
   "cell_type": "code",
   "execution_count": 5,
   "id": "556f18da-328a-45a3-9b89-3a06e32df60e",
   "metadata": {
    "tags": []
   },
   "outputs": [],
   "source": [
    "nbi = nbi[nbi.COUNTY_CODE_003.isin([3, 5, 7, 19, 51, 59, 63, 73, 125, 129])]"
   ]
  },
  {
   "cell_type": "code",
   "execution_count": 6,
   "id": "b87ad238-6fd9-4a50-8e6b-91d7962a0375",
   "metadata": {
    "tags": []
   },
   "outputs": [
    {
     "data": {
      "text/plain": [
       "4788"
      ]
     },
     "execution_count": 6,
     "metadata": {},
     "output_type": "execute_result"
    }
   ],
   "source": [
    "len(nbi)"
   ]
  },
  {
   "cell_type": "markdown",
   "id": "97dc31ed-0a1e-4043-897a-df6579a9e3bc",
   "metadata": {},
   "source": [
    "### Introduce custom owner field"
   ]
  },
  {
   "cell_type": "code",
   "execution_count": 7,
   "id": "b3459c32-cea6-4b01-b646-41eec6ae1b2d",
   "metadata": {
    "tags": []
   },
   "outputs": [],
   "source": [
    "nbi['SimpleOwner'] = nbi.OWNER_022"
   ]
  },
  {
   "cell_type": "code",
   "execution_count": 8,
   "id": "3e116184-cd2a-42f2-9ff1-8e5f7ba3e20c",
   "metadata": {
    "tags": []
   },
   "outputs": [],
   "source": [
    "nbi['SimpleOwner'] = nbi.SimpleOwner.replace({\n",
    "    1: 'State',\n",
    "    2: 'County',\n",
    "    3: 'Municipal',\n",
    "    4: 'Municipal',\n",
    "    11: 'State',\n",
    "    21: 'Other',\n",
    "    25: 'Other',\n",
    "    26: 'Other',\n",
    "    27: 'Other',\n",
    "    31: 'State',\n",
    "    32: 'Other',\n",
    "    66: 'Federal',\n",
    "    70: 'Federal'\n",
    "    \n",
    "})"
   ]
  },
  {
   "cell_type": "markdown",
   "id": "6a9cebde-000c-49af-9a90-3a5371c31746",
   "metadata": {},
   "source": [
    "### Look at bridges by owner, condition"
   ]
  }
 ],
 "metadata": {
  "kernelspec": {
   "display_name": "Python 3 (ipykernel)",
   "language": "python",
   "name": "python3"
  },
  "language_info": {
   "codemirror_mode": {
    "name": "ipython",
    "version": 3
   },
   "file_extension": ".py",
   "mimetype": "text/x-python",
   "name": "python",
   "nbconvert_exporter": "python",
   "pygments_lexer": "ipython3",
   "version": "3.10.9"
  }
 },
 "nbformat": 4,
 "nbformat_minor": 5
}
