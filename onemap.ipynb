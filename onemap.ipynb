{
 "cells": [
  {
   "cell_type": "code",
   "execution_count": 1,
   "id": "0dcb38d2-7a85-48d4-9aed-98b78b1bea98",
   "metadata": {
    "tags": []
   },
   "outputs": [],
   "source": [
    "import pandas as pd"
   ]
  },
  {
   "cell_type": "code",
   "execution_count": 25,
   "id": "2cfd1cfc-07d0-4ddb-9dc8-4610949c5688",
   "metadata": {
    "tags": []
   },
   "outputs": [
    {
     "name": "stderr",
     "output_type": "stream",
     "text": [
      "/var/folders/m6/nmg96kbd65n3tz43pzrdnnw00000gn/T/ipykernel_53590/1587580101.py:1: DtypeWarning: Columns (9,46,57,83,85,87,102,104) have mixed types. Specify dtype option on import or set low_memory=False.\n",
      "  onemapOLD = pd.read_csv('input/onemap.csv')\n"
     ]
    }
   ],
   "source": [
    "onemapOLD = pd.read_csv('input/onemap.csv')"
   ]
  },
  {
   "cell_type": "code",
   "execution_count": 73,
   "id": "e13bfbf8-9947-4c2e-95da-4b4a88e56ec3",
   "metadata": {
    "tags": []
   },
   "outputs": [],
   "source": [
    "onemapNEW = pd.read_csv('input/onemap-pgh-08232023.csv')"
   ]
  },
  {
   "cell_type": "code",
   "execution_count": 40,
   "id": "dd76b30c-a00c-4a04-9650-0122f4c79981",
   "metadata": {
    "tags": []
   },
   "outputs": [
    {
     "data": {
      "text/plain": [
       "array(['CITY OF PITTSBURGH', 'CITY PGH & NRFK STHRN RR',\n",
       "       'CITY,SUP;PADOT,SUB', 'CITY,SUP PADOT,SUB', 'CITY OF PGH & N-S RR',\n",
       "       'CITY/PGH, N-S RR  & PAT', 'CITY/PGH, N-S RR & PAT', 'CITY OF PGH',\n",
       "       nan], dtype=object)"
      ]
     },
     "execution_count": 40,
     "metadata": {},
     "output_type": "execute_result"
    }
   ],
   "source": [
    "onemapOLD[\n",
    "    (onemapOLD.BRIDGE_CATEGORY.isin(['L', 'N'])) &\n",
    "    (onemapOLD.CTY_CODE == 2) &\n",
    "    (onemapOLD.OWNER.isin([3, 4])) &\n",
    "    (onemapOLD.PLACECODE == 61000)\n",
    "].MAINT_RESP_DESC.unique()"
   ]
  },
  {
   "cell_type": "code",
   "execution_count": 90,
   "id": "e70c4d6a-b2ff-4f2b-ab5b-984a71646673",
   "metadata": {
    "tags": []
   },
   "outputs": [
    {
     "name": "stderr",
     "output_type": "stream",
     "text": [
      "/var/folders/m6/nmg96kbd65n3tz43pzrdnnw00000gn/T/ipykernel_53590/443997790.py:5: FutureWarning: Indexing with multiple keys (implicitly converted to a tuple of keys) will be deprecated, use a list instead.\n",
      "  OMNsum = onemapNEW[\n"
     ]
    }
   ],
   "source": [
    "onemapNEW.loc[onemapNEW.DKRATING == 'N', 'DKRATING'] = 0\n",
    "onemapNEW.loc[onemapNEW.SUBRATING == 'N', 'SUBRATING'] = 0\n",
    "onemapNEW.loc[onemapNEW.SUPRATING == 'N', 'SUPRATING'] = 0\n",
    "\n",
    "OMNsum = onemapNEW[\n",
    "    (onemapNEW.BRIDGE_CATEGORY.isin(['L'])) &\n",
    "    (onemapNEW.CTY_CODE == 2) &\n",
    "    (onemapNEW.OWNER.isin([3, 4])) &\n",
    "    (onemapNEW.PLACECODE == 61000)\n",
    "].groupby(['LOCATION'])['DKRATING', 'SUPRATING', 'SUPRATING'].apply(lambda x : x.astype(int).sum())\n",
    "\n",
    "OMNsum['total'] = OMNsum[['DKRATING', 'SUPRATING', 'SUPRATING']].sum(axis=1)\n",
    "\n",
    "OMNsum = OMNsum.reset_index()"
   ]
  },
  {
   "cell_type": "code",
   "execution_count": 104,
   "id": "a5d2205a-c134-4b81-bba8-cdb463a8d26e",
   "metadata": {
    "tags": []
   },
   "outputs": [
    {
     "data": {
      "text/plain": [
       "F    47\n",
       "P    22\n",
       "G    11\n",
       "Name: CONDITION, dtype: int64"
      ]
     },
     "execution_count": 104,
     "metadata": {},
     "output_type": "execute_result"
    }
   ],
   "source": [
    "onemapNEW[\n",
    "    (onemapNEW.BRIDGE_CATEGORY.isin(['L'])) &\n",
    "    (onemapNEW.CTY_CODE == 2) &\n",
    "    (onemapNEW.OWNER.isin([3, 4])) &\n",
    "    (onemapNEW.PLACECODE == 61000)\n",
    "].CONDITION.value_counts()"
   ]
  },
  {
   "cell_type": "code",
   "execution_count": 105,
   "id": "f67b9ab7-973f-4597-9260-5498f2315c3d",
   "metadata": {
    "tags": []
   },
   "outputs": [
    {
     "data": {
      "text/plain": [
       "F    48\n",
       "P    21\n",
       "G     9\n",
       "Name: CONDITION, dtype: int64"
      ]
     },
     "execution_count": 105,
     "metadata": {},
     "output_type": "execute_result"
    }
   ],
   "source": [
    "onemapOLD[\n",
    "    (onemapOLD.BRIDGE_CATEGORY.isin(['L'])) &\n",
    "    (onemapOLD.CTY_CODE == 2) &\n",
    "    (onemapOLD.OWNER.isin([3, 4])) &\n",
    "    (onemapOLD.PLACECODE == 61000)\n",
    "].CONDITION.value_counts()"
   ]
  }
 ],
 "metadata": {
  "kernelspec": {
   "display_name": "Python 3 (ipykernel)",
   "language": "python",
   "name": "python3"
  },
  "language_info": {
   "codemirror_mode": {
    "name": "ipython",
    "version": 3
   },
   "file_extension": ".py",
   "mimetype": "text/x-python",
   "name": "python",
   "nbconvert_exporter": "python",
   "pygments_lexer": "ipython3",
   "version": "3.10.12"
  }
 },
 "nbformat": 4,
 "nbformat_minor": 5
}
