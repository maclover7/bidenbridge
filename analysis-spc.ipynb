{
 "cells": [
  {
   "cell_type": "markdown",
   "id": "c419ede0-62ae-4132-9aff-361db8df92f0",
   "metadata": {},
   "source": [
    "# Analyze SPC construction projects"
   ]
  },
  {
   "cell_type": "code",
   "execution_count": 1,
   "id": "8faf09cb-36b3-46fb-9e88-37e045f34a6b",
   "metadata": {
    "tags": []
   },
   "outputs": [],
   "source": [
    "import pandas as pd"
   ]
  },
  {
   "cell_type": "markdown",
   "id": "dbeb7ed0-e9ff-41e0-9691-08bdebaee517",
   "metadata": {
    "tags": []
   },
   "source": [
    "### Import latest PennDOT bridge data"
   ]
  },
  {
   "cell_type": "code",
   "execution_count": 2,
   "id": "8b2ad65c-47ef-4ea5-b0d7-4298c2b1effd",
   "metadata": {
    "tags": []
   },
   "outputs": [],
   "source": [
    "bridges = pd.read_csv('input/onemap.csv', usecols=['BRKEY', 'REPORTGROUP', 'OWNER', 'CONDITION'])\n",
    "\n",
    "bridges = bridges[\n",
    "    bridges.REPORTGROUP.isin(['L1', 'L2', 'S1', 'S2', 'T1']) |\n",
    "    bridges.BRKEY.isin([744])\n",
    "]\n",
    "\n",
    "bridges['OWNER'] = bridges.OWNER.replace({\n",
    "    1: 'STATE HIGHWAY AGENCY',\n",
    "    2: 'COUNTY HIGHWAY AGENCY',\n",
    "    3: 'BOROUGH-CITY-TOWNSHIP',\n",
    "    4: 'BOROUGH-CITY-TOWNSHIP',\n",
    "    25: 'OTHER LOCAL AGENCIES',\n",
    "    27: 'RAILROAD'\n",
    "})\n",
    "\n",
    "bridges['CONDITION'] = bridges.CONDITION.replace({\n",
    "    'G': 'Good',\n",
    "    'F': 'Fair',\n",
    "    'P': 'Poor'\n",
    "})"
   ]
  },
  {
   "cell_type": "code",
   "execution_count": 3,
   "id": "411fc81e-fd12-45a6-a950-9117f8f8d5ba",
   "metadata": {
    "tags": []
   },
   "outputs": [
    {
     "name": "stdout",
     "output_type": "stream",
     "text": [
      "<class 'pandas.core.frame.DataFrame'>\n",
      "Int64Index: 8230 entries, 0 to 13146\n",
      "Data columns (total 4 columns):\n",
      " #   Column       Non-Null Count  Dtype \n",
      "---  ------       --------------  ----- \n",
      " 0   OWNER        8230 non-null   object\n",
      " 1   REPORTGROUP  8230 non-null   object\n",
      " 2   CONDITION    8223 non-null   object\n",
      " 3   BRKEY        8230 non-null   int64 \n",
      "dtypes: int64(1), object(3)\n",
      "memory usage: 321.5+ KB\n"
     ]
    }
   ],
   "source": [
    "bridges.info()"
   ]
  },
  {
   "cell_type": "markdown",
   "id": "6b12e02e-862e-4d6e-8928-bf084525b2a1",
   "metadata": {},
   "source": [
    "##### Manually set some bridge keys"
   ]
  },
  {
   "cell_type": "code",
   "execution_count": 4,
   "id": "d3aa09ef-b16a-4d7d-9035-1ca9a52e0130",
   "metadata": {
    "tags": []
   },
   "outputs": [],
   "source": [
    "bridges.loc[bridges.BRKEY == 68423, 'BRKEY'] = 1942\n",
    "bridges.loc[bridges.BRKEY == 1942, 'CONDITION'] = 'Poor'\n",
    "\n",
    "bridges.loc[bridges.BRKEY == 69253, 'BRKEY'] = 7772\n",
    "bridges.loc[bridges.BRKEY == 7772, 'CONDITION'] = 'Poor'\n",
    "\n",
    "bridges.loc[bridges.BRKEY == 68617, 'BRKEY'] = 19148\n",
    "bridges.loc[bridges.BRKEY == 19148, 'CONDITION'] = 'Fair'\n",
    "\n",
    "bridges.loc[bridges.BRKEY == 67464, 'BRKEY'] = 36697\n",
    "bridges.loc[bridges.BRKEY == 36697, 'CONDITION'] = 'Poor'\n",
    "\n",
    "bridges.loc[bridges.BRKEY == 67810, 'BRKEY'] = 22413\n",
    "\n",
    "bridges.loc[bridges.BRKEY == 48912, 'CONDITION'] = 'Poor'\n",
    "\n",
    "hardcodedbridges = pd.DataFrame([\n",
    "    ### Add Fern Hollow Bridge -- old & new bridge keys don't exist in database\n",
    "    ['BOROUGH-CITY-TOWNSHIP', 'L1', 'Poor', 2410],\n",
    "\n",
    "    ### Add US 422 Cunningham Culverts -- old & new bridge keys don't exist in database\n",
    "    ['STATE HIGHWAY AGENCY', 'S2', 'N', 19147],\n",
    "\n",
    "    ### Add Overland Avenue Bridge -- demolished without replacement\n",
    "    ['BOROUGH-CITY-TOWNSHIP', 'L1', 'Poor', 2651],\n",
    "], columns=bridges.columns)\n",
    "\n",
    "bridges = pd.concat([bridges, hardcodedbridges])"
   ]
  },
  {
   "cell_type": "markdown",
   "id": "ba857cc4-cb90-40cb-9195-656e6de560bf",
   "metadata": {},
   "source": [
    "### Import construction projects"
   ]
  },
  {
   "cell_type": "code",
   "execution_count": 5,
   "id": "727a24ad-0206-4f1a-bcb9-253f57938efd",
   "metadata": {
    "tags": []
   },
   "outputs": [],
   "source": [
    "rawprojects = pd.read_csv('input/projects.csv', usecols=['County', 'Project', 'Title', 'BRIDGE KEY', 'Fund', ' Total '])\n",
    "rawprojects = rawprojects.rename(columns={' Total ': 'Total'})"
   ]
  },
  {
   "cell_type": "code",
   "execution_count": 6,
   "id": "24cc67fe-e5a7-42c7-bcec-c13b576c6a93",
   "metadata": {
    "tags": []
   },
   "outputs": [],
   "source": [
    "rawprojects['Total'] = rawprojects.Total.str.replace('$', '', regex=False)\n",
    "rawprojects['Total'] = rawprojects.Total.str.replace(',', '')\n",
    "rawprojects['Total'] = rawprojects.Total.astype(float).astype(int)"
   ]
  },
  {
   "cell_type": "code",
   "execution_count": 7,
   "id": "5b89abbb-b385-4759-801e-73fa1fd9a1a2",
   "metadata": {},
   "outputs": [],
   "source": [
    "### Switch old Butler Street key to new one\n",
    "rawprojects.loc[rawprojects['BRIDGE KEY'] == 487, 'BRIDGE KEY'] = 48912"
   ]
  },
  {
   "cell_type": "code",
   "execution_count": 8,
   "id": "f028dec7-43a5-4195-b921-f5f0270a8b50",
   "metadata": {
    "tags": []
   },
   "outputs": [
    {
     "name": "stdout",
     "output_type": "stream",
     "text": [
      "<class 'pandas.core.frame.DataFrame'>\n",
      "RangeIndex: 1048 entries, 0 to 1047\n",
      "Data columns (total 6 columns):\n",
      " #   Column      Non-Null Count  Dtype  \n",
      "---  ------      --------------  -----  \n",
      " 0   County      1048 non-null   object \n",
      " 1   Project     1048 non-null   int64  \n",
      " 2   Title       1048 non-null   object \n",
      " 3   BRIDGE KEY  1047 non-null   float64\n",
      " 4   Fund        1048 non-null   object \n",
      " 5   Total       1048 non-null   int64  \n",
      "dtypes: float64(1), int64(2), object(3)\n",
      "memory usage: 49.2+ KB\n"
     ]
    }
   ],
   "source": [
    "rawprojects.info()"
   ]
  },
  {
   "cell_type": "markdown",
   "id": "7f177199-bf9d-428d-8257-8562767cf027",
   "metadata": {},
   "source": [
    "### Merge projects and PennDOT bridge data"
   ]
  },
  {
   "cell_type": "code",
   "execution_count": 9,
   "id": "654ae25d-1dc8-486c-ac37-f6078dc804c0",
   "metadata": {
    "tags": []
   },
   "outputs": [],
   "source": [
    "rawprojects = pd.merge(\n",
    "    rawprojects, bridges,\n",
    "    left_on='BRIDGE KEY', right_on='BRKEY',\n",
    "    how='left',\n",
    "    indicator=True\n",
    ")"
   ]
  },
  {
   "cell_type": "code",
   "execution_count": 10,
   "id": "43958ee5-d392-4a1f-a017-eb1e32bb2bbe",
   "metadata": {
    "tags": []
   },
   "outputs": [
    {
     "data": {
      "text/html": [
       "<div>\n",
       "<style scoped>\n",
       "    .dataframe tbody tr th:only-of-type {\n",
       "        vertical-align: middle;\n",
       "    }\n",
       "\n",
       "    .dataframe tbody tr th {\n",
       "        vertical-align: top;\n",
       "    }\n",
       "\n",
       "    .dataframe thead th {\n",
       "        text-align: right;\n",
       "    }\n",
       "</style>\n",
       "<table border=\"1\" class=\"dataframe\">\n",
       "  <thead>\n",
       "    <tr style=\"text-align: right;\">\n",
       "      <th></th>\n",
       "      <th>County</th>\n",
       "      <th>Project</th>\n",
       "      <th>Title</th>\n",
       "      <th>BRIDGE KEY</th>\n",
       "      <th>Fund</th>\n",
       "      <th>Total</th>\n",
       "      <th>OWNER</th>\n",
       "      <th>REPORTGROUP</th>\n",
       "      <th>CONDITION</th>\n",
       "      <th>BRKEY</th>\n",
       "      <th>_merge</th>\n",
       "    </tr>\n",
       "  </thead>\n",
       "  <tbody>\n",
       "    <tr>\n",
       "      <th>1044</th>\n",
       "      <td>Clarion</td>\n",
       "      <td>109300</td>\n",
       "      <td>Clarion River Bridge</td>\n",
       "      <td>10951.0</td>\n",
       "      <td>NHPP</td>\n",
       "      <td>8200000</td>\n",
       "      <td>NaN</td>\n",
       "      <td>NaN</td>\n",
       "      <td>NaN</td>\n",
       "      <td>NaN</td>\n",
       "      <td>left_only</td>\n",
       "    </tr>\n",
       "    <tr>\n",
       "      <th>887</th>\n",
       "      <td>Fayette</td>\n",
       "      <td>81229</td>\n",
       "      <td>D12 Bridge Preservation Design</td>\n",
       "      <td>NaN</td>\n",
       "      <td>BRIP</td>\n",
       "      <td>23000000</td>\n",
       "      <td>NaN</td>\n",
       "      <td>NaN</td>\n",
       "      <td>NaN</td>\n",
       "      <td>NaN</td>\n",
       "      <td>left_only</td>\n",
       "    </tr>\n",
       "  </tbody>\n",
       "</table>\n",
       "</div>"
      ],
      "text/plain": [
       "       County  Project                           Title  BRIDGE KEY  Fund  \\\n",
       "1044  Clarion   109300            Clarion River Bridge     10951.0  NHPP   \n",
       "887   Fayette    81229  D12 Bridge Preservation Design         NaN  BRIP   \n",
       "\n",
       "         Total OWNER REPORTGROUP CONDITION  BRKEY     _merge  \n",
       "1044   8200000   NaN         NaN       NaN    NaN  left_only  \n",
       "887   23000000   NaN         NaN       NaN    NaN  left_only  "
      ]
     },
     "execution_count": 10,
     "metadata": {},
     "output_type": "execute_result"
    }
   ],
   "source": [
    "rawprojects[rawprojects._merge == 'left_only'].sort_values(by='BRIDGE KEY')"
   ]
  },
  {
   "cell_type": "code",
   "execution_count": 11,
   "id": "80ef0557-e80e-47db-ab81-1b246e3ad664",
   "metadata": {
    "tags": []
   },
   "outputs": [],
   "source": [
    "projects = rawprojects.groupby(['BRKEY', 'OWNER', 'CONDITION', 'REPORTGROUP']).Total.aggregate('sum').to_frame().reset_index()"
   ]
  },
  {
   "cell_type": "markdown",
   "id": "fbfbff64-4f79-42ca-bfb5-6d7230f65feb",
   "metadata": {},
   "source": [
    "### Look at bridges by owner, condition"
   ]
  },
  {
   "cell_type": "code",
   "execution_count": 12,
   "id": "5d1a8aae-3a99-40a5-976d-58cd81f05247",
   "metadata": {
    "tags": []
   },
   "outputs": [],
   "source": [
    "bridgepiv = pd.pivot_table(bridges[['OWNER', 'CONDITION']], index=['OWNER'], columns='CONDITION', values='CONDITION', aggfunc='size')\n",
    "bridgepiv['Total'] = bridgepiv.sum(axis=1)"
   ]
  },
  {
   "cell_type": "code",
   "execution_count": 13,
   "id": "362b3657-09c5-4838-a670-8b1da268585b",
   "metadata": {
    "tags": []
   },
   "outputs": [],
   "source": [
    "bridgepiv['P%'] = 100 * (bridgepiv.Poor / bridgepiv[['Fair', 'Good', 'Poor']].sum(axis=1))\n",
    "bridgepiv['P%_total'] = 100 * (bridgepiv.Poor / bridgepiv.Poor.sum())\n",
    "bridgepiv['%_total'] = 100 * (bridgepiv.Total / bridgepiv.Total.sum())"
   ]
  },
  {
   "cell_type": "code",
   "execution_count": 14,
   "id": "d8ba5b74-01f6-421a-8bd8-1f899f18086d",
   "metadata": {
    "tags": []
   },
   "outputs": [
    {
     "data": {
      "text/html": [
       "<div>\n",
       "<style scoped>\n",
       "    .dataframe tbody tr th:only-of-type {\n",
       "        vertical-align: middle;\n",
       "    }\n",
       "\n",
       "    .dataframe tbody tr th {\n",
       "        vertical-align: top;\n",
       "    }\n",
       "\n",
       "    .dataframe thead th {\n",
       "        text-align: right;\n",
       "    }\n",
       "</style>\n",
       "<table border=\"1\" class=\"dataframe\">\n",
       "  <thead>\n",
       "    <tr style=\"text-align: right;\">\n",
       "      <th>CONDITION</th>\n",
       "      <th>Fair</th>\n",
       "      <th>Good</th>\n",
       "      <th>N</th>\n",
       "      <th>Poor</th>\n",
       "      <th>Total</th>\n",
       "      <th>P%</th>\n",
       "      <th>P%_total</th>\n",
       "      <th>%_total</th>\n",
       "    </tr>\n",
       "    <tr>\n",
       "      <th>OWNER</th>\n",
       "      <th></th>\n",
       "      <th></th>\n",
       "      <th></th>\n",
       "      <th></th>\n",
       "      <th></th>\n",
       "      <th></th>\n",
       "      <th></th>\n",
       "      <th></th>\n",
       "    </tr>\n",
       "  </thead>\n",
       "  <tbody>\n",
       "    <tr>\n",
       "      <th>BOROUGH-CITY-TOWNSHIP</th>\n",
       "      <td>356</td>\n",
       "      <td>156</td>\n",
       "      <td>1233</td>\n",
       "      <td>234</td>\n",
       "      <td>1979</td>\n",
       "      <td>31.367292</td>\n",
       "      <td>24.273859</td>\n",
       "      <td>24.057865</td>\n",
       "    </tr>\n",
       "    <tr>\n",
       "      <th>COUNTY HIGHWAY AGENCY</th>\n",
       "      <td>442</td>\n",
       "      <td>244</td>\n",
       "      <td>70</td>\n",
       "      <td>143</td>\n",
       "      <td>899</td>\n",
       "      <td>17.249698</td>\n",
       "      <td>14.834025</td>\n",
       "      <td>10.928762</td>\n",
       "    </tr>\n",
       "    <tr>\n",
       "      <th>OTHER LOCAL AGENCIES</th>\n",
       "      <td>16</td>\n",
       "      <td>10</td>\n",
       "      <td>7</td>\n",
       "      <td>5</td>\n",
       "      <td>38</td>\n",
       "      <td>16.129032</td>\n",
       "      <td>0.518672</td>\n",
       "      <td>0.461950</td>\n",
       "    </tr>\n",
       "    <tr>\n",
       "      <th>RAILROAD</th>\n",
       "      <td>10</td>\n",
       "      <td>4</td>\n",
       "      <td>8</td>\n",
       "      <td>15</td>\n",
       "      <td>37</td>\n",
       "      <td>51.724138</td>\n",
       "      <td>1.556017</td>\n",
       "      <td>0.449793</td>\n",
       "    </tr>\n",
       "    <tr>\n",
       "      <th>STATE HIGHWAY AGENCY</th>\n",
       "      <td>2976</td>\n",
       "      <td>1724</td>\n",
       "      <td>6</td>\n",
       "      <td>567</td>\n",
       "      <td>5273</td>\n",
       "      <td>10.765141</td>\n",
       "      <td>58.817427</td>\n",
       "      <td>64.101629</td>\n",
       "    </tr>\n",
       "  </tbody>\n",
       "</table>\n",
       "</div>"
      ],
      "text/plain": [
       "CONDITION              Fair  Good     N  Poor  Total         P%   P%_total  \\\n",
       "OWNER                                                                        \n",
       "BOROUGH-CITY-TOWNSHIP   356   156  1233   234   1979  31.367292  24.273859   \n",
       "COUNTY HIGHWAY AGENCY   442   244    70   143    899  17.249698  14.834025   \n",
       "OTHER LOCAL AGENCIES     16    10     7     5     38  16.129032   0.518672   \n",
       "RAILROAD                 10     4     8    15     37  51.724138   1.556017   \n",
       "STATE HIGHWAY AGENCY   2976  1724     6   567   5273  10.765141  58.817427   \n",
       "\n",
       "CONDITION                %_total  \n",
       "OWNER                             \n",
       "BOROUGH-CITY-TOWNSHIP  24.057865  \n",
       "COUNTY HIGHWAY AGENCY  10.928762  \n",
       "OTHER LOCAL AGENCIES    0.461950  \n",
       "RAILROAD                0.449793  \n",
       "STATE HIGHWAY AGENCY   64.101629  "
      ]
     },
     "execution_count": 14,
     "metadata": {},
     "output_type": "execute_result"
    }
   ],
   "source": [
    "bridgepiv"
   ]
  },
  {
   "cell_type": "markdown",
   "id": "6efc8efd-ad4b-417c-8024-a62828dbb832",
   "metadata": {},
   "source": [
    "### Look at projects by bridge owner, condition"
   ]
  },
  {
   "cell_type": "code",
   "execution_count": 15,
   "id": "39aaea7d-bf2d-44db-b31f-0bdba7f19d65",
   "metadata": {
    "tags": []
   },
   "outputs": [
    {
     "data": {
      "text/html": [
       "<div>\n",
       "<style scoped>\n",
       "    .dataframe tbody tr th:only-of-type {\n",
       "        vertical-align: middle;\n",
       "    }\n",
       "\n",
       "    .dataframe tbody tr th {\n",
       "        vertical-align: top;\n",
       "    }\n",
       "\n",
       "    .dataframe thead th {\n",
       "        text-align: right;\n",
       "    }\n",
       "</style>\n",
       "<table border=\"1\" class=\"dataframe\">\n",
       "  <thead>\n",
       "    <tr style=\"text-align: right;\">\n",
       "      <th>CONDITION</th>\n",
       "      <th>Fair</th>\n",
       "      <th>Good</th>\n",
       "      <th>N</th>\n",
       "      <th>Poor</th>\n",
       "    </tr>\n",
       "    <tr>\n",
       "      <th>OWNER</th>\n",
       "      <th></th>\n",
       "      <th></th>\n",
       "      <th></th>\n",
       "      <th></th>\n",
       "    </tr>\n",
       "  </thead>\n",
       "  <tbody>\n",
       "    <tr>\n",
       "      <th>BOROUGH-CITY-TOWNSHIP</th>\n",
       "      <td>8.0</td>\n",
       "      <td>NaN</td>\n",
       "      <td>NaN</td>\n",
       "      <td>39.0</td>\n",
       "    </tr>\n",
       "    <tr>\n",
       "      <th>COUNTY HIGHWAY AGENCY</th>\n",
       "      <td>23.0</td>\n",
       "      <td>1.0</td>\n",
       "      <td>1.0</td>\n",
       "      <td>26.0</td>\n",
       "    </tr>\n",
       "    <tr>\n",
       "      <th>RAILROAD</th>\n",
       "      <td>1.0</td>\n",
       "      <td>NaN</td>\n",
       "      <td>NaN</td>\n",
       "      <td>1.0</td>\n",
       "    </tr>\n",
       "    <tr>\n",
       "      <th>STATE HIGHWAY AGENCY</th>\n",
       "      <td>234.0</td>\n",
       "      <td>71.0</td>\n",
       "      <td>2.0</td>\n",
       "      <td>130.0</td>\n",
       "    </tr>\n",
       "  </tbody>\n",
       "</table>\n",
       "</div>"
      ],
      "text/plain": [
       "CONDITION               Fair  Good    N   Poor\n",
       "OWNER                                         \n",
       "BOROUGH-CITY-TOWNSHIP    8.0   NaN  NaN   39.0\n",
       "COUNTY HIGHWAY AGENCY   23.0   1.0  1.0   26.0\n",
       "RAILROAD                 1.0   NaN  NaN    1.0\n",
       "STATE HIGHWAY AGENCY   234.0  71.0  2.0  130.0"
      ]
     },
     "execution_count": 15,
     "metadata": {},
     "output_type": "execute_result"
    }
   ],
   "source": [
    "pd.pivot_table(projects[['OWNER', 'CONDITION']], index=['OWNER'], columns='CONDITION', values='CONDITION', aggfunc='size')"
   ]
  },
  {
   "cell_type": "markdown",
   "id": "f2aaf546-34e9-4288-998a-8aad9e1599d5",
   "metadata": {},
   "source": [
    "### Look at projects by owner, NBI status"
   ]
  },
  {
   "cell_type": "code",
   "execution_count": 16,
   "id": "d6786353-483a-476f-94f2-8074b814b68c",
   "metadata": {
    "tags": []
   },
   "outputs": [
    {
     "data": {
      "text/html": [
       "<div>\n",
       "<style scoped>\n",
       "    .dataframe tbody tr th:only-of-type {\n",
       "        vertical-align: middle;\n",
       "    }\n",
       "\n",
       "    .dataframe tbody tr th {\n",
       "        vertical-align: top;\n",
       "    }\n",
       "\n",
       "    .dataframe thead th {\n",
       "        text-align: right;\n",
       "    }\n",
       "</style>\n",
       "<table border=\"1\" class=\"dataframe\">\n",
       "  <thead>\n",
       "    <tr style=\"text-align: right;\">\n",
       "      <th></th>\n",
       "      <th>%_Total</th>\n",
       "      <th>NBIproj</th>\n",
       "      <th>NBIbr</th>\n",
       "      <th>%_NBI</th>\n",
       "      <th>nonNBIproj</th>\n",
       "      <th>nonNBIbr</th>\n",
       "      <th>%_nonNBI</th>\n",
       "    </tr>\n",
       "    <tr>\n",
       "      <th>OWNER</th>\n",
       "      <th></th>\n",
       "      <th></th>\n",
       "      <th></th>\n",
       "      <th></th>\n",
       "      <th></th>\n",
       "      <th></th>\n",
       "      <th></th>\n",
       "    </tr>\n",
       "  </thead>\n",
       "  <tbody>\n",
       "    <tr>\n",
       "      <th>BOROUGH-CITY-TOWNSHIP</th>\n",
       "      <td>0.166667</td>\n",
       "      <td>39</td>\n",
       "      <td>210</td>\n",
       "      <td>0.185714</td>\n",
       "      <td>0</td>\n",
       "      <td>24</td>\n",
       "      <td>0.000000</td>\n",
       "    </tr>\n",
       "    <tr>\n",
       "      <th>COUNTY HIGHWAY AGENCY</th>\n",
       "      <td>0.181818</td>\n",
       "      <td>26</td>\n",
       "      <td>127</td>\n",
       "      <td>0.204724</td>\n",
       "      <td>0</td>\n",
       "      <td>16</td>\n",
       "      <td>0.000000</td>\n",
       "    </tr>\n",
       "    <tr>\n",
       "      <th>RAILROAD</th>\n",
       "      <td>0.066667</td>\n",
       "      <td>1</td>\n",
       "      <td>15</td>\n",
       "      <td>0.066667</td>\n",
       "      <td>0</td>\n",
       "      <td>0</td>\n",
       "      <td>NaN</td>\n",
       "    </tr>\n",
       "    <tr>\n",
       "      <th>STATE HIGHWAY AGENCY</th>\n",
       "      <td>0.229277</td>\n",
       "      <td>102</td>\n",
       "      <td>267</td>\n",
       "      <td>0.382022</td>\n",
       "      <td>28</td>\n",
       "      <td>300</td>\n",
       "      <td>0.093333</td>\n",
       "    </tr>\n",
       "  </tbody>\n",
       "</table>\n",
       "</div>"
      ],
      "text/plain": [
       "                        %_Total  NBIproj  NBIbr     %_NBI  nonNBIproj  \\\n",
       "OWNER                                                                   \n",
       "BOROUGH-CITY-TOWNSHIP  0.166667       39    210  0.185714           0   \n",
       "COUNTY HIGHWAY AGENCY  0.181818       26    127  0.204724           0   \n",
       "RAILROAD               0.066667        1     15  0.066667           0   \n",
       "STATE HIGHWAY AGENCY   0.229277      102    267  0.382022          28   \n",
       "\n",
       "                       nonNBIbr  %_nonNBI  \n",
       "OWNER                                      \n",
       "BOROUGH-CITY-TOWNSHIP        24  0.000000  \n",
       "COUNTY HIGHWAY AGENCY        16  0.000000  \n",
       "RAILROAD                      0       NaN  \n",
       "STATE HIGHWAY AGENCY        300  0.093333  "
      ]
     },
     "execution_count": 16,
     "metadata": {},
     "output_type": "execute_result"
    }
   ],
   "source": [
    "poorproj = projects.groupby('OWNER').apply(lambda x: pd.Series(dict(\n",
    "    nonNBIproj=len(x[(x.CONDITION == 'Poor') & (~x.REPORTGROUP.str.endswith('1'))].BRKEY),\n",
    "    NBIproj=len(x[(x.CONDITION == 'Poor') & (x.REPORTGROUP.str.endswith('1'))].BRKEY),\n",
    ")))\n",
    "\n",
    "poorbrid = bridges.groupby('OWNER').apply(lambda x: pd.Series(dict(\n",
    "    nonNBIbr=len(x[(x.CONDITION == 'Poor') & (~x.REPORTGROUP.str.endswith('1'))].BRKEY),\n",
    "    NBIbr=len(x[(x.CONDITION == 'Poor') & (x.REPORTGROUP.str.endswith('1'))].BRKEY),\n",
    ")))\n",
    "\n",
    "comparison = pd.merge(poorproj, poorbrid, on='OWNER')\n",
    "comparison['%_NBI'] = comparison.NBIproj / comparison.NBIbr\n",
    "comparison['%_nonNBI'] = comparison.nonNBIproj / comparison.nonNBIbr\n",
    "comparison['%_Total'] = (comparison.NBIproj + comparison.nonNBIproj) / (comparison.NBIbr + comparison.nonNBIbr)\n",
    "\n",
    "comparison[['%_Total', 'NBIproj', 'NBIbr', '%_NBI', 'nonNBIproj', 'nonNBIbr', '%_nonNBI']]"
   ]
  },
  {
   "cell_type": "markdown",
   "id": "8863d46e-2762-4663-b10e-728554cfc2bb",
   "metadata": {
    "tags": []
   },
   "source": [
    "### Sum project costs by bridge owner"
   ]
  },
  {
   "cell_type": "code",
   "execution_count": 17,
   "id": "86bf90af-c106-46b5-8bb3-385a84116655",
   "metadata": {
    "tags": []
   },
   "outputs": [
    {
     "data": {
      "text/html": [
       "<div>\n",
       "<style scoped>\n",
       "    .dataframe tbody tr th:only-of-type {\n",
       "        vertical-align: middle;\n",
       "    }\n",
       "\n",
       "    .dataframe tbody tr th {\n",
       "        vertical-align: top;\n",
       "    }\n",
       "\n",
       "    .dataframe thead th {\n",
       "        text-align: right;\n",
       "    }\n",
       "</style>\n",
       "<table border=\"1\" class=\"dataframe\">\n",
       "  <thead>\n",
       "    <tr style=\"text-align: right;\">\n",
       "      <th></th>\n",
       "      <th>Total</th>\n",
       "      <th>%_Total</th>\n",
       "    </tr>\n",
       "    <tr>\n",
       "      <th>OWNER</th>\n",
       "      <th></th>\n",
       "      <th></th>\n",
       "    </tr>\n",
       "  </thead>\n",
       "  <tbody>\n",
       "    <tr>\n",
       "      <th>BOROUGH-CITY-TOWNSHIP</th>\n",
       "      <td>203475464</td>\n",
       "      <td>0.084515</td>\n",
       "    </tr>\n",
       "    <tr>\n",
       "      <th>COUNTY HIGHWAY AGENCY</th>\n",
       "      <td>182526224</td>\n",
       "      <td>0.075813</td>\n",
       "    </tr>\n",
       "    <tr>\n",
       "      <th>RAILROAD</th>\n",
       "      <td>2680000</td>\n",
       "      <td>0.001113</td>\n",
       "    </tr>\n",
       "    <tr>\n",
       "      <th>STATE HIGHWAY AGENCY</th>\n",
       "      <td>2018889891</td>\n",
       "      <td>0.838559</td>\n",
       "    </tr>\n",
       "  </tbody>\n",
       "</table>\n",
       "</div>"
      ],
      "text/plain": [
       "                            Total   %_Total\n",
       "OWNER                                      \n",
       "BOROUGH-CITY-TOWNSHIP   203475464  0.084515\n",
       "COUNTY HIGHWAY AGENCY   182526224  0.075813\n",
       "RAILROAD                  2680000  0.001113\n",
       "STATE HIGHWAY AGENCY   2018889891  0.838559"
      ]
     },
     "execution_count": 17,
     "metadata": {},
     "output_type": "execute_result"
    }
   ],
   "source": [
    "projcost = projects.groupby('OWNER').Total.sum().to_frame()\n",
    "projcost['%_Total'] = projcost.Total / projcost.Total.sum()\n",
    "projcost"
   ]
  },
  {
   "cell_type": "markdown",
   "id": "2b82f064-d1c0-41d8-95a5-905a04c9bbf4",
   "metadata": {},
   "source": [
    "### Look at projects by fund"
   ]
  },
  {
   "cell_type": "code",
   "execution_count": 18,
   "id": "88146ec7-a950-41e5-ab7a-5d6e4f08dc08",
   "metadata": {
    "tags": []
   },
   "outputs": [
    {
     "data": {
      "text/html": [
       "<div>\n",
       "<style scoped>\n",
       "    .dataframe tbody tr th:only-of-type {\n",
       "        vertical-align: middle;\n",
       "    }\n",
       "\n",
       "    .dataframe tbody tr th {\n",
       "        vertical-align: top;\n",
       "    }\n",
       "\n",
       "    .dataframe thead th {\n",
       "        text-align: right;\n",
       "    }\n",
       "</style>\n",
       "<table border=\"1\" class=\"dataframe\">\n",
       "  <thead>\n",
       "    <tr style=\"text-align: right;\">\n",
       "      <th></th>\n",
       "      <th>Total</th>\n",
       "      <th>pct</th>\n",
       "    </tr>\n",
       "    <tr>\n",
       "      <th>Fund</th>\n",
       "      <th></th>\n",
       "      <th></th>\n",
       "    </tr>\n",
       "  </thead>\n",
       "  <tbody>\n",
       "    <tr>\n",
       "      <th>BOF</th>\n",
       "      <td>305533864</td>\n",
       "      <td>0.125282</td>\n",
       "    </tr>\n",
       "    <tr>\n",
       "      <th>BRIP</th>\n",
       "      <td>1000943697</td>\n",
       "      <td>0.410429</td>\n",
       "    </tr>\n",
       "    <tr>\n",
       "      <th>HSIP</th>\n",
       "      <td>548500</td>\n",
       "      <td>0.000225</td>\n",
       "    </tr>\n",
       "    <tr>\n",
       "      <th>NFP</th>\n",
       "      <td>56879000</td>\n",
       "      <td>0.023323</td>\n",
       "    </tr>\n",
       "    <tr>\n",
       "      <th>NHPP</th>\n",
       "      <td>434157733</td>\n",
       "      <td>0.178023</td>\n",
       "    </tr>\n",
       "    <tr>\n",
       "      <th>STP</th>\n",
       "      <td>173096935</td>\n",
       "      <td>0.070977</td>\n",
       "    </tr>\n",
       "    <tr>\n",
       "      <th>STU</th>\n",
       "      <td>466916778</td>\n",
       "      <td>0.191456</td>\n",
       "    </tr>\n",
       "    <tr>\n",
       "      <th>SXF</th>\n",
       "      <td>695072</td>\n",
       "      <td>0.000285</td>\n",
       "    </tr>\n",
       "  </tbody>\n",
       "</table>\n",
       "</div>"
      ],
      "text/plain": [
       "           Total       pct\n",
       "Fund                      \n",
       "BOF    305533864  0.125282\n",
       "BRIP  1000943697  0.410429\n",
       "HSIP      548500  0.000225\n",
       "NFP     56879000  0.023323\n",
       "NHPP   434157733  0.178023\n",
       "STP    173096935  0.070977\n",
       "STU    466916778  0.191456\n",
       "SXF       695072  0.000285"
      ]
     },
     "execution_count": 18,
     "metadata": {},
     "output_type": "execute_result"
    }
   ],
   "source": [
    "projectsbyfund = rawprojects.groupby('Fund').Total.aggregate('sum').to_frame()\n",
    "projectsbyfund['pct'] = projectsbyfund.Total / projectsbyfund.Total.sum()\n",
    "projectsbyfund"
   ]
  },
  {
   "cell_type": "code",
   "execution_count": 19,
   "id": "f0e60341-20d7-4cfe-afd9-2f5178f3cd74",
   "metadata": {
    "tags": []
   },
   "outputs": [
    {
     "data": {
      "text/html": [
       "<div>\n",
       "<style scoped>\n",
       "    .dataframe tbody tr th:only-of-type {\n",
       "        vertical-align: middle;\n",
       "    }\n",
       "\n",
       "    .dataframe tbody tr th {\n",
       "        vertical-align: top;\n",
       "    }\n",
       "\n",
       "    .dataframe thead th {\n",
       "        text-align: right;\n",
       "    }\n",
       "</style>\n",
       "<table border=\"1\" class=\"dataframe\">\n",
       "  <thead>\n",
       "    <tr style=\"text-align: right;\">\n",
       "      <th></th>\n",
       "      <th>Total</th>\n",
       "      <th>pct</th>\n",
       "    </tr>\n",
       "    <tr>\n",
       "      <th>OWNER</th>\n",
       "      <th></th>\n",
       "      <th></th>\n",
       "    </tr>\n",
       "  </thead>\n",
       "  <tbody>\n",
       "    <tr>\n",
       "      <th>BOROUGH-CITY-TOWNSHIP</th>\n",
       "      <td>44954000</td>\n",
       "      <td>0.045968</td>\n",
       "    </tr>\n",
       "    <tr>\n",
       "      <th>COUNTY HIGHWAY AGENCY</th>\n",
       "      <td>56292000</td>\n",
       "      <td>0.057562</td>\n",
       "    </tr>\n",
       "    <tr>\n",
       "      <th>RAILROAD</th>\n",
       "      <td>1600000</td>\n",
       "      <td>0.001636</td>\n",
       "    </tr>\n",
       "    <tr>\n",
       "      <th>STATE HIGHWAY AGENCY</th>\n",
       "      <td>875097697</td>\n",
       "      <td>0.894834</td>\n",
       "    </tr>\n",
       "  </tbody>\n",
       "</table>\n",
       "</div>"
      ],
      "text/plain": [
       "                           Total       pct\n",
       "OWNER                                     \n",
       "BOROUGH-CITY-TOWNSHIP   44954000  0.045968\n",
       "COUNTY HIGHWAY AGENCY   56292000  0.057562\n",
       "RAILROAD                 1600000  0.001636\n",
       "STATE HIGHWAY AGENCY   875097697  0.894834"
      ]
     },
     "execution_count": 19,
     "metadata": {},
     "output_type": "execute_result"
    }
   ],
   "source": [
    "bripprojects = rawprojects[rawprojects.Fund == 'BRIP'].groupby(['OWNER']).Total.aggregate('sum').to_frame()\n",
    "bripprojects['pct'] = bripprojects.Total / bripprojects.Total.sum()\n",
    "bripprojects"
   ]
  }
 ],
 "metadata": {
  "kernelspec": {
   "display_name": "Python 3 (ipykernel)",
   "language": "python",
   "name": "python3"
  },
  "language_info": {
   "codemirror_mode": {
    "name": "ipython",
    "version": 3
   },
   "file_extension": ".py",
   "mimetype": "text/x-python",
   "name": "python",
   "nbconvert_exporter": "python",
   "pygments_lexer": "ipython3",
   "version": "3.10.9"
  }
 },
 "nbformat": 4,
 "nbformat_minor": 5
}
