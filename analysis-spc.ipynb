{
 "cells": [
  {
   "cell_type": "markdown",
   "id": "c419ede0-62ae-4132-9aff-361db8df92f0",
   "metadata": {},
   "source": [
    "# Analyze SPC construction projects"
   ]
  },
  {
   "cell_type": "code",
   "execution_count": 1,
   "id": "8faf09cb-36b3-46fb-9e88-37e045f34a6b",
   "metadata": {
    "tags": []
   },
   "outputs": [],
   "source": [
    "import pandas as pd"
   ]
  },
  {
   "cell_type": "markdown",
   "id": "dbeb7ed0-e9ff-41e0-9691-08bdebaee517",
   "metadata": {
    "tags": []
   },
   "source": [
    "### Import latest PennDOT bridge data"
   ]
  },
  {
   "cell_type": "code",
   "execution_count": 2,
   "id": "8b2ad65c-47ef-4ea5-b0d7-4298c2b1effd",
   "metadata": {
    "tags": []
   },
   "outputs": [],
   "source": [
    "bridges = pd.read_csv('input/BridgeCondRpt.csv')"
   ]
  },
  {
   "cell_type": "code",
   "execution_count": 3,
   "id": "411fc81e-fd12-45a6-a950-9117f8f8d5ba",
   "metadata": {
    "tags": []
   },
   "outputs": [
    {
     "name": "stdout",
     "output_type": "stream",
     "text": [
      "<class 'pandas.core.frame.DataFrame'>\n",
      "RangeIndex: 6649 entries, 0 to 6648\n",
      "Data columns (total 25 columns):\n",
      " #   Column                    Non-Null Count  Dtype  \n",
      "---  ------                    --------------  -----  \n",
      " 0   State/Local               6649 non-null   object \n",
      " 1   Condition                 6649 non-null   object \n",
      " 2   BR Key                    6649 non-null   int64  \n",
      " 3   Bridge Id                 6649 non-null   int64  \n",
      " 4   County                    6649 non-null   object \n",
      " 5   Municipality              6621 non-null   object \n",
      " 6   Location/Structure Name   6649 non-null   object \n",
      " 7   Feature Carried           6649 non-null   object \n",
      " 8   Feature Intersected       6646 non-null   object \n",
      " 9   Owner                     6649 non-null   object \n",
      " 10  Length (ft)               6649 non-null   int64  \n",
      " 11  Deck Area (sq ft)         6649 non-null   float64\n",
      " 12  Number of Spans           6649 non-null   int64  \n",
      " 13  Material                  6649 non-null   object \n",
      " 14  Structure Type            6649 non-null   object \n",
      " 15  Year Built                6649 non-null   int64  \n",
      " 16  Posting Status            6649 non-null   object \n",
      " 17  Weight Limit Single       339 non-null    float64\n",
      " 18  Weight Limit Combination  185 non-null    float64\n",
      " 19  Deck Condition            6649 non-null   object \n",
      " 20  Superstructure Condition  6649 non-null   object \n",
      " 21  Substructure Condition    6649 non-null   object \n",
      " 22  Culvert Condition         6649 non-null   object \n",
      " 23  Planning Partner          6649 non-null   object \n",
      " 24  Average Daily Traffic     5276 non-null   float64\n",
      "dtypes: float64(4), int64(5), object(16)\n",
      "memory usage: 1.3+ MB\n"
     ]
    }
   ],
   "source": [
    "bridges.info()"
   ]
  },
  {
   "cell_type": "markdown",
   "id": "6b12e02e-862e-4d6e-8928-bf084525b2a1",
   "metadata": {},
   "source": [
    "##### Manually set some bridge keys"
   ]
  },
  {
   "cell_type": "code",
   "execution_count": 4,
   "id": "d3aa09ef-b16a-4d7d-9035-1ca9a52e0130",
   "metadata": {
    "tags": []
   },
   "outputs": [],
   "source": [
    "bridges.loc[bridges['BR Key'] == 68423, 'BR Key'] = 1942\n",
    "bridges.loc[bridges['BR Key'] == 1942, 'Condition'] = 'Poor'\n",
    "\n",
    "bridges.loc[bridges['BR Key'] == 69253, 'BR Key'] = 7772\n",
    "bridges.loc[bridges['BR Key'] == 7772, 'Condition'] = 'Poor'\n",
    "\n",
    "bridges.loc[bridges['BR Key'] == 68617, 'BR Key'] = 19148\n",
    "bridges.loc[bridges['BR Key'] == 19148, 'Condition'] = 'Fair'\n",
    "\n",
    "bridges.loc[bridges['BR Key'] == 67464, 'BR Key'] = 36697\n",
    "bridges.loc[bridges['BR Key'] == 36697, 'Condition'] = 'Poor'\n",
    "\n",
    "### Add North Tower Road Bridge -- old & new bridge keys don't exist in database\n",
    "bridges.loc[len(bridges)] = [\n",
    "    'S', 'Poor', 22413, 0, '', '',\n",
    "    '', '', '',\n",
    "    'STATE HIGHWAY AGENCY', 0, 0, 0, '', '', 0,\n",
    "    '', 0, 0, '', '',\n",
    "    '', '', 'SPC', 0\n",
    "]\n",
    "\n",
    "### Add Fern Hollow Bridge -- old & new bridge keys don't exist in database\n",
    "bridges.loc[len(bridges)] = [\n",
    "    'L', 'Poor', 2410, 0, '', '',\n",
    "    '', '', '',\n",
    "    'CITY, MUNICIPAL, HIGHWAY AGENCY, OR BOROUGH', 0, 0, 0, '', '', 0,\n",
    "    '', 0, 0, '', '',\n",
    "    '', '', 'SPC', 0\n",
    "]\n",
    "\n",
    "### Add US 422 Cunningham Culverts -- old & new bridge keys don't exist in database\n",
    "bridges.loc[len(bridges)] = [\n",
    "    'L', 'Poor', 19147, 0, '', '',\n",
    "    '', '', '',\n",
    "    'STATE HIGHWAY AGENCY', 0, 0, 0, '', '', 0,\n",
    "    '', 0, 0, '', '',\n",
    "    '', '', 'SPC', 0\n",
    "]\n",
    "\n",
    "### Add Overland Avenue Bridge -- demolished without replacement\n",
    "bridges.loc[len(bridges)] = [\n",
    "    'L', 'Poor', 2651, 0, '', '',\n",
    "    '', '', '',\n",
    "    'CITY, MUNICIPAL, HIGHWAY AGENCY, OR BOROUGH', 0, 0, 0, '', '', 0,\n",
    "    '', 0, 0, '', '',\n",
    "    '', '', 'SPC', 0\n",
    "]\n",
    "\n",
    "### Add Rt 51 Bridge -- doesn't exist in database\n",
    "bridges.loc[len(bridges)] = [\n",
    "    'L', 'Poor', 744, 0, '', '',\n",
    "    '', '', '',\n",
    "    'CITY, MUNICIPAL, HIGHWAY AGENCY, OR BOROUGH', 0, 0, 0, '', '', 0,\n",
    "    '', 0, 0, '', '',\n",
    "    '', '', 'SPC', 0\n",
    "]\n",
    "\n",
    "### Add Armstrong Tunnel -- tunnels don't exist in state database\n",
    "bridges.loc[len(bridges)] = [\n",
    "    'L', '', 2502, 0, '', '',\n",
    "    '', '', '',\n",
    "    'COUNTY HIGHWAY AGENCY', 0, 0, 0, '', '', 0,\n",
    "    '', 0, 0, '', '',\n",
    "    '', '', 'SPC', 0\n",
    "]\n",
    "\n",
    "### Add Corliss Tunnel -- tunnels don't exist in state database\n",
    "bridges.loc[len(bridges)] = [\n",
    "    'L', '', 2401, 0, '', '',\n",
    "    '', '', '',\n",
    "    'CITY, MUNICIPAL, HIGHWAY AGENCY, OR BOROUGH', 0, 0, 0, '', '', 0,\n",
    "    '', 0, 0, '', '',\n",
    "    '', '', 'SPC', 0\n",
    "]\n",
    "\n",
    "### Duplicate the Butler Street Bridge -- work performed on old & new bridge keys\n",
    "bridges.loc[bridges['BR Key'] == 48912, 'Condition'] = 'Poor'\n",
    "\n",
    "butlerst = bridges[bridges['BR Key'] == 48912].values[0]\n",
    "butlerst[1] = 'Poor'\n",
    "butlerst[2] = 487\n",
    "bridges.loc[len(bridges)] = butlerst"
   ]
  },
  {
   "cell_type": "markdown",
   "id": "ba857cc4-cb90-40cb-9195-656e6de560bf",
   "metadata": {},
   "source": [
    "### Import construction projects"
   ]
  },
  {
   "cell_type": "code",
   "execution_count": 5,
   "id": "727a24ad-0206-4f1a-bcb9-253f57938efd",
   "metadata": {
    "tags": []
   },
   "outputs": [],
   "source": [
    "projects = pd.read_csv('input/projects.csv')\n",
    "projects = projects.rename(columns={' Total ': 'Total'})"
   ]
  },
  {
   "cell_type": "code",
   "execution_count": 6,
   "id": "f028dec7-43a5-4195-b921-f5f0270a8b50",
   "metadata": {
    "tags": []
   },
   "outputs": [
    {
     "name": "stdout",
     "output_type": "stream",
     "text": [
      "<class 'pandas.core.frame.DataFrame'>\n",
      "RangeIndex: 1013 entries, 0 to 1012\n",
      "Data columns (total 23 columns):\n",
      " #   Column            Non-Null Count  Dtype  \n",
      "---  ------            --------------  -----  \n",
      " 0   ID                1013 non-null   int64  \n",
      " 1   Planning Partner  1013 non-null   object \n",
      " 2   District          1013 non-null   int64  \n",
      " 3   County            1013 non-null   object \n",
      " 4   Project           1013 non-null   int64  \n",
      " 5   Title             1013 non-null   object \n",
      " 6   SR                975 non-null    float64\n",
      " 7   Sec               1001 non-null   object \n",
      " 8   Project Class     1013 non-null   object \n",
      " 9   BRIDGE KEY        1013 non-null   int64  \n",
      " 10  UDF Narrative     11 non-null     object \n",
      " 11  Phase             1013 non-null   object \n",
      " 12  Fund              1013 non-null   object \n",
      " 13   2023 Tot         1013 non-null   object \n",
      " 14   2024 Tot         1013 non-null   object \n",
      " 15   2025 Tot         1013 non-null   object \n",
      " 16   2026 Tot         1013 non-null   object \n",
      " 17   2027 Tot         1013 non-null   object \n",
      " 18   2028 Tot         1013 non-null   object \n",
      " 19   2029 Tot         1013 non-null   object \n",
      " 20   2030 Tot         1013 non-null   object \n",
      " 21   2031-34 Tot      1013 non-null   object \n",
      " 22  Total             1013 non-null   object \n",
      "dtypes: float64(1), int64(4), object(18)\n",
      "memory usage: 182.1+ KB\n"
     ]
    }
   ],
   "source": [
    "projects.info()"
   ]
  },
  {
   "cell_type": "code",
   "execution_count": 7,
   "id": "24cc67fe-e5a7-42c7-bcec-c13b576c6a93",
   "metadata": {
    "tags": []
   },
   "outputs": [],
   "source": [
    "projects['Total'] = projects.Total.str.replace('$', '', regex=False)\n",
    "projects['Total'] = projects.Total.str.replace(',', '')\n",
    "projects['Total'] = projects.Total.astype(float).astype(int)"
   ]
  },
  {
   "cell_type": "code",
   "execution_count": 8,
   "id": "bb17a113-aace-4b23-98b2-b6a78b2d16dd",
   "metadata": {
    "tags": []
   },
   "outputs": [],
   "source": [
    "projects = projects.groupby(['Project', 'BRIDGE KEY', 'Title']).Total.aggregate('sum').to_frame().reset_index()"
   ]
  },
  {
   "cell_type": "markdown",
   "id": "7f177199-bf9d-428d-8257-8562767cf027",
   "metadata": {},
   "source": [
    "### Merge projects and PennDOT bridge data"
   ]
  },
  {
   "cell_type": "code",
   "execution_count": 9,
   "id": "654ae25d-1dc8-486c-ac37-f6078dc804c0",
   "metadata": {
    "tags": []
   },
   "outputs": [],
   "source": [
    "projects = pd.merge(\n",
    "    projects, bridges,\n",
    "    left_on='BRIDGE KEY', right_on='BR Key',\n",
    "    how='left',\n",
    "    indicator=True\n",
    ")"
   ]
  },
  {
   "cell_type": "code",
   "execution_count": 10,
   "id": "43958ee5-d392-4a1f-a017-eb1e32bb2bbe",
   "metadata": {
    "tags": []
   },
   "outputs": [
    {
     "data": {
      "text/html": [
       "<div>\n",
       "<style scoped>\n",
       "    .dataframe tbody tr th:only-of-type {\n",
       "        vertical-align: middle;\n",
       "    }\n",
       "\n",
       "    .dataframe tbody tr th {\n",
       "        vertical-align: top;\n",
       "    }\n",
       "\n",
       "    .dataframe thead th {\n",
       "        text-align: right;\n",
       "    }\n",
       "</style>\n",
       "<table border=\"1\" class=\"dataframe\">\n",
       "  <thead>\n",
       "    <tr style=\"text-align: right;\">\n",
       "      <th></th>\n",
       "      <th>Project</th>\n",
       "      <th>BRIDGE KEY</th>\n",
       "      <th>Title</th>\n",
       "      <th>Total</th>\n",
       "      <th>State/Local</th>\n",
       "      <th>Condition</th>\n",
       "      <th>BR Key</th>\n",
       "      <th>Bridge Id</th>\n",
       "      <th>County</th>\n",
       "      <th>Municipality</th>\n",
       "      <th>...</th>\n",
       "      <th>Posting Status</th>\n",
       "      <th>Weight Limit Single</th>\n",
       "      <th>Weight Limit Combination</th>\n",
       "      <th>Deck Condition</th>\n",
       "      <th>Superstructure Condition</th>\n",
       "      <th>Substructure Condition</th>\n",
       "      <th>Culvert Condition</th>\n",
       "      <th>Planning Partner</th>\n",
       "      <th>Average Daily Traffic</th>\n",
       "      <th>_merge</th>\n",
       "    </tr>\n",
       "  </thead>\n",
       "  <tbody>\n",
       "  </tbody>\n",
       "</table>\n",
       "<p>0 rows × 30 columns</p>\n",
       "</div>"
      ],
      "text/plain": [
       "Empty DataFrame\n",
       "Columns: [Project, BRIDGE KEY, Title, Total, State/Local, Condition, BR Key, Bridge Id, County, Municipality, Location/Structure Name, Feature Carried, Feature Intersected, Owner, Length (ft), Deck Area (sq ft), Number of Spans, Material, Structure Type, Year Built, Posting Status, Weight Limit Single, Weight Limit Combination, Deck Condition, Superstructure Condition, Substructure Condition, Culvert Condition, Planning Partner, Average Daily Traffic, _merge]\n",
       "Index: []\n",
       "\n",
       "[0 rows x 30 columns]"
      ]
     },
     "execution_count": 10,
     "metadata": {},
     "output_type": "execute_result"
    }
   ],
   "source": [
    "projects[projects._merge == 'left_only'].sort_values(by='BRIDGE KEY')"
   ]
  },
  {
   "cell_type": "markdown",
   "id": "fbfbff64-4f79-42ca-bfb5-6d7230f65feb",
   "metadata": {},
   "source": [
    "### Look at bridges by owner, condition"
   ]
  },
  {
   "cell_type": "code",
   "execution_count": 11,
   "id": "5d1a8aae-3a99-40a5-976d-58cd81f05247",
   "metadata": {
    "tags": []
   },
   "outputs": [],
   "source": [
    "bridgepiv = pd.pivot_table(bridges[['Owner', 'Condition']], index=['Owner'], columns='Condition', values='Condition', aggfunc='size')\n",
    "bridgepiv['Total'] = bridgepiv.sum(axis=1)"
   ]
  },
  {
   "cell_type": "code",
   "execution_count": 12,
   "id": "362b3657-09c5-4838-a670-8b1da268585b",
   "metadata": {
    "tags": []
   },
   "outputs": [],
   "source": [
    "bridgepiv['P%'] = 100 * (bridgepiv.Poor / bridgepiv.Total)\n",
    "bridgepiv['P%_total'] = 100 * (bridgepiv.Poor / bridgepiv.Poor.sum())\n",
    "bridgepiv['%_total'] = 100 * (bridgepiv.Total / bridgepiv.Total.sum())"
   ]
  },
  {
   "cell_type": "code",
   "execution_count": 13,
   "id": "d8ba5b74-01f6-421a-8bd8-1f899f18086d",
   "metadata": {
    "tags": []
   },
   "outputs": [
    {
     "data": {
      "text/html": [
       "<div>\n",
       "<style scoped>\n",
       "    .dataframe tbody tr th:only-of-type {\n",
       "        vertical-align: middle;\n",
       "    }\n",
       "\n",
       "    .dataframe tbody tr th {\n",
       "        vertical-align: top;\n",
       "    }\n",
       "\n",
       "    .dataframe thead th {\n",
       "        text-align: right;\n",
       "    }\n",
       "</style>\n",
       "<table border=\"1\" class=\"dataframe\">\n",
       "  <thead>\n",
       "    <tr style=\"text-align: right;\">\n",
       "      <th>Condition</th>\n",
       "      <th></th>\n",
       "      <th>Fair</th>\n",
       "      <th>Good</th>\n",
       "      <th>Poor</th>\n",
       "      <th>Total</th>\n",
       "      <th>P%</th>\n",
       "      <th>P%_total</th>\n",
       "      <th>%_total</th>\n",
       "    </tr>\n",
       "    <tr>\n",
       "      <th>Owner</th>\n",
       "      <th></th>\n",
       "      <th></th>\n",
       "      <th></th>\n",
       "      <th></th>\n",
       "      <th></th>\n",
       "      <th></th>\n",
       "      <th></th>\n",
       "      <th></th>\n",
       "    </tr>\n",
       "  </thead>\n",
       "  <tbody>\n",
       "    <tr>\n",
       "      <th>CITY, MUNICIPAL, HIGHWAY AGENCY, OR BOROUGH</th>\n",
       "      <td>1.0</td>\n",
       "      <td>118.0</td>\n",
       "      <td>39.0</td>\n",
       "      <td>71.0</td>\n",
       "      <td>229.0</td>\n",
       "      <td>31.004367</td>\n",
       "      <td>7.667387</td>\n",
       "      <td>3.439988</td>\n",
       "    </tr>\n",
       "    <tr>\n",
       "      <th>COUNTY HIGHWAY AGENCY</th>\n",
       "      <td>1.0</td>\n",
       "      <td>349.0</td>\n",
       "      <td>200.0</td>\n",
       "      <td>127.0</td>\n",
       "      <td>677.0</td>\n",
       "      <td>18.759232</td>\n",
       "      <td>13.714903</td>\n",
       "      <td>10.169746</td>\n",
       "    </tr>\n",
       "    <tr>\n",
       "      <th>OTHER LOCAL AGENCIES</th>\n",
       "      <td>NaN</td>\n",
       "      <td>12.0</td>\n",
       "      <td>6.0</td>\n",
       "      <td>5.0</td>\n",
       "      <td>23.0</td>\n",
       "      <td>21.739130</td>\n",
       "      <td>0.539957</td>\n",
       "      <td>0.345501</td>\n",
       "    </tr>\n",
       "    <tr>\n",
       "      <th>RAILROAD</th>\n",
       "      <td>NaN</td>\n",
       "      <td>10.0</td>\n",
       "      <td>4.0</td>\n",
       "      <td>15.0</td>\n",
       "      <td>29.0</td>\n",
       "      <td>51.724138</td>\n",
       "      <td>1.619870</td>\n",
       "      <td>0.435632</td>\n",
       "    </tr>\n",
       "    <tr>\n",
       "      <th>STATE HIGHWAY AGENCY</th>\n",
       "      <td>NaN</td>\n",
       "      <td>2976.0</td>\n",
       "      <td>1716.0</td>\n",
       "      <td>569.0</td>\n",
       "      <td>5261.0</td>\n",
       "      <td>10.815434</td>\n",
       "      <td>61.447084</td>\n",
       "      <td>79.029593</td>\n",
       "    </tr>\n",
       "    <tr>\n",
       "      <th>TOWN OR TOWNSHIP HIGHWAY AGENCY</th>\n",
       "      <td>NaN</td>\n",
       "      <td>198.0</td>\n",
       "      <td>101.0</td>\n",
       "      <td>139.0</td>\n",
       "      <td>438.0</td>\n",
       "      <td>31.735160</td>\n",
       "      <td>15.010799</td>\n",
       "      <td>6.579540</td>\n",
       "    </tr>\n",
       "  </tbody>\n",
       "</table>\n",
       "</div>"
      ],
      "text/plain": [
       "Condition                                           Fair    Good   Poor  \\\n",
       "Owner                                                                     \n",
       "CITY, MUNICIPAL, HIGHWAY AGENCY, OR BOROUGH  1.0   118.0    39.0   71.0   \n",
       "COUNTY HIGHWAY AGENCY                        1.0   349.0   200.0  127.0   \n",
       "OTHER LOCAL AGENCIES                         NaN    12.0     6.0    5.0   \n",
       "RAILROAD                                     NaN    10.0     4.0   15.0   \n",
       "STATE HIGHWAY AGENCY                         NaN  2976.0  1716.0  569.0   \n",
       "TOWN OR TOWNSHIP HIGHWAY AGENCY              NaN   198.0   101.0  139.0   \n",
       "\n",
       "Condition                                     Total         P%   P%_total  \\\n",
       "Owner                                                                       \n",
       "CITY, MUNICIPAL, HIGHWAY AGENCY, OR BOROUGH   229.0  31.004367   7.667387   \n",
       "COUNTY HIGHWAY AGENCY                         677.0  18.759232  13.714903   \n",
       "OTHER LOCAL AGENCIES                           23.0  21.739130   0.539957   \n",
       "RAILROAD                                       29.0  51.724138   1.619870   \n",
       "STATE HIGHWAY AGENCY                         5261.0  10.815434  61.447084   \n",
       "TOWN OR TOWNSHIP HIGHWAY AGENCY               438.0  31.735160  15.010799   \n",
       "\n",
       "Condition                                      %_total  \n",
       "Owner                                                   \n",
       "CITY, MUNICIPAL, HIGHWAY AGENCY, OR BOROUGH   3.439988  \n",
       "COUNTY HIGHWAY AGENCY                        10.169746  \n",
       "OTHER LOCAL AGENCIES                          0.345501  \n",
       "RAILROAD                                      0.435632  \n",
       "STATE HIGHWAY AGENCY                         79.029593  \n",
       "TOWN OR TOWNSHIP HIGHWAY AGENCY               6.579540  "
      ]
     },
     "execution_count": 13,
     "metadata": {},
     "output_type": "execute_result"
    }
   ],
   "source": [
    "bridgepiv"
   ]
  },
  {
   "cell_type": "markdown",
   "id": "8863d46e-2762-4663-b10e-728554cfc2bb",
   "metadata": {},
   "source": [
    "### Sum project costs by bridge owner"
   ]
  },
  {
   "cell_type": "code",
   "execution_count": 14,
   "id": "86bf90af-c106-46b5-8bb3-385a84116655",
   "metadata": {
    "tags": []
   },
   "outputs": [
    {
     "data": {
      "text/html": [
       "<div>\n",
       "<style scoped>\n",
       "    .dataframe tbody tr th:only-of-type {\n",
       "        vertical-align: middle;\n",
       "    }\n",
       "\n",
       "    .dataframe tbody tr th {\n",
       "        vertical-align: top;\n",
       "    }\n",
       "\n",
       "    .dataframe thead th {\n",
       "        text-align: right;\n",
       "    }\n",
       "</style>\n",
       "<table border=\"1\" class=\"dataframe\">\n",
       "  <thead>\n",
       "    <tr style=\"text-align: right;\">\n",
       "      <th></th>\n",
       "      <th>Total</th>\n",
       "      <th>%_Total</th>\n",
       "    </tr>\n",
       "    <tr>\n",
       "      <th>Owner</th>\n",
       "      <th></th>\n",
       "      <th></th>\n",
       "    </tr>\n",
       "  </thead>\n",
       "  <tbody>\n",
       "    <tr>\n",
       "      <th>CITY, MUNICIPAL, HIGHWAY AGENCY, OR BOROUGH</th>\n",
       "      <td>178973884</td>\n",
       "      <td>0.076226</td>\n",
       "    </tr>\n",
       "    <tr>\n",
       "      <th>COUNTY HIGHWAY AGENCY</th>\n",
       "      <td>180526224</td>\n",
       "      <td>0.076888</td>\n",
       "    </tr>\n",
       "    <tr>\n",
       "      <th>RAILROAD</th>\n",
       "      <td>2680000</td>\n",
       "      <td>0.001141</td>\n",
       "    </tr>\n",
       "    <tr>\n",
       "      <th>STATE HIGHWAY AGENCY</th>\n",
       "      <td>1963921199</td>\n",
       "      <td>0.836450</td>\n",
       "    </tr>\n",
       "    <tr>\n",
       "      <th>TOWN OR TOWNSHIP HIGHWAY AGENCY</th>\n",
       "      <td>21821580</td>\n",
       "      <td>0.009294</td>\n",
       "    </tr>\n",
       "  </tbody>\n",
       "</table>\n",
       "</div>"
      ],
      "text/plain": [
       "                                                  Total   %_Total\n",
       "Owner                                                            \n",
       "CITY, MUNICIPAL, HIGHWAY AGENCY, OR BOROUGH   178973884  0.076226\n",
       "COUNTY HIGHWAY AGENCY                         180526224  0.076888\n",
       "RAILROAD                                        2680000  0.001141\n",
       "STATE HIGHWAY AGENCY                         1963921199  0.836450\n",
       "TOWN OR TOWNSHIP HIGHWAY AGENCY                21821580  0.009294"
      ]
     },
     "execution_count": 14,
     "metadata": {},
     "output_type": "execute_result"
    }
   ],
   "source": [
    "projcost = projects.groupby('Owner').Total.sum().to_frame()\n",
    "projcost['%_Total'] = projcost.Total / projcost.Total.sum()\n",
    "projcost"
   ]
  },
  {
   "cell_type": "markdown",
   "id": "6efc8efd-ad4b-417c-8024-a62828dbb832",
   "metadata": {},
   "source": [
    "### Look at projects by bridge owner, condition"
   ]
  },
  {
   "cell_type": "code",
   "execution_count": 15,
   "id": "39aaea7d-bf2d-44db-b31f-0bdba7f19d65",
   "metadata": {
    "tags": []
   },
   "outputs": [
    {
     "data": {
      "text/html": [
       "<div>\n",
       "<style scoped>\n",
       "    .dataframe tbody tr th:only-of-type {\n",
       "        vertical-align: middle;\n",
       "    }\n",
       "\n",
       "    .dataframe tbody tr th {\n",
       "        vertical-align: top;\n",
       "    }\n",
       "\n",
       "    .dataframe thead th {\n",
       "        text-align: right;\n",
       "    }\n",
       "</style>\n",
       "<table border=\"1\" class=\"dataframe\">\n",
       "  <thead>\n",
       "    <tr style=\"text-align: right;\">\n",
       "      <th>Condition</th>\n",
       "      <th></th>\n",
       "      <th>Fair</th>\n",
       "      <th>Good</th>\n",
       "      <th>Poor</th>\n",
       "    </tr>\n",
       "    <tr>\n",
       "      <th>Owner</th>\n",
       "      <th></th>\n",
       "      <th></th>\n",
       "      <th></th>\n",
       "      <th></th>\n",
       "    </tr>\n",
       "  </thead>\n",
       "  <tbody>\n",
       "    <tr>\n",
       "      <th>CITY, MUNICIPAL, HIGHWAY AGENCY, OR BOROUGH</th>\n",
       "      <td>1.0</td>\n",
       "      <td>6.0</td>\n",
       "      <td>NaN</td>\n",
       "      <td>25.0</td>\n",
       "    </tr>\n",
       "    <tr>\n",
       "      <th>COUNTY HIGHWAY AGENCY</th>\n",
       "      <td>1.0</td>\n",
       "      <td>23.0</td>\n",
       "      <td>1.0</td>\n",
       "      <td>25.0</td>\n",
       "    </tr>\n",
       "    <tr>\n",
       "      <th>RAILROAD</th>\n",
       "      <td>NaN</td>\n",
       "      <td>1.0</td>\n",
       "      <td>NaN</td>\n",
       "      <td>1.0</td>\n",
       "    </tr>\n",
       "    <tr>\n",
       "      <th>STATE HIGHWAY AGENCY</th>\n",
       "      <td>NaN</td>\n",
       "      <td>272.0</td>\n",
       "      <td>75.0</td>\n",
       "      <td>138.0</td>\n",
       "    </tr>\n",
       "    <tr>\n",
       "      <th>TOWN OR TOWNSHIP HIGHWAY AGENCY</th>\n",
       "      <td>NaN</td>\n",
       "      <td>1.0</td>\n",
       "      <td>NaN</td>\n",
       "      <td>12.0</td>\n",
       "    </tr>\n",
       "  </tbody>\n",
       "</table>\n",
       "</div>"
      ],
      "text/plain": [
       "Condition                                          Fair  Good   Poor\n",
       "Owner                                                               \n",
       "CITY, MUNICIPAL, HIGHWAY AGENCY, OR BOROUGH  1.0    6.0   NaN   25.0\n",
       "COUNTY HIGHWAY AGENCY                        1.0   23.0   1.0   25.0\n",
       "RAILROAD                                     NaN    1.0   NaN    1.0\n",
       "STATE HIGHWAY AGENCY                         NaN  272.0  75.0  138.0\n",
       "TOWN OR TOWNSHIP HIGHWAY AGENCY              NaN    1.0   NaN   12.0"
      ]
     },
     "execution_count": 15,
     "metadata": {},
     "output_type": "execute_result"
    }
   ],
   "source": [
    "pd.pivot_table(projects[['Owner', 'Condition']], index=['Owner'], columns='Condition', values='Condition', aggfunc='size')"
   ]
  }
 ],
 "metadata": {
  "kernelspec": {
   "display_name": "Python 3 (ipykernel)",
   "language": "python",
   "name": "python3"
  },
  "language_info": {
   "codemirror_mode": {
    "name": "ipython",
    "version": 3
   },
   "file_extension": ".py",
   "mimetype": "text/x-python",
   "name": "python",
   "nbconvert_exporter": "python",
   "pygments_lexer": "ipython3",
   "version": "3.10.9"
  }
 },
 "nbformat": 4,
 "nbformat_minor": 5
}
