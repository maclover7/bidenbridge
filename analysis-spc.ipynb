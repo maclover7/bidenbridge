{
 "cells": [
  {
   "cell_type": "markdown",
   "id": "c419ede0-62ae-4132-9aff-361db8df92f0",
   "metadata": {},
   "source": [
    "# Analyze SPC construction projects"
   ]
  },
  {
   "cell_type": "code",
   "execution_count": 1,
   "id": "8faf09cb-36b3-46fb-9e88-37e045f34a6b",
   "metadata": {
    "tags": []
   },
   "outputs": [],
   "source": [
    "import pandas as pd"
   ]
  },
  {
   "cell_type": "markdown",
   "id": "dbeb7ed0-e9ff-41e0-9691-08bdebaee517",
   "metadata": {
    "tags": []
   },
   "source": [
    "### Import latest PennDOT bridge data"
   ]
  },
  {
   "cell_type": "code",
   "execution_count": 2,
   "id": "8b2ad65c-47ef-4ea5-b0d7-4298c2b1effd",
   "metadata": {
    "tags": []
   },
   "outputs": [],
   "source": [
    "bridges = pd.read_csv('input/BridgeCondRpt.csv')\n",
    "bridges.loc[bridges['Owner'].isin([\n",
    "    'CITY, MUNICIPAL, HIGHWAY AGENCY, OR BOROUGH',\n",
    "    'TOWN OR TOWNSHIP HIGHWAY AGENCY'\n",
    "]), 'Owner'] = 'BOROUGH-CITY-TOWNSHIP'"
   ]
  },
  {
   "cell_type": "code",
   "execution_count": 3,
   "id": "411fc81e-fd12-45a6-a950-9117f8f8d5ba",
   "metadata": {
    "tags": []
   },
   "outputs": [
    {
     "name": "stdout",
     "output_type": "stream",
     "text": [
      "<class 'pandas.core.frame.DataFrame'>\n",
      "RangeIndex: 6649 entries, 0 to 6648\n",
      "Data columns (total 25 columns):\n",
      " #   Column                    Non-Null Count  Dtype  \n",
      "---  ------                    --------------  -----  \n",
      " 0   State/Local               6649 non-null   object \n",
      " 1   Condition                 6649 non-null   object \n",
      " 2   BR Key                    6649 non-null   int64  \n",
      " 3   Bridge Id                 6649 non-null   int64  \n",
      " 4   County                    6649 non-null   object \n",
      " 5   Municipality              6621 non-null   object \n",
      " 6   Location/Structure Name   6649 non-null   object \n",
      " 7   Feature Carried           6649 non-null   object \n",
      " 8   Feature Intersected       6646 non-null   object \n",
      " 9   Owner                     6649 non-null   object \n",
      " 10  Length (ft)               6649 non-null   int64  \n",
      " 11  Deck Area (sq ft)         6649 non-null   float64\n",
      " 12  Number of Spans           6649 non-null   int64  \n",
      " 13  Material                  6649 non-null   object \n",
      " 14  Structure Type            6649 non-null   object \n",
      " 15  Year Built                6649 non-null   int64  \n",
      " 16  Posting Status            6649 non-null   object \n",
      " 17  Weight Limit Single       339 non-null    float64\n",
      " 18  Weight Limit Combination  185 non-null    float64\n",
      " 19  Deck Condition            6649 non-null   object \n",
      " 20  Superstructure Condition  6649 non-null   object \n",
      " 21  Substructure Condition    6649 non-null   object \n",
      " 22  Culvert Condition         6649 non-null   object \n",
      " 23  Planning Partner          6649 non-null   object \n",
      " 24  Average Daily Traffic     5276 non-null   float64\n",
      "dtypes: float64(4), int64(5), object(16)\n",
      "memory usage: 1.3+ MB\n"
     ]
    }
   ],
   "source": [
    "bridges.info()"
   ]
  },
  {
   "cell_type": "markdown",
   "id": "6b12e02e-862e-4d6e-8928-bf084525b2a1",
   "metadata": {},
   "source": [
    "##### Manually set some bridge keys"
   ]
  },
  {
   "cell_type": "code",
   "execution_count": 4,
   "id": "d3aa09ef-b16a-4d7d-9035-1ca9a52e0130",
   "metadata": {
    "tags": []
   },
   "outputs": [],
   "source": [
    "bridges.loc[bridges['BR Key'] == 68423, 'BR Key'] = 1942\n",
    "bridges.loc[bridges['BR Key'] == 1942, 'Condition'] = 'Poor'\n",
    "\n",
    "bridges.loc[bridges['BR Key'] == 69253, 'BR Key'] = 7772\n",
    "bridges.loc[bridges['BR Key'] == 7772, 'Condition'] = 'Poor'\n",
    "\n",
    "bridges.loc[bridges['BR Key'] == 68617, 'BR Key'] = 19148\n",
    "bridges.loc[bridges['BR Key'] == 19148, 'Condition'] = 'Fair'\n",
    "\n",
    "bridges.loc[bridges['BR Key'] == 67464, 'BR Key'] = 36697\n",
    "bridges.loc[bridges['BR Key'] == 36697, 'Condition'] = 'Poor'\n",
    "\n",
    "### Add North Tower Road Bridge -- old (22413) & new (67810) bridge keys don't exist in database\n",
    "bridges.loc[len(bridges)] = [\n",
    "    'S', 'Poor', 22413, 0, '', '',\n",
    "    '', '', '',\n",
    "    'STATE HIGHWAY AGENCY', 20, 0, 0, '', '', 0,\n",
    "    '', 0, 0, '', '',\n",
    "    '', '', 'SPC', 0\n",
    "]\n",
    "\n",
    "### Add Fern Hollow Bridge -- old & new bridge keys don't exist in database\n",
    "bridges.loc[len(bridges)] = [\n",
    "    'L', 'Poor', 2410, 0, '', '',\n",
    "    '', '', '',\n",
    "    'BOROUGH-CITY-TOWNSHIP', 136.2, 0, 0, '', '', 0,\n",
    "    '', 0, 0, '', '',\n",
    "    '', '', 'SPC', 0\n",
    "]\n",
    "\n",
    "### Add US 422 Cunningham Culverts -- old & new bridge keys don't exist in database\n",
    "bridges.loc[len(bridges)] = [\n",
    "    'L', 'Poor', 19147, 0, '', '',\n",
    "    '', '', '',\n",
    "    'STATE HIGHWAY AGENCY', 0, 0, 0, '', '', 0,\n",
    "    '', 0, 0, '', '',\n",
    "    '', '', 'SPC', 0\n",
    "]\n",
    "\n",
    "### Add Overland Avenue Bridge -- demolished without replacement\n",
    "bridges.loc[len(bridges)] = [\n",
    "    'L', 'Poor', 2651, 0, '', '',\n",
    "    '', '', '',\n",
    "    'BOROUGH-CITY-TOWNSHIP', 22.9, 0, 0, '', '', 0,\n",
    "    '', 0, 0, '', '',\n",
    "    '', '', 'SPC', 0\n",
    "]\n",
    "\n",
    "### Add Rt 51 Bridge -- doesn't exist in database\n",
    "bridges.loc[len(bridges)] = [\n",
    "    'L', 'Poor', 744, 0, '', '',\n",
    "    '', '', '',\n",
    "    'BOROUGH-CITY-TOWNSHIP', 67, 0, 0, '', '', 0,\n",
    "    '', 0, 0, '', '',\n",
    "    '', '', 'SPC', 0\n",
    "]\n",
    "\n",
    "### Add Armstrong Tunnel -- tunnels don't exist in state database\n",
    "bridges.loc[len(bridges)] = [\n",
    "    'L', '', 2502, 0, '', '',\n",
    "    '', '', '',\n",
    "    'COUNTY HIGHWAY AGENCY', 1298, 0, 0, '', '', 0,\n",
    "    '', 0, 0, '', '',\n",
    "    '', '', 'SPC', 0\n",
    "]\n",
    "\n",
    "### Add Corliss Tunnel -- tunnels don't exist in state database\n",
    "bridges.loc[len(bridges)] = [\n",
    "    'L', '', 2401, 0, '', '',\n",
    "    '', '', '',\n",
    "    'BOROUGH-CITY-TOWNSHIP', 451, 0, 0, '', '', 0,\n",
    "    '', 0, 0, '', '',\n",
    "    '', '', 'SPC', 0\n",
    "]\n",
    "\n",
    "### Duplicate the Butler Street Bridge -- work performed on old & new bridge keys\n",
    "bridges.loc[bridges['BR Key'] == 48912, 'Condition'] = 'Poor'\n",
    "\n",
    "butlerst = bridges[bridges['BR Key'] == 48912].values[0]\n",
    "butlerst[1] = 'Poor'\n",
    "butlerst[2] = 487\n",
    "bridges.loc[len(bridges)] = butlerst"
   ]
  },
  {
   "cell_type": "markdown",
   "id": "ba857cc4-cb90-40cb-9195-656e6de560bf",
   "metadata": {},
   "source": [
    "### Import construction projects"
   ]
  },
  {
   "cell_type": "code",
   "execution_count": 5,
   "id": "727a24ad-0206-4f1a-bcb9-253f57938efd",
   "metadata": {
    "tags": []
   },
   "outputs": [],
   "source": [
    "rawprojects = pd.read_csv('input/projects.csv')\n",
    "rawprojects = rawprojects.rename(columns={' Total ': 'Total'})"
   ]
  },
  {
   "cell_type": "code",
   "execution_count": 6,
   "id": "f028dec7-43a5-4195-b921-f5f0270a8b50",
   "metadata": {
    "tags": []
   },
   "outputs": [
    {
     "name": "stdout",
     "output_type": "stream",
     "text": [
      "<class 'pandas.core.frame.DataFrame'>\n",
      "RangeIndex: 1048 entries, 0 to 1047\n",
      "Data columns (total 23 columns):\n",
      " #   Column            Non-Null Count  Dtype  \n",
      "---  ------            --------------  -----  \n",
      " 0   ID                1048 non-null   int64  \n",
      " 1   Planning Partner  1048 non-null   object \n",
      " 2   District          1048 non-null   int64  \n",
      " 3   County            1048 non-null   object \n",
      " 4   Project           1048 non-null   int64  \n",
      " 5   Title             1048 non-null   object \n",
      " 6   SR                1009 non-null   float64\n",
      " 7   Sec               1035 non-null   object \n",
      " 8   Project Class     1048 non-null   object \n",
      " 9   BRIDGE KEY        1047 non-null   float64\n",
      " 10  UDF Narrative     11 non-null     object \n",
      " 11  Phase             1048 non-null   object \n",
      " 12  Fund              1048 non-null   object \n",
      " 13   2023 Tot         1048 non-null   object \n",
      " 14   2024 Tot         1048 non-null   object \n",
      " 15   2025 Tot         1048 non-null   object \n",
      " 16   2026 Tot         1048 non-null   object \n",
      " 17   2027 Tot         1048 non-null   object \n",
      " 18   2028 Tot         1048 non-null   object \n",
      " 19   2029 Tot         1048 non-null   object \n",
      " 20   2030 Tot         1048 non-null   object \n",
      " 21   2031-34 Tot      1048 non-null   object \n",
      " 22  Total             1048 non-null   object \n",
      "dtypes: float64(2), int64(3), object(18)\n",
      "memory usage: 188.4+ KB\n"
     ]
    }
   ],
   "source": [
    "rawprojects.info()"
   ]
  },
  {
   "cell_type": "code",
   "execution_count": 7,
   "id": "24cc67fe-e5a7-42c7-bcec-c13b576c6a93",
   "metadata": {
    "tags": []
   },
   "outputs": [],
   "source": [
    "rawprojects['Total'] = rawprojects.Total.str.replace('$', '', regex=False)\n",
    "rawprojects['Total'] = rawprojects.Total.str.replace(',', '')\n",
    "rawprojects['Total'] = rawprojects.Total.astype(float).astype(int)"
   ]
  },
  {
   "cell_type": "markdown",
   "id": "7f177199-bf9d-428d-8257-8562767cf027",
   "metadata": {},
   "source": [
    "### Merge projects and PennDOT bridge data"
   ]
  },
  {
   "cell_type": "code",
   "execution_count": 8,
   "id": "654ae25d-1dc8-486c-ac37-f6078dc804c0",
   "metadata": {
    "tags": []
   },
   "outputs": [],
   "source": [
    "rawprojects = pd.merge(\n",
    "    rawprojects, bridges,\n",
    "    left_on='BRIDGE KEY', right_on='BR Key',\n",
    "    how='left',\n",
    "    indicator=True\n",
    ")"
   ]
  },
  {
   "cell_type": "code",
   "execution_count": 9,
   "id": "43958ee5-d392-4a1f-a017-eb1e32bb2bbe",
   "metadata": {
    "tags": []
   },
   "outputs": [
    {
     "data": {
      "text/html": [
       "<div>\n",
       "<style scoped>\n",
       "    .dataframe tbody tr th:only-of-type {\n",
       "        vertical-align: middle;\n",
       "    }\n",
       "\n",
       "    .dataframe tbody tr th {\n",
       "        vertical-align: top;\n",
       "    }\n",
       "\n",
       "    .dataframe thead th {\n",
       "        text-align: right;\n",
       "    }\n",
       "</style>\n",
       "<table border=\"1\" class=\"dataframe\">\n",
       "  <thead>\n",
       "    <tr style=\"text-align: right;\">\n",
       "      <th></th>\n",
       "      <th>ID</th>\n",
       "      <th>Planning Partner_x</th>\n",
       "      <th>District</th>\n",
       "      <th>County_x</th>\n",
       "      <th>Project</th>\n",
       "      <th>Title</th>\n",
       "      <th>SR</th>\n",
       "      <th>Sec</th>\n",
       "      <th>Project Class</th>\n",
       "      <th>BRIDGE KEY</th>\n",
       "      <th>...</th>\n",
       "      <th>Posting Status</th>\n",
       "      <th>Weight Limit Single</th>\n",
       "      <th>Weight Limit Combination</th>\n",
       "      <th>Deck Condition</th>\n",
       "      <th>Superstructure Condition</th>\n",
       "      <th>Substructure Condition</th>\n",
       "      <th>Culvert Condition</th>\n",
       "      <th>Planning Partner_y</th>\n",
       "      <th>Average Daily Traffic</th>\n",
       "      <th>_merge</th>\n",
       "    </tr>\n",
       "  </thead>\n",
       "  <tbody>\n",
       "    <tr>\n",
       "      <th>1044</th>\n",
       "      <td>663</td>\n",
       "      <td>Interstate</td>\n",
       "      <td>10</td>\n",
       "      <td>Clarion</td>\n",
       "      <td>109300</td>\n",
       "      <td>Clarion River Bridge</td>\n",
       "      <td>80.0</td>\n",
       "      <td>351</td>\n",
       "      <td>Bridge Preservation - Federal</td>\n",
       "      <td>10951.0</td>\n",
       "      <td>...</td>\n",
       "      <td>NaN</td>\n",
       "      <td>NaN</td>\n",
       "      <td>NaN</td>\n",
       "      <td>NaN</td>\n",
       "      <td>NaN</td>\n",
       "      <td>NaN</td>\n",
       "      <td>NaN</td>\n",
       "      <td>NaN</td>\n",
       "      <td>NaN</td>\n",
       "      <td>left_only</td>\n",
       "    </tr>\n",
       "    <tr>\n",
       "      <th>887</th>\n",
       "      <td>513</td>\n",
       "      <td>SPC</td>\n",
       "      <td>12</td>\n",
       "      <td>Fayette</td>\n",
       "      <td>81229</td>\n",
       "      <td>D12 Bridge Preservation Design</td>\n",
       "      <td>NaN</td>\n",
       "      <td>NaN</td>\n",
       "      <td>Bridge Restoration</td>\n",
       "      <td>NaN</td>\n",
       "      <td>...</td>\n",
       "      <td>NaN</td>\n",
       "      <td>NaN</td>\n",
       "      <td>NaN</td>\n",
       "      <td>NaN</td>\n",
       "      <td>NaN</td>\n",
       "      <td>NaN</td>\n",
       "      <td>NaN</td>\n",
       "      <td>NaN</td>\n",
       "      <td>NaN</td>\n",
       "      <td>left_only</td>\n",
       "    </tr>\n",
       "  </tbody>\n",
       "</table>\n",
       "<p>2 rows × 49 columns</p>\n",
       "</div>"
      ],
      "text/plain": [
       "       ID Planning Partner_x  District County_x  Project  \\\n",
       "1044  663         Interstate        10  Clarion   109300   \n",
       "887   513                SPC        12  Fayette    81229   \n",
       "\n",
       "                               Title    SR  Sec  \\\n",
       "1044            Clarion River Bridge  80.0  351   \n",
       "887   D12 Bridge Preservation Design   NaN  NaN   \n",
       "\n",
       "                      Project Class  BRIDGE KEY  ... Posting Status  \\\n",
       "1044  Bridge Preservation - Federal     10951.0  ...            NaN   \n",
       "887              Bridge Restoration         NaN  ...            NaN   \n",
       "\n",
       "     Weight Limit Single Weight Limit Combination Deck Condition  \\\n",
       "1044                 NaN                      NaN            NaN   \n",
       "887                  NaN                      NaN            NaN   \n",
       "\n",
       "     Superstructure Condition Substructure Condition Culvert Condition  \\\n",
       "1044                      NaN                    NaN               NaN   \n",
       "887                       NaN                    NaN               NaN   \n",
       "\n",
       "     Planning Partner_y Average Daily Traffic     _merge  \n",
       "1044                NaN                   NaN  left_only  \n",
       "887                 NaN                   NaN  left_only  \n",
       "\n",
       "[2 rows x 49 columns]"
      ]
     },
     "execution_count": 9,
     "metadata": {},
     "output_type": "execute_result"
    }
   ],
   "source": [
    "rawprojects[rawprojects._merge == 'left_only'].sort_values(by='BRIDGE KEY')"
   ]
  },
  {
   "cell_type": "code",
   "execution_count": 10,
   "id": "80ef0557-e80e-47db-ab81-1b246e3ad664",
   "metadata": {
    "tags": []
   },
   "outputs": [],
   "source": [
    "projects = rawprojects.groupby(['Project', 'BR Key', 'Title', 'Owner', 'Condition', 'Length (ft)']).Total.aggregate('sum').to_frame().reset_index()"
   ]
  },
  {
   "cell_type": "markdown",
   "id": "fbfbff64-4f79-42ca-bfb5-6d7230f65feb",
   "metadata": {},
   "source": [
    "### Look at bridges by owner, condition"
   ]
  },
  {
   "cell_type": "code",
   "execution_count": 11,
   "id": "5d1a8aae-3a99-40a5-976d-58cd81f05247",
   "metadata": {
    "tags": []
   },
   "outputs": [],
   "source": [
    "bridgepiv = pd.pivot_table(bridges[['Owner', 'Condition']], index=['Owner'], columns='Condition', values='Condition', aggfunc='size')\n",
    "bridgepiv['Total'] = bridgepiv.sum(axis=1)"
   ]
  },
  {
   "cell_type": "code",
   "execution_count": 12,
   "id": "362b3657-09c5-4838-a670-8b1da268585b",
   "metadata": {
    "tags": []
   },
   "outputs": [],
   "source": [
    "bridgepiv['P%'] = 100 * (bridgepiv.Poor / bridgepiv.Total)\n",
    "bridgepiv['P%_total'] = 100 * (bridgepiv.Poor / bridgepiv.Poor.sum())\n",
    "bridgepiv['%_total'] = 100 * (bridgepiv.Total / bridgepiv.Total.sum())"
   ]
  },
  {
   "cell_type": "code",
   "execution_count": 13,
   "id": "d8ba5b74-01f6-421a-8bd8-1f899f18086d",
   "metadata": {
    "tags": []
   },
   "outputs": [
    {
     "data": {
      "text/html": [
       "<div>\n",
       "<style scoped>\n",
       "    .dataframe tbody tr th:only-of-type {\n",
       "        vertical-align: middle;\n",
       "    }\n",
       "\n",
       "    .dataframe tbody tr th {\n",
       "        vertical-align: top;\n",
       "    }\n",
       "\n",
       "    .dataframe thead th {\n",
       "        text-align: right;\n",
       "    }\n",
       "</style>\n",
       "<table border=\"1\" class=\"dataframe\">\n",
       "  <thead>\n",
       "    <tr style=\"text-align: right;\">\n",
       "      <th>Condition</th>\n",
       "      <th></th>\n",
       "      <th>Fair</th>\n",
       "      <th>Good</th>\n",
       "      <th>Poor</th>\n",
       "      <th>Total</th>\n",
       "      <th>P%</th>\n",
       "      <th>P%_total</th>\n",
       "      <th>%_total</th>\n",
       "    </tr>\n",
       "    <tr>\n",
       "      <th>Owner</th>\n",
       "      <th></th>\n",
       "      <th></th>\n",
       "      <th></th>\n",
       "      <th></th>\n",
       "      <th></th>\n",
       "      <th></th>\n",
       "      <th></th>\n",
       "      <th></th>\n",
       "    </tr>\n",
       "  </thead>\n",
       "  <tbody>\n",
       "    <tr>\n",
       "      <th>BOROUGH-CITY-TOWNSHIP</th>\n",
       "      <td>1.0</td>\n",
       "      <td>316.0</td>\n",
       "      <td>140.0</td>\n",
       "      <td>210.0</td>\n",
       "      <td>667.0</td>\n",
       "      <td>31.484258</td>\n",
       "      <td>22.678186</td>\n",
       "      <td>10.019528</td>\n",
       "    </tr>\n",
       "    <tr>\n",
       "      <th>COUNTY HIGHWAY AGENCY</th>\n",
       "      <td>1.0</td>\n",
       "      <td>349.0</td>\n",
       "      <td>200.0</td>\n",
       "      <td>127.0</td>\n",
       "      <td>677.0</td>\n",
       "      <td>18.759232</td>\n",
       "      <td>13.714903</td>\n",
       "      <td>10.169746</td>\n",
       "    </tr>\n",
       "    <tr>\n",
       "      <th>OTHER LOCAL AGENCIES</th>\n",
       "      <td>NaN</td>\n",
       "      <td>12.0</td>\n",
       "      <td>6.0</td>\n",
       "      <td>5.0</td>\n",
       "      <td>23.0</td>\n",
       "      <td>21.739130</td>\n",
       "      <td>0.539957</td>\n",
       "      <td>0.345501</td>\n",
       "    </tr>\n",
       "    <tr>\n",
       "      <th>RAILROAD</th>\n",
       "      <td>NaN</td>\n",
       "      <td>10.0</td>\n",
       "      <td>4.0</td>\n",
       "      <td>15.0</td>\n",
       "      <td>29.0</td>\n",
       "      <td>51.724138</td>\n",
       "      <td>1.619870</td>\n",
       "      <td>0.435632</td>\n",
       "    </tr>\n",
       "    <tr>\n",
       "      <th>STATE HIGHWAY AGENCY</th>\n",
       "      <td>NaN</td>\n",
       "      <td>2976.0</td>\n",
       "      <td>1716.0</td>\n",
       "      <td>569.0</td>\n",
       "      <td>5261.0</td>\n",
       "      <td>10.815434</td>\n",
       "      <td>61.447084</td>\n",
       "      <td>79.029593</td>\n",
       "    </tr>\n",
       "  </tbody>\n",
       "</table>\n",
       "</div>"
      ],
      "text/plain": [
       "Condition                     Fair    Good   Poor   Total         P%  \\\n",
       "Owner                                                                  \n",
       "BOROUGH-CITY-TOWNSHIP  1.0   316.0   140.0  210.0   667.0  31.484258   \n",
       "COUNTY HIGHWAY AGENCY  1.0   349.0   200.0  127.0   677.0  18.759232   \n",
       "OTHER LOCAL AGENCIES   NaN    12.0     6.0    5.0    23.0  21.739130   \n",
       "RAILROAD               NaN    10.0     4.0   15.0    29.0  51.724138   \n",
       "STATE HIGHWAY AGENCY   NaN  2976.0  1716.0  569.0  5261.0  10.815434   \n",
       "\n",
       "Condition               P%_total    %_total  \n",
       "Owner                                        \n",
       "BOROUGH-CITY-TOWNSHIP  22.678186  10.019528  \n",
       "COUNTY HIGHWAY AGENCY  13.714903  10.169746  \n",
       "OTHER LOCAL AGENCIES    0.539957   0.345501  \n",
       "RAILROAD                1.619870   0.435632  \n",
       "STATE HIGHWAY AGENCY   61.447084  79.029593  "
      ]
     },
     "execution_count": 13,
     "metadata": {},
     "output_type": "execute_result"
    }
   ],
   "source": [
    "bridgepiv"
   ]
  },
  {
   "cell_type": "markdown",
   "id": "6efc8efd-ad4b-417c-8024-a62828dbb832",
   "metadata": {},
   "source": [
    "### Look at projects by bridge owner, condition"
   ]
  },
  {
   "cell_type": "code",
   "execution_count": 14,
   "id": "39aaea7d-bf2d-44db-b31f-0bdba7f19d65",
   "metadata": {
    "tags": []
   },
   "outputs": [
    {
     "data": {
      "text/html": [
       "<div>\n",
       "<style scoped>\n",
       "    .dataframe tbody tr th:only-of-type {\n",
       "        vertical-align: middle;\n",
       "    }\n",
       "\n",
       "    .dataframe tbody tr th {\n",
       "        vertical-align: top;\n",
       "    }\n",
       "\n",
       "    .dataframe thead th {\n",
       "        text-align: right;\n",
       "    }\n",
       "</style>\n",
       "<table border=\"1\" class=\"dataframe\">\n",
       "  <thead>\n",
       "    <tr style=\"text-align: right;\">\n",
       "      <th>Condition</th>\n",
       "      <th></th>\n",
       "      <th>Fair</th>\n",
       "      <th>Good</th>\n",
       "      <th>Poor</th>\n",
       "    </tr>\n",
       "    <tr>\n",
       "      <th>Owner</th>\n",
       "      <th></th>\n",
       "      <th></th>\n",
       "      <th></th>\n",
       "      <th></th>\n",
       "    </tr>\n",
       "  </thead>\n",
       "  <tbody>\n",
       "    <tr>\n",
       "      <th>BOROUGH-CITY-TOWNSHIP</th>\n",
       "      <td>1.0</td>\n",
       "      <td>7.0</td>\n",
       "      <td>NaN</td>\n",
       "      <td>39.0</td>\n",
       "    </tr>\n",
       "    <tr>\n",
       "      <th>COUNTY HIGHWAY AGENCY</th>\n",
       "      <td>1.0</td>\n",
       "      <td>23.0</td>\n",
       "      <td>1.0</td>\n",
       "      <td>26.0</td>\n",
       "    </tr>\n",
       "    <tr>\n",
       "      <th>RAILROAD</th>\n",
       "      <td>NaN</td>\n",
       "      <td>1.0</td>\n",
       "      <td>NaN</td>\n",
       "      <td>1.0</td>\n",
       "    </tr>\n",
       "    <tr>\n",
       "      <th>STATE HIGHWAY AGENCY</th>\n",
       "      <td>NaN</td>\n",
       "      <td>276.0</td>\n",
       "      <td>75.0</td>\n",
       "      <td>142.0</td>\n",
       "    </tr>\n",
       "  </tbody>\n",
       "</table>\n",
       "</div>"
      ],
      "text/plain": [
       "Condition                    Fair  Good   Poor\n",
       "Owner                                         \n",
       "BOROUGH-CITY-TOWNSHIP  1.0    7.0   NaN   39.0\n",
       "COUNTY HIGHWAY AGENCY  1.0   23.0   1.0   26.0\n",
       "RAILROAD               NaN    1.0   NaN    1.0\n",
       "STATE HIGHWAY AGENCY   NaN  276.0  75.0  142.0"
      ]
     },
     "execution_count": 14,
     "metadata": {},
     "output_type": "execute_result"
    }
   ],
   "source": [
    "pd.pivot_table(projects[['Owner', 'Condition']], index=['Owner'], columns='Condition', values='Condition', aggfunc='size')"
   ]
  },
  {
   "cell_type": "markdown",
   "id": "f2aaf546-34e9-4288-998a-8aad9e1599d5",
   "metadata": {},
   "source": [
    "### Look at projects by owner, NBI status"
   ]
  },
  {
   "cell_type": "code",
   "execution_count": 15,
   "id": "d6786353-483a-476f-94f2-8074b814b68c",
   "metadata": {
    "tags": []
   },
   "outputs": [
    {
     "data": {
      "text/html": [
       "<div>\n",
       "<style scoped>\n",
       "    .dataframe tbody tr th:only-of-type {\n",
       "        vertical-align: middle;\n",
       "    }\n",
       "\n",
       "    .dataframe tbody tr th {\n",
       "        vertical-align: top;\n",
       "    }\n",
       "\n",
       "    .dataframe thead th {\n",
       "        text-align: right;\n",
       "    }\n",
       "</style>\n",
       "<table border=\"1\" class=\"dataframe\">\n",
       "  <thead>\n",
       "    <tr style=\"text-align: right;\">\n",
       "      <th></th>\n",
       "      <th>nonNBIproj</th>\n",
       "      <th>NBIproj</th>\n",
       "      <th>nonNBIbr</th>\n",
       "      <th>NBIbr</th>\n",
       "      <th>%_NBI</th>\n",
       "      <th>%_nonNBI</th>\n",
       "      <th>%_Total</th>\n",
       "    </tr>\n",
       "    <tr>\n",
       "      <th>Owner</th>\n",
       "      <th></th>\n",
       "      <th></th>\n",
       "      <th></th>\n",
       "      <th></th>\n",
       "      <th></th>\n",
       "      <th></th>\n",
       "      <th></th>\n",
       "    </tr>\n",
       "  </thead>\n",
       "  <tbody>\n",
       "    <tr>\n",
       "      <th>BOROUGH-CITY-TOWNSHIP</th>\n",
       "      <td>0</td>\n",
       "      <td>39</td>\n",
       "      <td>1</td>\n",
       "      <td>209</td>\n",
       "      <td>0.186603</td>\n",
       "      <td>0.000000</td>\n",
       "      <td>0.185714</td>\n",
       "    </tr>\n",
       "    <tr>\n",
       "      <th>COUNTY HIGHWAY AGENCY</th>\n",
       "      <td>0</td>\n",
       "      <td>26</td>\n",
       "      <td>0</td>\n",
       "      <td>127</td>\n",
       "      <td>0.204724</td>\n",
       "      <td>NaN</td>\n",
       "      <td>0.204724</td>\n",
       "    </tr>\n",
       "    <tr>\n",
       "      <th>RAILROAD</th>\n",
       "      <td>0</td>\n",
       "      <td>1</td>\n",
       "      <td>0</td>\n",
       "      <td>15</td>\n",
       "      <td>0.066667</td>\n",
       "      <td>NaN</td>\n",
       "      <td>0.066667</td>\n",
       "    </tr>\n",
       "    <tr>\n",
       "      <th>STATE HIGHWAY AGENCY</th>\n",
       "      <td>33</td>\n",
       "      <td>109</td>\n",
       "      <td>298</td>\n",
       "      <td>271</td>\n",
       "      <td>0.402214</td>\n",
       "      <td>0.110738</td>\n",
       "      <td>0.249561</td>\n",
       "    </tr>\n",
       "  </tbody>\n",
       "</table>\n",
       "</div>"
      ],
      "text/plain": [
       "                       nonNBIproj  NBIproj  nonNBIbr  NBIbr     %_NBI  \\\n",
       "Owner                                                                   \n",
       "BOROUGH-CITY-TOWNSHIP           0       39         1    209  0.186603   \n",
       "COUNTY HIGHWAY AGENCY           0       26         0    127  0.204724   \n",
       "RAILROAD                        0        1         0     15  0.066667   \n",
       "STATE HIGHWAY AGENCY           33      109       298    271  0.402214   \n",
       "\n",
       "                       %_nonNBI   %_Total  \n",
       "Owner                                      \n",
       "BOROUGH-CITY-TOWNSHIP  0.000000  0.185714  \n",
       "COUNTY HIGHWAY AGENCY       NaN  0.204724  \n",
       "RAILROAD                    NaN  0.066667  \n",
       "STATE HIGHWAY AGENCY   0.110738  0.249561  "
      ]
     },
     "execution_count": 15,
     "metadata": {},
     "output_type": "execute_result"
    }
   ],
   "source": [
    "poorproj = projects.groupby('Owner').apply(lambda x: pd.Series(dict(\n",
    "    nonNBIproj=len(x[(x['Condition'] == 'Poor') & (x['Length (ft)'] <= 20)]['BR Key']),\n",
    "    NBIproj=len(x[(x['Condition'] == 'Poor') & (x['Length (ft)'] > 20)]['BR Key']),\n",
    ")))\n",
    "\n",
    "poorbrid = bridges.groupby('Owner').apply(lambda x: pd.Series(dict(\n",
    "    nonNBIbr=len(x[(x['Condition'] == 'Poor') & (x['Length (ft)'] <= 20)]['BR Key']),\n",
    "    NBIbr=len(x[(x['Condition'] == 'Poor') & (x['Length (ft)'] > 20)]['BR Key']),\n",
    ")))\n",
    "\n",
    "comparison = pd.merge(poorproj, poorbrid, on='Owner')\n",
    "comparison['%_NBI'] = comparison.NBIproj / comparison.NBIbr\n",
    "comparison['%_nonNBI'] = comparison.nonNBIproj / comparison.nonNBIbr\n",
    "comparison['%_Total'] = (comparison.NBIproj + comparison.nonNBIproj) / (comparison.NBIbr + comparison.nonNBIbr)\n",
    "\n",
    "comparison"
   ]
  },
  {
   "cell_type": "markdown",
   "id": "8863d46e-2762-4663-b10e-728554cfc2bb",
   "metadata": {
    "tags": []
   },
   "source": [
    "### Sum project costs by bridge owner"
   ]
  },
  {
   "cell_type": "code",
   "execution_count": 16,
   "id": "86bf90af-c106-46b5-8bb3-385a84116655",
   "metadata": {
    "tags": []
   },
   "outputs": [
    {
     "data": {
      "text/html": [
       "<div>\n",
       "<style scoped>\n",
       "    .dataframe tbody tr th:only-of-type {\n",
       "        vertical-align: middle;\n",
       "    }\n",
       "\n",
       "    .dataframe tbody tr th {\n",
       "        vertical-align: top;\n",
       "    }\n",
       "\n",
       "    .dataframe thead th {\n",
       "        text-align: right;\n",
       "    }\n",
       "</style>\n",
       "<table border=\"1\" class=\"dataframe\">\n",
       "  <thead>\n",
       "    <tr style=\"text-align: right;\">\n",
       "      <th></th>\n",
       "      <th>Total</th>\n",
       "      <th>%_Total</th>\n",
       "    </tr>\n",
       "    <tr>\n",
       "      <th>Owner</th>\n",
       "      <th></th>\n",
       "      <th></th>\n",
       "    </tr>\n",
       "  </thead>\n",
       "  <tbody>\n",
       "    <tr>\n",
       "      <th>BOROUGH-CITY-TOWNSHIP</th>\n",
       "      <td>203475464</td>\n",
       "      <td>0.084515</td>\n",
       "    </tr>\n",
       "    <tr>\n",
       "      <th>COUNTY HIGHWAY AGENCY</th>\n",
       "      <td>182526224</td>\n",
       "      <td>0.075813</td>\n",
       "    </tr>\n",
       "    <tr>\n",
       "      <th>RAILROAD</th>\n",
       "      <td>2680000</td>\n",
       "      <td>0.001113</td>\n",
       "    </tr>\n",
       "    <tr>\n",
       "      <th>STATE HIGHWAY AGENCY</th>\n",
       "      <td>2018889891</td>\n",
       "      <td>0.838559</td>\n",
       "    </tr>\n",
       "  </tbody>\n",
       "</table>\n",
       "</div>"
      ],
      "text/plain": [
       "                            Total   %_Total\n",
       "Owner                                      \n",
       "BOROUGH-CITY-TOWNSHIP   203475464  0.084515\n",
       "COUNTY HIGHWAY AGENCY   182526224  0.075813\n",
       "RAILROAD                  2680000  0.001113\n",
       "STATE HIGHWAY AGENCY   2018889891  0.838559"
      ]
     },
     "execution_count": 16,
     "metadata": {},
     "output_type": "execute_result"
    }
   ],
   "source": [
    "projcost = projects.groupby('Owner').Total.sum().to_frame()\n",
    "projcost['%_Total'] = projcost.Total / projcost.Total.sum()\n",
    "projcost"
   ]
  },
  {
   "cell_type": "markdown",
   "id": "2b82f064-d1c0-41d8-95a5-905a04c9bbf4",
   "metadata": {},
   "source": [
    "### Look at projects by fund"
   ]
  },
  {
   "cell_type": "code",
   "execution_count": 17,
   "id": "88146ec7-a950-41e5-ab7a-5d6e4f08dc08",
   "metadata": {
    "tags": []
   },
   "outputs": [
    {
     "data": {
      "text/html": [
       "<div>\n",
       "<style scoped>\n",
       "    .dataframe tbody tr th:only-of-type {\n",
       "        vertical-align: middle;\n",
       "    }\n",
       "\n",
       "    .dataframe tbody tr th {\n",
       "        vertical-align: top;\n",
       "    }\n",
       "\n",
       "    .dataframe thead th {\n",
       "        text-align: right;\n",
       "    }\n",
       "</style>\n",
       "<table border=\"1\" class=\"dataframe\">\n",
       "  <thead>\n",
       "    <tr style=\"text-align: right;\">\n",
       "      <th></th>\n",
       "      <th>Total</th>\n",
       "      <th>pct</th>\n",
       "    </tr>\n",
       "    <tr>\n",
       "      <th>Fund</th>\n",
       "      <th></th>\n",
       "      <th></th>\n",
       "    </tr>\n",
       "  </thead>\n",
       "  <tbody>\n",
       "    <tr>\n",
       "      <th>BOF</th>\n",
       "      <td>305533864</td>\n",
       "      <td>0.125282</td>\n",
       "    </tr>\n",
       "    <tr>\n",
       "      <th>BRIP</th>\n",
       "      <td>1000943697</td>\n",
       "      <td>0.410429</td>\n",
       "    </tr>\n",
       "    <tr>\n",
       "      <th>HSIP</th>\n",
       "      <td>548500</td>\n",
       "      <td>0.000225</td>\n",
       "    </tr>\n",
       "    <tr>\n",
       "      <th>NFP</th>\n",
       "      <td>56879000</td>\n",
       "      <td>0.023323</td>\n",
       "    </tr>\n",
       "    <tr>\n",
       "      <th>NHPP</th>\n",
       "      <td>434157733</td>\n",
       "      <td>0.178023</td>\n",
       "    </tr>\n",
       "    <tr>\n",
       "      <th>STP</th>\n",
       "      <td>173096935</td>\n",
       "      <td>0.070977</td>\n",
       "    </tr>\n",
       "    <tr>\n",
       "      <th>STU</th>\n",
       "      <td>466916778</td>\n",
       "      <td>0.191456</td>\n",
       "    </tr>\n",
       "    <tr>\n",
       "      <th>SXF</th>\n",
       "      <td>695072</td>\n",
       "      <td>0.000285</td>\n",
       "    </tr>\n",
       "  </tbody>\n",
       "</table>\n",
       "</div>"
      ],
      "text/plain": [
       "           Total       pct\n",
       "Fund                      \n",
       "BOF    305533864  0.125282\n",
       "BRIP  1000943697  0.410429\n",
       "HSIP      548500  0.000225\n",
       "NFP     56879000  0.023323\n",
       "NHPP   434157733  0.178023\n",
       "STP    173096935  0.070977\n",
       "STU    466916778  0.191456\n",
       "SXF       695072  0.000285"
      ]
     },
     "execution_count": 17,
     "metadata": {},
     "output_type": "execute_result"
    }
   ],
   "source": [
    "projectsbyfund = rawprojects.groupby('Fund').Total.aggregate('sum').to_frame()\n",
    "projectsbyfund['pct'] = projectsbyfund.Total / projectsbyfund.Total.sum()\n",
    "projectsbyfund"
   ]
  },
  {
   "cell_type": "code",
   "execution_count": 18,
   "id": "f0e60341-20d7-4cfe-afd9-2f5178f3cd74",
   "metadata": {
    "tags": []
   },
   "outputs": [
    {
     "data": {
      "text/html": [
       "<div>\n",
       "<style scoped>\n",
       "    .dataframe tbody tr th:only-of-type {\n",
       "        vertical-align: middle;\n",
       "    }\n",
       "\n",
       "    .dataframe tbody tr th {\n",
       "        vertical-align: top;\n",
       "    }\n",
       "\n",
       "    .dataframe thead th {\n",
       "        text-align: right;\n",
       "    }\n",
       "</style>\n",
       "<table border=\"1\" class=\"dataframe\">\n",
       "  <thead>\n",
       "    <tr style=\"text-align: right;\">\n",
       "      <th></th>\n",
       "      <th>Total</th>\n",
       "      <th>pct</th>\n",
       "    </tr>\n",
       "    <tr>\n",
       "      <th>Owner</th>\n",
       "      <th></th>\n",
       "      <th></th>\n",
       "    </tr>\n",
       "  </thead>\n",
       "  <tbody>\n",
       "    <tr>\n",
       "      <th>BOROUGH-CITY-TOWNSHIP</th>\n",
       "      <td>44954000</td>\n",
       "      <td>0.045968</td>\n",
       "    </tr>\n",
       "    <tr>\n",
       "      <th>COUNTY HIGHWAY AGENCY</th>\n",
       "      <td>56292000</td>\n",
       "      <td>0.057562</td>\n",
       "    </tr>\n",
       "    <tr>\n",
       "      <th>RAILROAD</th>\n",
       "      <td>1600000</td>\n",
       "      <td>0.001636</td>\n",
       "    </tr>\n",
       "    <tr>\n",
       "      <th>STATE HIGHWAY AGENCY</th>\n",
       "      <td>875097697</td>\n",
       "      <td>0.894834</td>\n",
       "    </tr>\n",
       "  </tbody>\n",
       "</table>\n",
       "</div>"
      ],
      "text/plain": [
       "                           Total       pct\n",
       "Owner                                     \n",
       "BOROUGH-CITY-TOWNSHIP   44954000  0.045968\n",
       "COUNTY HIGHWAY AGENCY   56292000  0.057562\n",
       "RAILROAD                 1600000  0.001636\n",
       "STATE HIGHWAY AGENCY   875097697  0.894834"
      ]
     },
     "execution_count": 18,
     "metadata": {},
     "output_type": "execute_result"
    }
   ],
   "source": [
    "bripprojects = rawprojects[rawprojects.Fund == 'BRIP'].groupby(['Owner']).Total.aggregate('sum').to_frame()\n",
    "bripprojects['pct'] = bripprojects.Total / bripprojects.Total.sum()\n",
    "bripprojects"
   ]
  }
 ],
 "metadata": {
  "kernelspec": {
   "display_name": "Python 3 (ipykernel)",
   "language": "python",
   "name": "python3"
  },
  "language_info": {
   "codemirror_mode": {
    "name": "ipython",
    "version": 3
   },
   "file_extension": ".py",
   "mimetype": "text/x-python",
   "name": "python",
   "nbconvert_exporter": "python",
   "pygments_lexer": "ipython3",
   "version": "3.10.9"
  }
 },
 "nbformat": 4,
 "nbformat_minor": 5
}
