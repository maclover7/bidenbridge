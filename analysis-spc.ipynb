{
 "cells": [
  {
   "cell_type": "markdown",
   "id": "c419ede0-62ae-4132-9aff-361db8df92f0",
   "metadata": {},
   "source": [
    "# Analyze SPC construction projects"
   ]
  },
  {
   "cell_type": "code",
   "execution_count": 1,
   "id": "8faf09cb-36b3-46fb-9e88-37e045f34a6b",
   "metadata": {
    "tags": []
   },
   "outputs": [],
   "source": [
    "import pandas as pd"
   ]
  },
  {
   "cell_type": "markdown",
   "id": "dbeb7ed0-e9ff-41e0-9691-08bdebaee517",
   "metadata": {
    "tags": []
   },
   "source": [
    "### Import latest NBI data"
   ]
  },
  {
   "cell_type": "code",
   "execution_count": 2,
   "id": "79c36c46-032c-4dc9-b033-682ebe2651a2",
   "metadata": {
    "tags": []
   },
   "outputs": [],
   "source": [
    "nbi = pd.read_csv('output/nbi2022-formatted.csv')"
   ]
  },
  {
   "cell_type": "code",
   "execution_count": 3,
   "id": "27d14201-fc1b-43ee-bb21-6ab5398bf628",
   "metadata": {
    "tags": []
   },
   "outputs": [
    {
     "name": "stdout",
     "output_type": "stream",
     "text": [
      "<class 'pandas.core.frame.DataFrame'>\n",
      "RangeIndex: 4788 entries, 0 to 4787\n",
      "Data columns (total 3 columns):\n",
      " #   Column                Non-Null Count  Dtype \n",
      "---  ------                --------------  ----- \n",
      " 0   STRUCTURE_NUMBER_008  4788 non-null   object\n",
      " 1   BridgeCondition       4788 non-null   object\n",
      " 2   SimpleOwner           4788 non-null   object\n",
      "dtypes: object(3)\n",
      "memory usage: 112.3+ KB\n"
     ]
    }
   ],
   "source": [
    "nbi.info()"
   ]
  },
  {
   "cell_type": "markdown",
   "id": "ba857cc4-cb90-40cb-9195-656e6de560bf",
   "metadata": {},
   "source": [
    "### Import construction projects"
   ]
  },
  {
   "cell_type": "code",
   "execution_count": 4,
   "id": "727a24ad-0206-4f1a-bcb9-253f57938efd",
   "metadata": {
    "tags": []
   },
   "outputs": [],
   "source": [
    "projects = pd.read_csv('input/projects.csv')"
   ]
  },
  {
   "cell_type": "code",
   "execution_count": 5,
   "id": "f028dec7-43a5-4195-b921-f5f0270a8b50",
   "metadata": {
    "tags": []
   },
   "outputs": [
    {
     "name": "stdout",
     "output_type": "stream",
     "text": [
      "<class 'pandas.core.frame.DataFrame'>\n",
      "RangeIndex: 155 entries, 0 to 154\n",
      "Data columns (total 21 columns):\n",
      " #   Column            Non-Null Count  Dtype  \n",
      "---  ------            --------------  -----  \n",
      " 0   Planning Partner  155 non-null    object \n",
      " 1   Dist              155 non-null    int64  \n",
      " 2   County            155 non-null    object \n",
      " 3   Project           155 non-null    int64  \n",
      " 4   Title             155 non-null    object \n",
      " 5   SR                144 non-null    float64\n",
      " 6   Sec               148 non-null    object \n",
      " 7   Project Class     155 non-null    object \n",
      " 8   UDF Narrative     0 non-null      float64\n",
      " 9   Phase             155 non-null    object \n",
      " 10  Fund              155 non-null    object \n",
      " 11  2023 Tot          155 non-null    object \n",
      " 12  2024 Tot          155 non-null    object \n",
      " 13  2025 Tot          155 non-null    object \n",
      " 14  2026 Tot          155 non-null    object \n",
      " 15  2027 Tot          155 non-null    object \n",
      " 16  2028 Tot          155 non-null    object \n",
      " 17  2029 Tot          155 non-null    object \n",
      " 18  2030 Tot          155 non-null    object \n",
      " 19  2031-34 Tot       155 non-null    object \n",
      " 20  Total             155 non-null    object \n",
      "dtypes: float64(2), int64(2), object(17)\n",
      "memory usage: 25.6+ KB\n"
     ]
    }
   ],
   "source": [
    "projects.info()"
   ]
  },
  {
   "cell_type": "code",
   "execution_count": 6,
   "id": "24cc67fe-e5a7-42c7-bcec-c13b576c6a93",
   "metadata": {
    "tags": []
   },
   "outputs": [],
   "source": [
    "projects['Total'] = projects.Total.str.replace(',', '')\n",
    "projects['Total'] = projects.Total.astype(int)"
   ]
  },
  {
   "cell_type": "code",
   "execution_count": 7,
   "id": "bb17a113-aace-4b23-98b2-b6a78b2d16dd",
   "metadata": {
    "tags": []
   },
   "outputs": [],
   "source": [
    "projects = projects.groupby(['Project', 'Title']).Total.aggregate('sum').to_frame().reset_index()"
   ]
  },
  {
   "cell_type": "markdown",
   "id": "6ae8c548-e7ab-48a1-987e-f4ffec3b862b",
   "metadata": {},
   "source": [
    "### Import NBI bridge keys"
   ]
  },
  {
   "cell_type": "code",
   "execution_count": 8,
   "id": "15b3b2d8-7510-4745-a1bb-c434054f5be8",
   "metadata": {
    "tags": []
   },
   "outputs": [],
   "source": [
    "keys = pd.read_csv('input/projects-keys.csv')\n",
    "keys = keys[keys['Bridge Key'].notna()]"
   ]
  },
  {
   "cell_type": "code",
   "execution_count": 9,
   "id": "e9e6198a-7986-4cf8-b270-90f029e888ac",
   "metadata": {
    "tags": []
   },
   "outputs": [],
   "source": [
    "multikeyprojects = []\n",
    "\n",
    "for (index, row) in keys[keys['Bridge Key'].str.contains(',')].iterrows():\n",
    "    for key in row['Bridge Key'].split(', '):\n",
    "        multikeyprojects.append([\n",
    "            row['Project'],\n",
    "            row['Project Title'],\n",
    "            key,\n",
    "            '',\n",
    "            ''\n",
    "        ])"
   ]
  },
  {
   "cell_type": "code",
   "execution_count": 10,
   "id": "ff9ae9fb-02c2-4449-9fe3-fcb00c36d636",
   "metadata": {
    "tags": []
   },
   "outputs": [],
   "source": [
    "keys = pd.concat([\n",
    "    keys[~keys['Bridge Key'].str.contains(',')],\n",
    "    pd.DataFrame(multikeyprojects, columns=keys.columns)\n",
    "])"
   ]
  },
  {
   "cell_type": "code",
   "execution_count": 11,
   "id": "c5c0d22f-018a-421a-8713-4efb2452eb0f",
   "metadata": {
    "tags": []
   },
   "outputs": [],
   "source": [
    "keys['Bridge Key'] = keys['Bridge Key'].astype(str).str.zfill(15)"
   ]
  },
  {
   "cell_type": "markdown",
   "id": "7f177199-bf9d-428d-8257-8562767cf027",
   "metadata": {},
   "source": [
    "### Merge projects, bridge keys and NBI data"
   ]
  },
  {
   "cell_type": "code",
   "execution_count": 12,
   "id": "8fc88dd0-936a-4fe9-a9c1-781cc25590fd",
   "metadata": {
    "tags": []
   },
   "outputs": [],
   "source": [
    "projects = pd.merge(projects, keys[['Project', 'Bridge Key']], on='Project')"
   ]
  },
  {
   "cell_type": "code",
   "execution_count": 13,
   "id": "654ae25d-1dc8-486c-ac37-f6078dc804c0",
   "metadata": {
    "tags": []
   },
   "outputs": [],
   "source": [
    "projects = pd.merge(projects, nbi, left_on='Bridge Key', right_on='STRUCTURE_NUMBER_008')"
   ]
  },
  {
   "cell_type": "code",
   "execution_count": 14,
   "id": "43958ee5-d392-4a1f-a017-eb1e32bb2bbe",
   "metadata": {
    "tags": []
   },
   "outputs": [
    {
     "data": {
      "text/html": [
       "<div>\n",
       "<style scoped>\n",
       "    .dataframe tbody tr th:only-of-type {\n",
       "        vertical-align: middle;\n",
       "    }\n",
       "\n",
       "    .dataframe tbody tr th {\n",
       "        vertical-align: top;\n",
       "    }\n",
       "\n",
       "    .dataframe thead th {\n",
       "        text-align: right;\n",
       "    }\n",
       "</style>\n",
       "<table border=\"1\" class=\"dataframe\">\n",
       "  <thead>\n",
       "    <tr style=\"text-align: right;\">\n",
       "      <th></th>\n",
       "      <th>Project</th>\n",
       "      <th>Title</th>\n",
       "      <th>Total</th>\n",
       "      <th>Bridge Key</th>\n",
       "      <th>STRUCTURE_NUMBER_008</th>\n",
       "      <th>BridgeCondition</th>\n",
       "      <th>SimpleOwner</th>\n",
       "    </tr>\n",
       "  </thead>\n",
       "  <tbody>\n",
       "    <tr>\n",
       "      <th>0</th>\n",
       "      <td>27138</td>\n",
       "      <td>S. Millvale Avenue Bridge</td>\n",
       "      <td>10400000</td>\n",
       "      <td>000000000002452</td>\n",
       "      <td>000000000002452</td>\n",
       "      <td>F</td>\n",
       "      <td>Municipal</td>\n",
       "    </tr>\n",
       "    <tr>\n",
       "      <th>1</th>\n",
       "      <td>27144</td>\n",
       "      <td>28th Street Bridge</td>\n",
       "      <td>10015600</td>\n",
       "      <td>000000000002461</td>\n",
       "      <td>000000000002461</td>\n",
       "      <td>P</td>\n",
       "      <td>Municipal</td>\n",
       "    </tr>\n",
       "    <tr>\n",
       "      <th>2</th>\n",
       "      <td>27303</td>\n",
       "      <td>Ansonia Place Bridge</td>\n",
       "      <td>440000</td>\n",
       "      <td>000000000002395</td>\n",
       "      <td>000000000002395</td>\n",
       "      <td>P</td>\n",
       "      <td>Municipal</td>\n",
       "    </tr>\n",
       "    <tr>\n",
       "      <th>3</th>\n",
       "      <td>27306</td>\n",
       "      <td>Lowrie Street Bridge</td>\n",
       "      <td>680000</td>\n",
       "      <td>000000000002421</td>\n",
       "      <td>000000000002421</td>\n",
       "      <td>F</td>\n",
       "      <td>Municipal</td>\n",
       "    </tr>\n",
       "    <tr>\n",
       "      <th>4</th>\n",
       "      <td>27316</td>\n",
       "      <td>AL Local BPRS Group 2</td>\n",
       "      <td>2864000</td>\n",
       "      <td>000000000002631</td>\n",
       "      <td>000000000002631</td>\n",
       "      <td>P</td>\n",
       "      <td>County</td>\n",
       "    </tr>\n",
       "    <tr>\n",
       "      <th>...</th>\n",
       "      <td>...</td>\n",
       "      <td>...</td>\n",
       "      <td>...</td>\n",
       "      <td>...</td>\n",
       "      <td>...</td>\n",
       "      <td>...</td>\n",
       "      <td>...</td>\n",
       "    </tr>\n",
       "    <tr>\n",
       "      <th>84</th>\n",
       "      <td>117368</td>\n",
       "      <td>Corley St Bridge</td>\n",
       "      <td>601600</td>\n",
       "      <td>000000000002414</td>\n",
       "      <td>000000000002414</td>\n",
       "      <td>P</td>\n",
       "      <td>Municipal</td>\n",
       "    </tr>\n",
       "    <tr>\n",
       "      <th>85</th>\n",
       "      <td>117369</td>\n",
       "      <td>Calera St Bridge Replacement</td>\n",
       "      <td>792000</td>\n",
       "      <td>000000000002399</td>\n",
       "      <td>000000000002399</td>\n",
       "      <td>P</td>\n",
       "      <td>Municipal</td>\n",
       "    </tr>\n",
       "    <tr>\n",
       "      <th>86</th>\n",
       "      <td>117473</td>\n",
       "      <td>Steen Road Bridge</td>\n",
       "      <td>3840000</td>\n",
       "      <td>000000000002113</td>\n",
       "      <td>000000000002113</td>\n",
       "      <td>P</td>\n",
       "      <td>Municipal</td>\n",
       "    </tr>\n",
       "    <tr>\n",
       "      <th>87</th>\n",
       "      <td>117800</td>\n",
       "      <td>Taylor Ave Over Dirty Camp Run</td>\n",
       "      <td>680000</td>\n",
       "      <td>000000000002660</td>\n",
       "      <td>000000000002660</td>\n",
       "      <td>P</td>\n",
       "      <td>Municipal</td>\n",
       "    </tr>\n",
       "    <tr>\n",
       "      <th>88</th>\n",
       "      <td>117889</td>\n",
       "      <td>California Avenue Bridge</td>\n",
       "      <td>20000000</td>\n",
       "      <td>000000000002834</td>\n",
       "      <td>000000000002834</td>\n",
       "      <td>F</td>\n",
       "      <td>State</td>\n",
       "    </tr>\n",
       "  </tbody>\n",
       "</table>\n",
       "<p>89 rows × 7 columns</p>\n",
       "</div>"
      ],
      "text/plain": [
       "    Project                           Title     Total       Bridge Key  \\\n",
       "0     27138       S. Millvale Avenue Bridge  10400000  000000000002452   \n",
       "1     27144              28th Street Bridge  10015600  000000000002461   \n",
       "2     27303            Ansonia Place Bridge    440000  000000000002395   \n",
       "3     27306            Lowrie Street Bridge    680000  000000000002421   \n",
       "4     27316           AL Local BPRS Group 2   2864000  000000000002631   \n",
       "..      ...                             ...       ...              ...   \n",
       "84   117368                Corley St Bridge    601600  000000000002414   \n",
       "85   117369    Calera St Bridge Replacement    792000  000000000002399   \n",
       "86   117473               Steen Road Bridge   3840000  000000000002113   \n",
       "87   117800  Taylor Ave Over Dirty Camp Run    680000  000000000002660   \n",
       "88   117889        California Avenue Bridge  20000000  000000000002834   \n",
       "\n",
       "   STRUCTURE_NUMBER_008 BridgeCondition SimpleOwner  \n",
       "0       000000000002452               F   Municipal  \n",
       "1       000000000002461               P   Municipal  \n",
       "2       000000000002395               P   Municipal  \n",
       "3       000000000002421               F   Municipal  \n",
       "4       000000000002631               P      County  \n",
       "..                  ...             ...         ...  \n",
       "84      000000000002414               P   Municipal  \n",
       "85      000000000002399               P   Municipal  \n",
       "86      000000000002113               P   Municipal  \n",
       "87      000000000002660               P   Municipal  \n",
       "88      000000000002834               F       State  \n",
       "\n",
       "[89 rows x 7 columns]"
      ]
     },
     "execution_count": 14,
     "metadata": {},
     "output_type": "execute_result"
    }
   ],
   "source": [
    "projects"
   ]
  },
  {
   "cell_type": "markdown",
   "id": "fbfbff64-4f79-42ca-bfb5-6d7230f65feb",
   "metadata": {},
   "source": [
    "### Look at projects by owner, condition"
   ]
  }
 ],
 "metadata": {
  "kernelspec": {
   "display_name": "Python 3 (ipykernel)",
   "language": "python",
   "name": "python3"
  },
  "language_info": {
   "codemirror_mode": {
    "name": "ipython",
    "version": 3
   },
   "file_extension": ".py",
   "mimetype": "text/x-python",
   "name": "python",
   "nbconvert_exporter": "python",
   "pygments_lexer": "ipython3",
   "version": "3.10.9"
  }
 },
 "nbformat": 4,
 "nbformat_minor": 5
}
