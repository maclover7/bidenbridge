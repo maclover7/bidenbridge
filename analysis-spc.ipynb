{
 "cells": [
  {
   "cell_type": "markdown",
   "id": "c419ede0-62ae-4132-9aff-361db8df92f0",
   "metadata": {},
   "source": [
    "# Analyze SPC construction projects"
   ]
  },
  {
   "cell_type": "code",
   "execution_count": 1,
   "id": "8faf09cb-36b3-46fb-9e88-37e045f34a6b",
   "metadata": {
    "tags": []
   },
   "outputs": [],
   "source": [
    "import pandas as pd"
   ]
  },
  {
   "cell_type": "markdown",
   "id": "dbeb7ed0-e9ff-41e0-9691-08bdebaee517",
   "metadata": {
    "tags": []
   },
   "source": [
    "### Import latest NBI data"
   ]
  },
  {
   "cell_type": "code",
   "execution_count": 2,
   "id": "79c36c46-032c-4dc9-b033-682ebe2651a2",
   "metadata": {
    "tags": []
   },
   "outputs": [],
   "source": [
    "nbi = pd.read_csv('output/nbi2022-formatted.csv')"
   ]
  },
  {
   "cell_type": "code",
   "execution_count": 3,
   "id": "27d14201-fc1b-43ee-bb21-6ab5398bf628",
   "metadata": {
    "tags": []
   },
   "outputs": [
    {
     "name": "stdout",
     "output_type": "stream",
     "text": [
      "<class 'pandas.core.frame.DataFrame'>\n",
      "RangeIndex: 4788 entries, 0 to 4787\n",
      "Data columns (total 3 columns):\n",
      " #   Column                Non-Null Count  Dtype \n",
      "---  ------                --------------  ----- \n",
      " 0   STRUCTURE_NUMBER_008  4788 non-null   object\n",
      " 1   BridgeCondition       4788 non-null   object\n",
      " 2   SimpleOwner           4788 non-null   object\n",
      "dtypes: object(3)\n",
      "memory usage: 112.3+ KB\n"
     ]
    }
   ],
   "source": [
    "nbi.info()"
   ]
  },
  {
   "cell_type": "markdown",
   "id": "ba857cc4-cb90-40cb-9195-656e6de560bf",
   "metadata": {},
   "source": [
    "### Import construction projects"
   ]
  },
  {
   "cell_type": "code",
   "execution_count": 4,
   "id": "727a24ad-0206-4f1a-bcb9-253f57938efd",
   "metadata": {
    "tags": []
   },
   "outputs": [],
   "source": [
    "projects = pd.read_csv('input/projects.csv')\n",
    "projects = projects.rename(columns={' Total ': 'Total'})\n",
    "projects['BRIDGE KEY'] = projects['BRIDGE KEY'].astype(str).str.zfill(15)"
   ]
  },
  {
   "cell_type": "code",
   "execution_count": 5,
   "id": "f028dec7-43a5-4195-b921-f5f0270a8b50",
   "metadata": {
    "tags": []
   },
   "outputs": [
    {
     "name": "stdout",
     "output_type": "stream",
     "text": [
      "<class 'pandas.core.frame.DataFrame'>\n",
      "RangeIndex: 1013 entries, 0 to 1012\n",
      "Data columns (total 23 columns):\n",
      " #   Column            Non-Null Count  Dtype  \n",
      "---  ------            --------------  -----  \n",
      " 0   ID                1013 non-null   int64  \n",
      " 1   Planning Partner  1013 non-null   object \n",
      " 2   District          1013 non-null   int64  \n",
      " 3   County            1013 non-null   object \n",
      " 4   Project           1013 non-null   int64  \n",
      " 5   Title             1013 non-null   object \n",
      " 6   SR                975 non-null    float64\n",
      " 7   Sec               1001 non-null   object \n",
      " 8   Project Class     1013 non-null   object \n",
      " 9   BRIDGE KEY        1013 non-null   object \n",
      " 10  UDF Narrative     11 non-null     object \n",
      " 11  Phase             1013 non-null   object \n",
      " 12  Fund              1013 non-null   object \n",
      " 13   2023 Tot         1013 non-null   object \n",
      " 14   2024 Tot         1013 non-null   object \n",
      " 15   2025 Tot         1013 non-null   object \n",
      " 16   2026 Tot         1013 non-null   object \n",
      " 17   2027 Tot         1013 non-null   object \n",
      " 18   2028 Tot         1013 non-null   object \n",
      " 19   2029 Tot         1013 non-null   object \n",
      " 20   2030 Tot         1013 non-null   object \n",
      " 21   2031-34 Tot      1013 non-null   object \n",
      " 22  Total             1013 non-null   object \n",
      "dtypes: float64(1), int64(3), object(19)\n",
      "memory usage: 182.1+ KB\n"
     ]
    }
   ],
   "source": [
    "projects.info()"
   ]
  },
  {
   "cell_type": "code",
   "execution_count": 6,
   "id": "24cc67fe-e5a7-42c7-bcec-c13b576c6a93",
   "metadata": {
    "tags": []
   },
   "outputs": [],
   "source": [
    "projects['Total'] = projects.Total.str.replace('$', '', regex=False)\n",
    "projects['Total'] = projects.Total.str.replace(',', '')\n",
    "projects['Total'] = projects.Total.astype(float).astype(int)"
   ]
  },
  {
   "cell_type": "code",
   "execution_count": 7,
   "id": "bb17a113-aace-4b23-98b2-b6a78b2d16dd",
   "metadata": {
    "tags": []
   },
   "outputs": [],
   "source": [
    "projects = projects.groupby(['Project', 'BRIDGE KEY', 'Title']).Total.aggregate('sum').to_frame().reset_index()"
   ]
  },
  {
   "cell_type": "markdown",
   "id": "7f177199-bf9d-428d-8257-8562767cf027",
   "metadata": {},
   "source": [
    "### Merge projects and NBI data"
   ]
  },
  {
   "cell_type": "code",
   "execution_count": 8,
   "id": "654ae25d-1dc8-486c-ac37-f6078dc804c0",
   "metadata": {
    "tags": []
   },
   "outputs": [],
   "source": [
    "projects = pd.merge(projects, nbi, left_on='BRIDGE KEY', right_on='STRUCTURE_NUMBER_008')"
   ]
  },
  {
   "cell_type": "code",
   "execution_count": 9,
   "id": "43958ee5-d392-4a1f-a017-eb1e32bb2bbe",
   "metadata": {
    "tags": []
   },
   "outputs": [
    {
     "data": {
      "text/html": [
       "<div>\n",
       "<style scoped>\n",
       "    .dataframe tbody tr th:only-of-type {\n",
       "        vertical-align: middle;\n",
       "    }\n",
       "\n",
       "    .dataframe tbody tr th {\n",
       "        vertical-align: top;\n",
       "    }\n",
       "\n",
       "    .dataframe thead th {\n",
       "        text-align: right;\n",
       "    }\n",
       "</style>\n",
       "<table border=\"1\" class=\"dataframe\">\n",
       "  <thead>\n",
       "    <tr style=\"text-align: right;\">\n",
       "      <th></th>\n",
       "      <th>Project</th>\n",
       "      <th>BRIDGE KEY</th>\n",
       "      <th>Title</th>\n",
       "      <th>Total</th>\n",
       "      <th>STRUCTURE_NUMBER_008</th>\n",
       "      <th>BridgeCondition</th>\n",
       "      <th>SimpleOwner</th>\n",
       "    </tr>\n",
       "  </thead>\n",
       "  <tbody>\n",
       "    <tr>\n",
       "      <th>0</th>\n",
       "      <td>23833</td>\n",
       "      <td>000000000003378</td>\n",
       "      <td>T-466 Saint Charles Br.</td>\n",
       "      <td>4306000</td>\n",
       "      <td>000000000003378</td>\n",
       "      <td>P</td>\n",
       "      <td>County</td>\n",
       "    </tr>\n",
       "    <tr>\n",
       "      <th>1</th>\n",
       "      <td>23978</td>\n",
       "      <td>000000000003085</td>\n",
       "      <td>Graff Bridge Preservation</td>\n",
       "      <td>10620400</td>\n",
       "      <td>000000000003085</td>\n",
       "      <td>F</td>\n",
       "      <td>State</td>\n",
       "    </tr>\n",
       "    <tr>\n",
       "      <th>2</th>\n",
       "      <td>24014</td>\n",
       "      <td>000000000003182</td>\n",
       "      <td>Elgin Cemetery Bridge</td>\n",
       "      <td>1500000</td>\n",
       "      <td>000000000003182</td>\n",
       "      <td>F</td>\n",
       "      <td>State</td>\n",
       "    </tr>\n",
       "    <tr>\n",
       "      <th>3</th>\n",
       "      <td>24135</td>\n",
       "      <td>000000000003178</td>\n",
       "      <td>Pyra Road Bridge</td>\n",
       "      <td>2738500</td>\n",
       "      <td>000000000003178</td>\n",
       "      <td>P</td>\n",
       "      <td>State</td>\n",
       "    </tr>\n",
       "    <tr>\n",
       "      <th>4</th>\n",
       "      <td>24136</td>\n",
       "      <td>000000000003177</td>\n",
       "      <td>Brick Church Bridge #2</td>\n",
       "      <td>2151500</td>\n",
       "      <td>000000000003177</td>\n",
       "      <td>P</td>\n",
       "      <td>State</td>\n",
       "    </tr>\n",
       "    <tr>\n",
       "      <th>...</th>\n",
       "      <td>...</td>\n",
       "      <td>...</td>\n",
       "      <td>...</td>\n",
       "      <td>...</td>\n",
       "      <td>...</td>\n",
       "      <td>...</td>\n",
       "      <td>...</td>\n",
       "    </tr>\n",
       "    <tr>\n",
       "      <th>534</th>\n",
       "      <td>117652</td>\n",
       "      <td>000000000008037</td>\n",
       "      <td>Lardintown Bridge #4</td>\n",
       "      <td>1738184</td>\n",
       "      <td>000000000008037</td>\n",
       "      <td>P</td>\n",
       "      <td>State</td>\n",
       "    </tr>\n",
       "    <tr>\n",
       "      <th>535</th>\n",
       "      <td>117669</td>\n",
       "      <td>000000000003411</td>\n",
       "      <td>T-860 Beagle Club Bridge</td>\n",
       "      <td>1372900</td>\n",
       "      <td>000000000003411</td>\n",
       "      <td>P</td>\n",
       "      <td>Municipal</td>\n",
       "    </tr>\n",
       "    <tr>\n",
       "      <th>536</th>\n",
       "      <td>117682</td>\n",
       "      <td>000000000019232</td>\n",
       "      <td>Cypress Bridge</td>\n",
       "      <td>2842370</td>\n",
       "      <td>000000000019232</td>\n",
       "      <td>P</td>\n",
       "      <td>State</td>\n",
       "    </tr>\n",
       "    <tr>\n",
       "      <th>537</th>\n",
       "      <td>117685</td>\n",
       "      <td>000000000019081</td>\n",
       "      <td>First Sergeant Alexander Kelly Memorial Bridge</td>\n",
       "      <td>11516826</td>\n",
       "      <td>000000000019081</td>\n",
       "      <td>P</td>\n",
       "      <td>State</td>\n",
       "    </tr>\n",
       "    <tr>\n",
       "      <th>538</th>\n",
       "      <td>117889</td>\n",
       "      <td>000000000002423</td>\n",
       "      <td>California Avenue Bridge</td>\n",
       "      <td>20000000</td>\n",
       "      <td>000000000002423</td>\n",
       "      <td>F</td>\n",
       "      <td>Municipal</td>\n",
       "    </tr>\n",
       "  </tbody>\n",
       "</table>\n",
       "<p>539 rows × 7 columns</p>\n",
       "</div>"
      ],
      "text/plain": [
       "     Project       BRIDGE KEY                                           Title  \\\n",
       "0      23833  000000000003378                         T-466 Saint Charles Br.   \n",
       "1      23978  000000000003085                       Graff Bridge Preservation   \n",
       "2      24014  000000000003182                           Elgin Cemetery Bridge   \n",
       "3      24135  000000000003178                                Pyra Road Bridge   \n",
       "4      24136  000000000003177                          Brick Church Bridge #2   \n",
       "..       ...              ...                                             ...   \n",
       "534   117652  000000000008037                            Lardintown Bridge #4   \n",
       "535   117669  000000000003411                        T-860 Beagle Club Bridge   \n",
       "536   117682  000000000019232                                  Cypress Bridge   \n",
       "537   117685  000000000019081  First Sergeant Alexander Kelly Memorial Bridge   \n",
       "538   117889  000000000002423                        California Avenue Bridge   \n",
       "\n",
       "        Total STRUCTURE_NUMBER_008 BridgeCondition SimpleOwner  \n",
       "0     4306000      000000000003378               P      County  \n",
       "1    10620400      000000000003085               F       State  \n",
       "2     1500000      000000000003182               F       State  \n",
       "3     2738500      000000000003178               P       State  \n",
       "4     2151500      000000000003177               P       State  \n",
       "..        ...                  ...             ...         ...  \n",
       "534   1738184      000000000008037               P       State  \n",
       "535   1372900      000000000003411               P   Municipal  \n",
       "536   2842370      000000000019232               P       State  \n",
       "537  11516826      000000000019081               P       State  \n",
       "538  20000000      000000000002423               F   Municipal  \n",
       "\n",
       "[539 rows x 7 columns]"
      ]
     },
     "execution_count": 9,
     "metadata": {},
     "output_type": "execute_result"
    }
   ],
   "source": [
    "projects"
   ]
  },
  {
   "cell_type": "markdown",
   "id": "fbfbff64-4f79-42ca-bfb5-6d7230f65feb",
   "metadata": {},
   "source": [
    "### Look at bridges by owner, condition"
   ]
  },
  {
   "cell_type": "code",
   "execution_count": 10,
   "id": "5d1a8aae-3a99-40a5-976d-58cd81f05247",
   "metadata": {
    "tags": []
   },
   "outputs": [],
   "source": [
    "nbipiv = pd.pivot_table(nbi[['SimpleOwner', 'BridgeCondition']], index=['SimpleOwner'], columns='BridgeCondition', values='BridgeCondition', aggfunc='size')\n",
    "nbipiv['Total'] = nbipiv.sum(axis=1)"
   ]
  },
  {
   "cell_type": "code",
   "execution_count": 11,
   "id": "362b3657-09c5-4838-a670-8b1da268585b",
   "metadata": {
    "tags": []
   },
   "outputs": [],
   "source": [
    "nbipiv['P%'] = 100 * (nbipiv.P / nbipiv.Total)\n",
    "nbipiv['P%_total'] = 100 * (nbipiv.P / nbipiv.P.sum())"
   ]
  },
  {
   "cell_type": "code",
   "execution_count": 12,
   "id": "d8ba5b74-01f6-421a-8bd8-1f899f18086d",
   "metadata": {
    "tags": []
   },
   "outputs": [
    {
     "data": {
      "text/html": [
       "<div>\n",
       "<style scoped>\n",
       "    .dataframe tbody tr th:only-of-type {\n",
       "        vertical-align: middle;\n",
       "    }\n",
       "\n",
       "    .dataframe tbody tr th {\n",
       "        vertical-align: top;\n",
       "    }\n",
       "\n",
       "    .dataframe thead th {\n",
       "        text-align: right;\n",
       "    }\n",
       "</style>\n",
       "<table border=\"1\" class=\"dataframe\">\n",
       "  <thead>\n",
       "    <tr style=\"text-align: right;\">\n",
       "      <th>BridgeCondition</th>\n",
       "      <th>F</th>\n",
       "      <th>G</th>\n",
       "      <th>P</th>\n",
       "      <th>Total</th>\n",
       "      <th>P%</th>\n",
       "      <th>P%_total</th>\n",
       "    </tr>\n",
       "    <tr>\n",
       "      <th>SimpleOwner</th>\n",
       "      <th></th>\n",
       "      <th></th>\n",
       "      <th></th>\n",
       "      <th></th>\n",
       "      <th></th>\n",
       "      <th></th>\n",
       "    </tr>\n",
       "  </thead>\n",
       "  <tbody>\n",
       "    <tr>\n",
       "      <th>County</th>\n",
       "      <td>341</td>\n",
       "      <td>199</td>\n",
       "      <td>133</td>\n",
       "      <td>673</td>\n",
       "      <td>19.762259</td>\n",
       "      <td>21.077655</td>\n",
       "    </tr>\n",
       "    <tr>\n",
       "      <th>Federal</th>\n",
       "      <td>1</td>\n",
       "      <td>1</td>\n",
       "      <td>1</td>\n",
       "      <td>3</td>\n",
       "      <td>33.333333</td>\n",
       "      <td>0.158479</td>\n",
       "    </tr>\n",
       "    <tr>\n",
       "      <th>Municipal</th>\n",
       "      <td>328</td>\n",
       "      <td>139</td>\n",
       "      <td>201</td>\n",
       "      <td>668</td>\n",
       "      <td>30.089820</td>\n",
       "      <td>31.854200</td>\n",
       "    </tr>\n",
       "    <tr>\n",
       "      <th>Other</th>\n",
       "      <td>33</td>\n",
       "      <td>6</td>\n",
       "      <td>21</td>\n",
       "      <td>60</td>\n",
       "      <td>35.000000</td>\n",
       "      <td>3.328051</td>\n",
       "    </tr>\n",
       "    <tr>\n",
       "      <th>State</th>\n",
       "      <td>1793</td>\n",
       "      <td>1316</td>\n",
       "      <td>275</td>\n",
       "      <td>3384</td>\n",
       "      <td>8.126478</td>\n",
       "      <td>43.581616</td>\n",
       "    </tr>\n",
       "  </tbody>\n",
       "</table>\n",
       "</div>"
      ],
      "text/plain": [
       "BridgeCondition     F     G    P  Total         P%   P%_total\n",
       "SimpleOwner                                                  \n",
       "County            341   199  133    673  19.762259  21.077655\n",
       "Federal             1     1    1      3  33.333333   0.158479\n",
       "Municipal         328   139  201    668  30.089820  31.854200\n",
       "Other              33     6   21     60  35.000000   3.328051\n",
       "State            1793  1316  275   3384   8.126478  43.581616"
      ]
     },
     "execution_count": 12,
     "metadata": {},
     "output_type": "execute_result"
    }
   ],
   "source": [
    "nbipiv"
   ]
  },
  {
   "cell_type": "markdown",
   "id": "8863d46e-2762-4663-b10e-728554cfc2bb",
   "metadata": {},
   "source": [
    "### Look at projects by bridge owner, total cost"
   ]
  },
  {
   "cell_type": "code",
   "execution_count": 13,
   "id": "86bf90af-c106-46b5-8bb3-385a84116655",
   "metadata": {
    "tags": []
   },
   "outputs": [
    {
     "data": {
      "text/html": [
       "<div>\n",
       "<style scoped>\n",
       "    .dataframe tbody tr th:only-of-type {\n",
       "        vertical-align: middle;\n",
       "    }\n",
       "\n",
       "    .dataframe tbody tr th {\n",
       "        vertical-align: top;\n",
       "    }\n",
       "\n",
       "    .dataframe thead th {\n",
       "        text-align: right;\n",
       "    }\n",
       "</style>\n",
       "<table border=\"1\" class=\"dataframe\">\n",
       "  <thead>\n",
       "    <tr style=\"text-align: right;\">\n",
       "      <th></th>\n",
       "      <th>Total</th>\n",
       "      <th>%_Total</th>\n",
       "    </tr>\n",
       "    <tr>\n",
       "      <th>SimpleOwner</th>\n",
       "      <th></th>\n",
       "      <th></th>\n",
       "    </tr>\n",
       "  </thead>\n",
       "  <tbody>\n",
       "    <tr>\n",
       "      <th>County</th>\n",
       "      <td>178926224</td>\n",
       "      <td>0.085674</td>\n",
       "    </tr>\n",
       "    <tr>\n",
       "      <th>Municipal</th>\n",
       "      <td>181335464</td>\n",
       "      <td>0.086827</td>\n",
       "    </tr>\n",
       "    <tr>\n",
       "      <th>Other</th>\n",
       "      <td>2680000</td>\n",
       "      <td>0.001283</td>\n",
       "    </tr>\n",
       "    <tr>\n",
       "      <th>State</th>\n",
       "      <td>1725518641</td>\n",
       "      <td>0.826216</td>\n",
       "    </tr>\n",
       "  </tbody>\n",
       "</table>\n",
       "</div>"
      ],
      "text/plain": [
       "                  Total   %_Total\n",
       "SimpleOwner                      \n",
       "County        178926224  0.085674\n",
       "Municipal     181335464  0.086827\n",
       "Other           2680000  0.001283\n",
       "State        1725518641  0.826216"
      ]
     },
     "execution_count": 13,
     "metadata": {},
     "output_type": "execute_result"
    }
   ],
   "source": [
    "projcost = projects.groupby('SimpleOwner').Total.sum().to_frame()\n",
    "projcost['%_Total'] = projcost.Total / projcost.Total.sum()\n",
    "projcost"
   ]
  },
  {
   "cell_type": "markdown",
   "id": "6efc8efd-ad4b-417c-8024-a62828dbb832",
   "metadata": {},
   "source": [
    "### Look at projects by bridge owner, condition"
   ]
  },
  {
   "cell_type": "code",
   "execution_count": 14,
   "id": "39aaea7d-bf2d-44db-b31f-0bdba7f19d65",
   "metadata": {
    "tags": []
   },
   "outputs": [
    {
     "data": {
      "text/html": [
       "<div>\n",
       "<style scoped>\n",
       "    .dataframe tbody tr th:only-of-type {\n",
       "        vertical-align: middle;\n",
       "    }\n",
       "\n",
       "    .dataframe tbody tr th {\n",
       "        vertical-align: top;\n",
       "    }\n",
       "\n",
       "    .dataframe thead th {\n",
       "        text-align: right;\n",
       "    }\n",
       "</style>\n",
       "<table border=\"1\" class=\"dataframe\">\n",
       "  <thead>\n",
       "    <tr style=\"text-align: right;\">\n",
       "      <th>BridgeCondition</th>\n",
       "      <th>F</th>\n",
       "      <th>G</th>\n",
       "      <th>P</th>\n",
       "    </tr>\n",
       "    <tr>\n",
       "      <th>SimpleOwner</th>\n",
       "      <th></th>\n",
       "      <th></th>\n",
       "      <th></th>\n",
       "    </tr>\n",
       "  </thead>\n",
       "  <tbody>\n",
       "    <tr>\n",
       "      <th>County</th>\n",
       "      <td>22.0</td>\n",
       "      <td>1.0</td>\n",
       "      <td>26.0</td>\n",
       "    </tr>\n",
       "    <tr>\n",
       "      <th>Municipal</th>\n",
       "      <td>7.0</td>\n",
       "      <td>NaN</td>\n",
       "      <td>35.0</td>\n",
       "    </tr>\n",
       "    <tr>\n",
       "      <th>Other</th>\n",
       "      <td>1.0</td>\n",
       "      <td>NaN</td>\n",
       "      <td>1.0</td>\n",
       "    </tr>\n",
       "    <tr>\n",
       "      <th>State</th>\n",
       "      <td>269.0</td>\n",
       "      <td>79.0</td>\n",
       "      <td>98.0</td>\n",
       "    </tr>\n",
       "  </tbody>\n",
       "</table>\n",
       "</div>"
      ],
      "text/plain": [
       "BridgeCondition      F     G     P\n",
       "SimpleOwner                       \n",
       "County            22.0   1.0  26.0\n",
       "Municipal          7.0   NaN  35.0\n",
       "Other              1.0   NaN   1.0\n",
       "State            269.0  79.0  98.0"
      ]
     },
     "execution_count": 14,
     "metadata": {},
     "output_type": "execute_result"
    }
   ],
   "source": [
    "pd.pivot_table(projects[['SimpleOwner', 'BridgeCondition']], index=['SimpleOwner'], columns='BridgeCondition', values='BridgeCondition', aggfunc='size')"
   ]
  }
 ],
 "metadata": {
  "kernelspec": {
   "display_name": "Python 3 (ipykernel)",
   "language": "python",
   "name": "python3"
  },
  "language_info": {
   "codemirror_mode": {
    "name": "ipython",
    "version": 3
   },
   "file_extension": ".py",
   "mimetype": "text/x-python",
   "name": "python",
   "nbconvert_exporter": "python",
   "pygments_lexer": "ipython3",
   "version": "3.10.9"
  }
 },
 "nbformat": 4,
 "nbformat_minor": 5
}
